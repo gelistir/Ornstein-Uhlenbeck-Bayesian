{
 "cells": [
  {
   "cell_type": "code",
   "execution_count": 1,
   "metadata": {},
   "outputs": [
    {
     "name": "stdout",
     "output_type": "stream",
     "text": [
      "['seaborn-dark', 'seaborn-darkgrid', 'seaborn-ticks', 'fivethirtyeight', 'seaborn-whitegrid', 'classic', '_classic_test', 'fast', 'seaborn-talk', 'seaborn-dark-palette', 'seaborn-bright', 'seaborn-pastel', 'grayscale', 'seaborn-notebook', 'ggplot', 'seaborn-colorblind', 'seaborn-muted', 'seaborn', 'Solarize_Light2', 'seaborn-paper', 'bmh', 'tableau-colorblind10', 'seaborn-white', 'dark_background', 'seaborn-poster', 'seaborn-deep']\n"
     ]
    }
   ],
   "source": [
    "%matplotlib inline\n",
    "import numpy as np\n",
    "import matplotlib.pyplot as plt\n",
    "import pandas as pd\n",
    "import pymc3 as pm\n",
    "import langevin\n",
    "import langevin_cached_model as lcm\n",
    "import lmfit as lm\n",
    "from lmfit.models import ExponentialModel\n",
    "from scipy.stats import pearsonr\n",
    "from scipy.optimize import minimize_scalar\n",
    "import theano.tensor as tt\n",
    "\n",
    "\n",
    "SMALL_SIZE = 16\n",
    "MEDIUM_SIZE = 18\n",
    "BIGGER_SIZE = 20\n",
    "\n",
    "plt.rc('font', size=SMALL_SIZE)          # controls default text sizes\n",
    "plt.rc('axes', titlesize=SMALL_SIZE)     # fontsize of the axes title\n",
    "plt.rc('axes', labelsize=MEDIUM_SIZE)    # fontsize of the x and y labels\n",
    "plt.rc('xtick', labelsize=SMALL_SIZE)    # fontsize of the tick labels\n",
    "plt.rc('ytick', labelsize=SMALL_SIZE)    # fontsize of the tick labels\n",
    "plt.rc('legend', fontsize=SMALL_SIZE)    # legend fontsize\n",
    "plt.rc('figure', titlesize=BIGGER_SIZE)  # fontsize of the figure title\n",
    "\n",
    "SEED = 35010732 # from random.org\n",
    "np.random.seed(SEED)\n",
    "\n",
    "print(plt.style.available)\n",
    "plt.style.use('seaborn-white')"
   ]
  },
  {
   "cell_type": "code",
   "execution_count": 2,
   "metadata": {},
   "outputs": [],
   "source": [
    "# function to calculate A and B from the dataset\n",
    "def OUanalytic1(data):\n",
    "    N = data.size\n",
    "    data1sq = data[0]**2\n",
    "    dataNsq = data[-1]**2\n",
    "    datasq = np.sum(data[1:-1]**2)\n",
    "    datacorr = np.sum(data[0:-1]*data[1:])\n",
    "    coef = [(N-1)*datasq,\n",
    "       (2.0-N)*datacorr,\n",
    "       -data1sq-(N+1)*datasq-dataNsq,\n",
    "       N*datacorr]\n",
    "    B=np.roots(coef)[-1]\n",
    "    Q=(data1sq+dataNsq)/(1-B**2)\n",
    "    Q=Q+datasq*(1+B**2)/(1-B**2)\n",
    "    Q=Q-datacorr*2*B/(1-B**2)\n",
    "    A = Q/N\n",
    "    P2A = -N/2/A**2\n",
    "    Btmp = (N-1)*(1+B**2)/(1-B**2)**2\n",
    "    tmp = (2+6*B**2)*(data1sq+dataNsq) + (4+12*B**2)*datasq - (12*B+4*B**3)*datacorr\n",
    "    P2B = Btmp - tmp/A/2/(1-B**2)**3\n",
    "    PAB = (N-1)*B/A/(1-B**2)\n",
    "    dA = np.sqrt(-P2B/(P2A*P2B-PAB**2))\n",
    "    dB = np.sqrt(-P2A/(P2A*P2B-PAB**2))\n",
    "    return A,dA,B,dB\n",
    "\n",
    "def OUresult1(data,deltat):\n",
    "    A, dA, B ,dB = OUanalytic1(data)\n",
    "    tau = -deltat/np.log(B)\n",
    "    dtau = deltat*dB/B/np.log(B)**2\n",
    "    return A,dA,tau,dtau"
   ]
  },
  {
   "cell_type": "code",
   "execution_count": 3,
   "metadata": {},
   "outputs": [],
   "source": [
    "# function to calculate A and B from the dataset\n",
    "def OUanalytic2(data):\n",
    "    N = data.size\n",
    "    data1sq = data[0]**2\n",
    "    dataNsq = data[-1]**2\n",
    "    datasq = np.sum(data[1:-1]**2)\n",
    "    datacorr = np.sum(data[0:-1]*data[1:])\n",
    "    coef = [(N-1)*datasq,\n",
    "       (2.0-N)*datacorr,\n",
    "       -data1sq-(N+1)*datasq-dataNsq,\n",
    "       N*datacorr]\n",
    "    B=np.roots(coef)[-1]\n",
    "    Q=(data1sq+dataNsq)/(1-B**2)\n",
    "    Q=Q+datasq*(1+B**2)/(1-B**2)\n",
    "    Q=Q-datacorr*2*B/(1-B**2)\n",
    "    A = Q/N\n",
    "    P2A = -N/A**2/2\n",
    "    Btmp = B**2*(1+2*N)\n",
    "    tmp = (1+Btmp)*(data1sq+dataNsq) + (2*Btmp + N + 1 -B**4*(N-1))*datasq - 2*B*(1+B**2+2*N)*datacorr\n",
    "    P2B = -tmp/((1-B**2)**2*(data1sq+dataNsq + (1+B**2)*datasq - 2*B*datacorr))\n",
    "    PAB = (N-1)*B/A/(1-B**2)\n",
    "    dA = np.sqrt(-P2B/(P2A*P2B-PAB**2))\n",
    "    dB = np.sqrt(-P2A/(P2A*P2B-PAB**2))\n",
    "    return A,dA,B,dB\n",
    "\n",
    "def OUresult2(data,deltat):\n",
    "    A, dA, B ,dB = OUanalytic2(data)\n",
    "    tau = -deltat/np.log(B)\n",
    "    dtau = deltat*dB/B/np.log(B)**2\n",
    "    return A,dA,tau,dtau"
   ]
  },
  {
   "cell_type": "code",
   "execution_count": 4,
   "metadata": {},
   "outputs": [],
   "source": [
    "class Ornstein_Uhlenbeck(pm.Continuous):\n",
    "    \"\"\"\n",
    "    Ornstein-Uhlenbeck Process\n",
    "    Parameters\n",
    "    ----------\n",
    "    B : tensor\n",
    "        B > 0, B = exp(-(D/A)*delta_t)\n",
    "    A : tensor\n",
    "        A > 0, amplitude of fluctuation <x**2>=A\n",
    "    delta_t: scalar\n",
    "        delta_t > 0, time step\n",
    "    \"\"\"\n",
    "\n",
    "    def __init__(self, A=None, B=None,\n",
    "                 *args, **kwargs):\n",
    "        super(Ornstein_Uhlenbeck, self).__init__(*args, **kwargs)\n",
    "        self.A = A\n",
    "        self.B = B\n",
    "        self.mean = 0.\n",
    "\n",
    "    def logp(self, x):\n",
    "        A = self.A\n",
    "        B = self.B\n",
    "\n",
    "        x_im1 = x[:-1]\n",
    "        x_i = x[1:]\n",
    "\n",
    "        ou_like = pm.Normal.dist(mu=x_im1*B, tau=1.0/A/(1-B**2)).logp(x_i)\n",
    "        return pm.Normal.dist(mu=0.0,tau=1.0/A).logp(x[0]) + tt.sum(ou_like)\n"
   ]
  },
  {
   "cell_type": "code",
   "execution_count": 5,
   "metadata": {},
   "outputs": [],
   "source": [
    "A,D = 1.0, 0.1\n",
    "tau_real = A/D\n",
    "delta_t_list=np.linspace(0.01,20,50)\n",
    "#M=1000 # number of data sets\n",
    "N=50000 # length of data set\n",
    "#print(np.exp(-delta_t*D/A))"
   ]
  },
  {
   "cell_type": "code",
   "execution_count": 6,
   "metadata": {},
   "outputs": [],
   "source": [
    "# let us first calculate the standard deviation for each point of the acf\n",
    "# all acfs are stored in acf_all for later analysis\n",
    "\n",
    "result_Bayes_array = None\n",
    "for delta_t in delta_t_list:\n",
    "    data = langevin.time_series(A=A, D=D, delta_t=delta_t, N=N)\n",
    "    \n",
    "    results = OUresult1(data,delta_t)\n",
    "    if result_Bayes_array is None:\n",
    "        result_Bayes_array = results\n",
    "    else:\n",
    "        result_Bayes_array = np.vstack((result_Bayes_array, results))"
   ]
  },
  {
   "cell_type": "code",
   "execution_count": 7,
   "metadata": {},
   "outputs": [
    {
     "data": {
      "text/plain": [
       "[<matplotlib.lines.Line2D at 0x1c1cafe080>]"
      ]
     },
     "execution_count": 7,
     "metadata": {},
     "output_type": "execute_result"
    },
    {
     "data": {
      "image/png": "[encoded data removed]",
      "text/plain": [
       "<Figure size 432x288 with 1 Axes>"
      ]
     },
     "metadata": {
      "needs_background": "light"
     },
     "output_type": "display_data"
    }
   ],
   "source": [
    "plt.semilogy(delta_t_list/tau_real,result_Bayes_array.T[3])"
   ]
  },
  {
   "cell_type": "code",
   "execution_count": 8,
   "metadata": {},
   "outputs": [
    {
     "data": {
      "text/plain": [
       "[<matplotlib.lines.Line2D at 0x1c1cf7b5c0>]"
      ]
     },
     "execution_count": 8,
     "metadata": {},
     "output_type": "execute_result"
    },
    {
     "data": {
      "image/png": "[encoded data removed]",
      "text/plain": [
       "<Figure size 432x288 with 1 Axes>"
      ]
     },
     "metadata": {
      "needs_background": "light"
     },
     "output_type": "display_data"
    }
   ],
   "source": [
    "plt.semilogy(delta_t_list,result_Bayes_array.T[1])"
   ]
  },
  {
   "cell_type": "code",
   "execution_count": 9,
   "metadata": {},
   "outputs": [
    {
     "name": "stdout",
     "output_type": "stream",
     "text": [
      "18.776122448979592\n"
     ]
    }
   ],
   "source": [
    "AA,DD = 1.0,0.1\n",
    "tau_real = AA/DD\n",
    "delta_t_list=np.linspace(0.01,20,50)\n",
    "#M=1000 # number of data sets\n",
    "N=50000 # length of data set\n",
    "#print(np.exp(-delta_t*D/A))\n",
    "pick_delta = -4\n",
    "print(delta_t_list[pick_delta])\n",
    "data = langevin.time_series(A=AA, D=DD, delta_t=delta_t_list[pick_delta], N=N)"
   ]
  },
  {
   "cell_type": "code",
   "execution_count": 10,
   "metadata": {},
   "outputs": [
    {
     "name": "stderr",
     "output_type": "stream",
     "text": [
      "Auto-assigning NUTS sampler...\n",
      "Initializing NUTS using jitter+adapt_diag...\n",
      "Multiprocess sampling (4 chains in 4 jobs)\n",
      "NUTS: [A, D]\n",
      "Sampling 4 chains: 100%|██████████| 120000/120000 [01:04<00:00, 1864.55draws/s]\n",
      "/Users/hstrey/anaconda3/lib/python3.6/site-packages/mkl_fft/_numpy_fft.py:1044: FutureWarning: Using a non-tuple sequence for multidimensional indexing is deprecated; use `arr[tuple(seq)]` instead of `arr[seq]`. In the future this will be interpreted as an array index, `arr[np.array(seq)]`, which will result either in an error or a different result.\n",
      "  output = mkl_fft.rfftn_numpy(a, s, axes)\n",
      "The acceptance probability does not match the target. It is 0.7084458070132127, but should be close to 0.8. Try to increase the number of tuning steps.\n"
     ]
    }
   ],
   "source": [
    "d_bound=5\n",
    "a_bound=5\n",
    "delta_t=delta_t_list[pick_delta]\n",
    "# compile model for reuse\n",
    "with pm.Model() as model:\n",
    "    D = pm.Uniform('D', lower=0, upper=d_bound)\n",
    "    A = pm.Uniform('A', lower=0, upper=a_bound)\n",
    "\n",
    "    B = pm.Deterministic('B', pm.math.exp(-delta_t * D / A))\n",
    "\n",
    "    path = Ornstein_Uhlenbeck('path',A=A, B=B, observed=data)\n",
    "    \n",
    "    trace = pm.sample(20000,tune=10000)"
   ]
  },
  {
   "cell_type": "code",
   "execution_count": 11,
   "metadata": {},
   "outputs": [
    {
     "data": {
      "image/png": "[encoded data removed]",
      "text/plain": [
       "<Figure size 864x432 with 6 Axes>"
      ]
     },
     "metadata": {
      "needs_background": "light"
     },
     "output_type": "display_data"
    }
   ],
   "source": [
    "pm.traceplot(trace)\n",
    "a_mean = trace['A'].mean()\n",
    "d_mean = trace['D'].mean()\n",
    "a_std = trace['A'].std()\n",
    "d_std = trace['D'].std()"
   ]
  },
  {
   "cell_type": "code",
   "execution_count": 12,
   "metadata": {
    "scrolled": true
   },
   "outputs": [
    {
     "name": "stdout",
     "output_type": "stream",
     "text": [
      "0.01\n"
     ]
    },
    {
     "name": "stderr",
     "output_type": "stream",
     "text": [
      "Auto-assigning NUTS sampler...\n",
      "Initializing NUTS using jitter+adapt_diag...\n",
      "Multiprocess sampling (4 chains in 4 jobs)\n",
      "NUTS: [A, D]\n",
      "Sampling 4 chains: 100%|██████████| 120000/120000 [01:07<00:00, 1787.41draws/s]\n",
      "/Users/hstrey/anaconda3/lib/python3.6/site-packages/mkl_fft/_numpy_fft.py:1044: FutureWarning: Using a non-tuple sequence for multidimensional indexing is deprecated; use `arr[tuple(seq)]` instead of `arr[seq]`. In the future this will be interpreted as an array index, `arr[np.array(seq)]`, which will result either in an error or a different result.\n",
      "  output = mkl_fft.rfftn_numpy(a, s, axes)\n",
      "There were 14 divergences after tuning. Increase `target_accept` or reparameterize.\n",
      "The acceptance probability does not match the target. It is 0.6929900224600769, but should be close to 0.8. Try to increase the number of tuning steps.\n",
      "There were 2 divergences after tuning. Increase `target_accept` or reparameterize.\n"
     ]
    },
    {
     "name": "stdout",
     "output_type": "stream",
     "text": [
      "0.41795918367346935\n"
     ]
    },
    {
     "name": "stderr",
     "output_type": "stream",
     "text": [
      "Auto-assigning NUTS sampler...\n",
      "Initializing NUTS using jitter+adapt_diag...\n",
      "Multiprocess sampling (4 chains in 4 jobs)\n",
      "NUTS: [A, D]\n",
      "Sampling 4 chains: 100%|██████████| 120000/120000 [00:52<00:00, 2291.97draws/s]\n"
     ]
    },
    {
     "name": "stdout",
     "output_type": "stream",
     "text": [
      "0.8259183673469387\n"
     ]
    },
    {
     "name": "stderr",
     "output_type": "stream",
     "text": [
      "Auto-assigning NUTS sampler...\n",
      "Initializing NUTS using jitter+adapt_diag...\n",
      "Multiprocess sampling (4 chains in 4 jobs)\n",
      "NUTS: [A, D]\n",
      "Sampling 4 chains: 100%|██████████| 120000/120000 [00:51<00:00, 2337.72draws/s]\n"
     ]
    },
    {
     "name": "stdout",
     "output_type": "stream",
     "text": [
      "1.233877551020408\n"
     ]
    },
    {
     "name": "stderr",
     "output_type": "stream",
     "text": [
      "Auto-assigning NUTS sampler...\n",
      "Initializing NUTS using jitter+adapt_diag...\n",
      "Multiprocess sampling (4 chains in 4 jobs)\n",
      "NUTS: [A, D]\n",
      "Sampling 4 chains: 100%|██████████| 120000/120000 [00:51<00:00, 2312.03draws/s]\n"
     ]
    },
    {
     "name": "stdout",
     "output_type": "stream",
     "text": [
      "1.6418367346938774\n"
     ]
    },
    {
     "name": "stderr",
     "output_type": "stream",
     "text": [
      "Auto-assigning NUTS sampler...\n",
      "Initializing NUTS using jitter+adapt_diag...\n",
      "Multiprocess sampling (4 chains in 4 jobs)\n",
      "NUTS: [A, D]\n",
      "Sampling 4 chains: 100%|██████████| 120000/120000 [01:18<00:00, 1525.41draws/s]\n",
      "The acceptance probability does not match the target. It is 0.6719826390033122, but should be close to 0.8. Try to increase the number of tuning steps.\n"
     ]
    },
    {
     "name": "stdout",
     "output_type": "stream",
     "text": [
      "2.0497959183673466\n"
     ]
    },
    {
     "name": "stderr",
     "output_type": "stream",
     "text": [
      "Auto-assigning NUTS sampler...\n",
      "Initializing NUTS using jitter+adapt_diag...\n",
      "Multiprocess sampling (4 chains in 4 jobs)\n",
      "NUTS: [A, D]\n",
      "Sampling 4 chains: 100%|██████████| 120000/120000 [00:52<00:00, 2297.28draws/s]\n",
      "The acceptance probability does not match the target. It is 0.8880242536707788, but should be close to 0.8. Try to increase the number of tuning steps.\n"
     ]
    },
    {
     "name": "stdout",
     "output_type": "stream",
     "text": [
      "2.457755102040816\n"
     ]
    },
    {
     "name": "stderr",
     "output_type": "stream",
     "text": [
      "Auto-assigning NUTS sampler...\n",
      "Initializing NUTS using jitter+adapt_diag...\n",
      "Multiprocess sampling (4 chains in 4 jobs)\n",
      "NUTS: [A, D]\n",
      "Sampling 4 chains: 100%|██████████| 120000/120000 [00:52<00:00, 2301.70draws/s]\n"
     ]
    },
    {
     "name": "stdout",
     "output_type": "stream",
     "text": [
      "2.865714285714285\n"
     ]
    },
    {
     "name": "stderr",
     "output_type": "stream",
     "text": [
      "Auto-assigning NUTS sampler...\n",
      "Initializing NUTS using jitter+adapt_diag...\n",
      "Multiprocess sampling (4 chains in 4 jobs)\n",
      "NUTS: [A, D]\n",
      "Sampling 4 chains: 100%|██████████| 120000/120000 [00:52<00:00, 2297.29draws/s]\n"
     ]
    },
    {
     "name": "stdout",
     "output_type": "stream",
     "text": [
      "3.2736734693877545\n"
     ]
    },
    {
     "name": "stderr",
     "output_type": "stream",
     "text": [
      "Auto-assigning NUTS sampler...\n",
      "Initializing NUTS using jitter+adapt_diag...\n",
      "Multiprocess sampling (4 chains in 4 jobs)\n",
      "NUTS: [A, D]\n",
      "Sampling 4 chains: 100%|██████████| 120000/120000 [00:56<00:00, 2118.29draws/s]\n"
     ]
    },
    {
     "name": "stdout",
     "output_type": "stream",
     "text": [
      "3.681632653061224\n"
     ]
    },
    {
     "name": "stderr",
     "output_type": "stream",
     "text": [
      "Auto-assigning NUTS sampler...\n",
      "Initializing NUTS using jitter+adapt_diag...\n",
      "Multiprocess sampling (4 chains in 4 jobs)\n",
      "NUTS: [A, D]\n",
      "Sampling 4 chains: 100%|██████████| 120000/120000 [00:53<00:00, 2224.10draws/s]\n"
     ]
    },
    {
     "name": "stdout",
     "output_type": "stream",
     "text": [
      "4.0895918367346935\n"
     ]
    },
    {
     "name": "stderr",
     "output_type": "stream",
     "text": [
      "Auto-assigning NUTS sampler...\n",
      "Initializing NUTS using jitter+adapt_diag...\n",
      "Multiprocess sampling (4 chains in 4 jobs)\n",
      "NUTS: [A, D]\n",
      "Sampling 4 chains: 100%|██████████| 120000/120000 [00:56<00:00, 2132.10draws/s]\n"
     ]
    },
    {
     "name": "stdout",
     "output_type": "stream",
     "text": [
      "4.497551020408163\n"
     ]
    },
    {
     "name": "stderr",
     "output_type": "stream",
     "text": [
      "Auto-assigning NUTS sampler...\n",
      "Initializing NUTS using jitter+adapt_diag...\n",
      "Multiprocess sampling (4 chains in 4 jobs)\n",
      "NUTS: [A, D]\n",
      "Sampling 4 chains: 100%|██████████| 120000/120000 [00:52<00:00, 2300.26draws/s]\n"
     ]
    },
    {
     "name": "stdout",
     "output_type": "stream",
     "text": [
      "4.905510204081632\n"
     ]
    },
    {
     "name": "stderr",
     "output_type": "stream",
     "text": [
      "Auto-assigning NUTS sampler...\n",
      "Initializing NUTS using jitter+adapt_diag...\n",
      "Multiprocess sampling (4 chains in 4 jobs)\n",
      "NUTS: [A, D]\n",
      "Sampling 4 chains: 100%|██████████| 120000/120000 [01:01<00:00, 1939.32draws/s]\n"
     ]
    },
    {
     "name": "stdout",
     "output_type": "stream",
     "text": [
      "5.313469387755101\n"
     ]
    },
    {
     "name": "stderr",
     "output_type": "stream",
     "text": [
      "Auto-assigning NUTS sampler...\n",
      "Initializing NUTS using jitter+adapt_diag...\n",
      "Multiprocess sampling (4 chains in 4 jobs)\n",
      "NUTS: [A, D]\n",
      "Sampling 4 chains: 100%|██████████| 120000/120000 [01:07<00:00, 1765.66draws/s]\n"
     ]
    },
    {
     "name": "stdout",
     "output_type": "stream",
     "text": [
      "5.721428571428571\n"
     ]
    },
    {
     "name": "stderr",
     "output_type": "stream",
     "text": [
      "Auto-assigning NUTS sampler...\n",
      "Initializing NUTS using jitter+adapt_diag...\n",
      "Multiprocess sampling (4 chains in 4 jobs)\n",
      "NUTS: [A, D]\n",
      "Sampling 4 chains: 100%|██████████| 120000/120000 [00:56<00:00, 2108.01draws/s]\n",
      "The acceptance probability does not match the target. It is 0.702241246870279, but should be close to 0.8. Try to increase the number of tuning steps.\n"
     ]
    },
    {
     "name": "stdout",
     "output_type": "stream",
     "text": [
      "6.12938775510204\n"
     ]
    },
    {
     "name": "stderr",
     "output_type": "stream",
     "text": [
      "Auto-assigning NUTS sampler...\n",
      "Initializing NUTS using jitter+adapt_diag...\n",
      "Multiprocess sampling (4 chains in 4 jobs)\n",
      "NUTS: [A, D]\n",
      "Sampling 4 chains: 100%|██████████| 120000/120000 [00:59<00:00, 2024.91draws/s]\n"
     ]
    },
    {
     "name": "stdout",
     "output_type": "stream",
     "text": [
      "6.537346938775509\n"
     ]
    },
    {
     "name": "stderr",
     "output_type": "stream",
     "text": [
      "Auto-assigning NUTS sampler...\n",
      "Initializing NUTS using jitter+adapt_diag...\n",
      "Multiprocess sampling (4 chains in 4 jobs)\n",
      "NUTS: [A, D]\n",
      "Sampling 4 chains: 100%|██████████| 120000/120000 [00:57<00:00, 2086.81draws/s]\n"
     ]
    },
    {
     "name": "stdout",
     "output_type": "stream",
     "text": [
      "6.9453061224489785\n"
     ]
    },
    {
     "name": "stderr",
     "output_type": "stream",
     "text": [
      "Auto-assigning NUTS sampler...\n",
      "Initializing NUTS using jitter+adapt_diag...\n",
      "Multiprocess sampling (4 chains in 4 jobs)\n",
      "NUTS: [A, D]\n",
      "Sampling 4 chains: 100%|██████████| 120000/120000 [00:57<00:00, 2079.07draws/s]\n"
     ]
    },
    {
     "name": "stdout",
     "output_type": "stream",
     "text": [
      "7.353265306122448\n"
     ]
    },
    {
     "name": "stderr",
     "output_type": "stream",
     "text": [
      "Auto-assigning NUTS sampler...\n",
      "Initializing NUTS using jitter+adapt_diag...\n",
      "Multiprocess sampling (4 chains in 4 jobs)\n",
      "NUTS: [A, D]\n",
      "Sampling 4 chains: 100%|██████████| 120000/120000 [00:56<00:00, 2110.95draws/s]\n"
     ]
    },
    {
     "name": "stdout",
     "output_type": "stream",
     "text": [
      "7.761224489795917\n"
     ]
    },
    {
     "name": "stderr",
     "output_type": "stream",
     "text": [
      "Auto-assigning NUTS sampler...\n",
      "Initializing NUTS using jitter+adapt_diag...\n",
      "Multiprocess sampling (4 chains in 4 jobs)\n",
      "NUTS: [A, D]\n",
      "Sampling 4 chains: 100%|██████████| 120000/120000 [00:54<00:00, 2215.37draws/s]\n",
      "The acceptance probability does not match the target. It is 0.7084520989392102, but should be close to 0.8. Try to increase the number of tuning steps.\n"
     ]
    },
    {
     "name": "stdout",
     "output_type": "stream",
     "text": [
      "8.169183673469387\n"
     ]
    },
    {
     "name": "stderr",
     "output_type": "stream",
     "text": [
      "Auto-assigning NUTS sampler...\n",
      "Initializing NUTS using jitter+adapt_diag...\n",
      "Multiprocess sampling (4 chains in 4 jobs)\n",
      "NUTS: [A, D]\n",
      "Sampling 4 chains: 100%|██████████| 120000/120000 [00:56<00:00, 625.21draws/s] \n"
     ]
    },
    {
     "name": "stdout",
     "output_type": "stream",
     "text": [
      "8.577142857142857\n"
     ]
    },
    {
     "name": "stderr",
     "output_type": "stream",
     "text": [
      "Auto-assigning NUTS sampler...\n",
      "Initializing NUTS using jitter+adapt_diag...\n",
      "Multiprocess sampling (4 chains in 4 jobs)\n",
      "NUTS: [A, D]\n",
      "Sampling 4 chains: 100%|██████████| 120000/120000 [00:54<00:00, 2201.17draws/s]\n"
     ]
    },
    {
     "name": "stdout",
     "output_type": "stream",
     "text": [
      "8.985102040816326\n"
     ]
    },
    {
     "name": "stderr",
     "output_type": "stream",
     "text": [
      "Auto-assigning NUTS sampler...\n",
      "Initializing NUTS using jitter+adapt_diag...\n",
      "Multiprocess sampling (4 chains in 4 jobs)\n",
      "NUTS: [A, D]\n",
      "Sampling 4 chains: 100%|██████████| 120000/120000 [01:00<00:00, 1971.09draws/s]\n"
     ]
    },
    {
     "name": "stdout",
     "output_type": "stream",
     "text": [
      "9.393061224489795\n"
     ]
    },
    {
     "name": "stderr",
     "output_type": "stream",
     "text": [
      "Auto-assigning NUTS sampler...\n",
      "Initializing NUTS using jitter+adapt_diag...\n",
      "Multiprocess sampling (4 chains in 4 jobs)\n",
      "NUTS: [A, D]\n",
      "Sampling 4 chains: 100%|██████████| 120000/120000 [01:03<00:00, 1884.70draws/s]\n"
     ]
    },
    {
     "name": "stdout",
     "output_type": "stream",
     "text": [
      "9.801020408163264\n"
     ]
    },
    {
     "name": "stderr",
     "output_type": "stream",
     "text": [
      "Auto-assigning NUTS sampler...\n",
      "Initializing NUTS using jitter+adapt_diag...\n",
      "Multiprocess sampling (4 chains in 4 jobs)\n",
      "NUTS: [A, D]\n",
      "Sampling 4 chains: 100%|██████████| 120000/120000 [00:59<00:00, 2029.74draws/s]\n"
     ]
    },
    {
     "name": "stdout",
     "output_type": "stream",
     "text": [
      "10.208979591836734\n"
     ]
    },
    {
     "name": "stderr",
     "output_type": "stream",
     "text": [
      "Auto-assigning NUTS sampler...\n",
      "Initializing NUTS using jitter+adapt_diag...\n",
      "Multiprocess sampling (4 chains in 4 jobs)\n",
      "NUTS: [A, D]\n",
      "Sampling 4 chains: 100%|██████████| 120000/120000 [01:00<00:00, 1975.11draws/s]\n"
     ]
    },
    {
     "name": "stdout",
     "output_type": "stream",
     "text": [
      "10.616938775510203\n"
     ]
    },
    {
     "name": "stderr",
     "output_type": "stream",
     "text": [
      "Auto-assigning NUTS sampler...\n",
      "Initializing NUTS using jitter+adapt_diag...\n",
      "Multiprocess sampling (4 chains in 4 jobs)\n",
      "NUTS: [A, D]\n",
      "Sampling 4 chains: 100%|██████████| 120000/120000 [01:02<00:00, 1906.65draws/s]\n"
     ]
    },
    {
     "name": "stdout",
     "output_type": "stream",
     "text": [
      "11.024897959183672\n"
     ]
    },
    {
     "name": "stderr",
     "output_type": "stream",
     "text": [
      "Auto-assigning NUTS sampler...\n",
      "Initializing NUTS using jitter+adapt_diag...\n",
      "Multiprocess sampling (4 chains in 4 jobs)\n",
      "NUTS: [A, D]\n",
      "Sampling 4 chains: 100%|██████████| 120000/120000 [01:05<00:00, 1844.91draws/s]\n"
     ]
    },
    {
     "name": "stdout",
     "output_type": "stream",
     "text": [
      "11.432857142857141\n"
     ]
    },
    {
     "name": "stderr",
     "output_type": "stream",
     "text": [
      "Auto-assigning NUTS sampler...\n",
      "Initializing NUTS using jitter+adapt_diag...\n",
      "Multiprocess sampling (4 chains in 4 jobs)\n",
      "NUTS: [A, D]\n",
      "Sampling 4 chains: 100%|██████████| 120000/120000 [00:56<00:00, 2133.87draws/s]\n"
     ]
    },
    {
     "name": "stdout",
     "output_type": "stream",
     "text": [
      "11.84081632653061\n"
     ]
    },
    {
     "name": "stderr",
     "output_type": "stream",
     "text": [
      "Auto-assigning NUTS sampler...\n",
      "Initializing NUTS using jitter+adapt_diag...\n",
      "Multiprocess sampling (4 chains in 4 jobs)\n",
      "NUTS: [A, D]\n",
      "Sampling 4 chains: 100%|██████████| 120000/120000 [01:09<00:00, 1719.05draws/s]\n"
     ]
    },
    {
     "name": "stdout",
     "output_type": "stream",
     "text": [
      "12.24877551020408\n"
     ]
    },
    {
     "name": "stderr",
     "output_type": "stream",
     "text": [
      "Auto-assigning NUTS sampler...\n",
      "Initializing NUTS using jitter+adapt_diag...\n",
      "Multiprocess sampling (4 chains in 4 jobs)\n",
      "NUTS: [A, D]\n",
      "Sampling 4 chains: 100%|██████████| 120000/120000 [01:04<00:00, 1847.50draws/s]\n"
     ]
    },
    {
     "name": "stdout",
     "output_type": "stream",
     "text": [
      "12.65673469387755\n"
     ]
    },
    {
     "name": "stderr",
     "output_type": "stream",
     "text": [
      "Auto-assigning NUTS sampler...\n",
      "Initializing NUTS using jitter+adapt_diag...\n",
      "Multiprocess sampling (4 chains in 4 jobs)\n",
      "NUTS: [A, D]\n",
      "Sampling 4 chains: 100%|██████████| 120000/120000 [01:01<00:00, 1966.56draws/s]\n"
     ]
    },
    {
     "name": "stdout",
     "output_type": "stream",
     "text": [
      "13.064693877551019\n"
     ]
    },
    {
     "name": "stderr",
     "output_type": "stream",
     "text": [
      "Auto-assigning NUTS sampler...\n",
      "Initializing NUTS using jitter+adapt_diag...\n",
      "Multiprocess sampling (4 chains in 4 jobs)\n",
      "NUTS: [A, D]\n",
      "Sampling 4 chains: 100%|██████████| 120000/120000 [01:00<00:00, 1988.24draws/s]\n",
      "The acceptance probability does not match the target. It is 0.6952758096450178, but should be close to 0.8. Try to increase the number of tuning steps.\n"
     ]
    },
    {
     "name": "stdout",
     "output_type": "stream",
     "text": [
      "13.472653061224488\n"
     ]
    },
    {
     "name": "stderr",
     "output_type": "stream",
     "text": [
      "Auto-assigning NUTS sampler...\n",
      "Initializing NUTS using jitter+adapt_diag...\n",
      "Multiprocess sampling (4 chains in 4 jobs)\n",
      "NUTS: [A, D]\n",
      "Sampling 4 chains: 100%|██████████| 120000/120000 [00:58<00:00, 2050.76draws/s]\n"
     ]
    },
    {
     "name": "stdout",
     "output_type": "stream",
     "text": [
      "13.880612244897957\n"
     ]
    },
    {
     "name": "stderr",
     "output_type": "stream",
     "text": [
      "Auto-assigning NUTS sampler...\n",
      "Initializing NUTS using jitter+adapt_diag...\n",
      "Multiprocess sampling (4 chains in 4 jobs)\n",
      "NUTS: [A, D]\n",
      "Sampling 4 chains: 100%|██████████| 120000/120000 [00:58<00:00, 2055.60draws/s]\n"
     ]
    },
    {
     "name": "stdout",
     "output_type": "stream",
     "text": [
      "14.288571428571426\n"
     ]
    },
    {
     "name": "stderr",
     "output_type": "stream",
     "text": [
      "Auto-assigning NUTS sampler...\n",
      "Initializing NUTS using jitter+adapt_diag...\n",
      "Multiprocess sampling (4 chains in 4 jobs)\n",
      "NUTS: [A, D]\n",
      "Sampling 4 chains: 100%|██████████| 120000/120000 [01:06<00:00, 1817.57draws/s]\n",
      "The acceptance probability does not match the target. It is 0.6720849502747244, but should be close to 0.8. Try to increase the number of tuning steps.\n"
     ]
    },
    {
     "name": "stdout",
     "output_type": "stream",
     "text": [
      "14.696530612244896\n"
     ]
    },
    {
     "name": "stderr",
     "output_type": "stream",
     "text": [
      "Auto-assigning NUTS sampler...\n",
      "Initializing NUTS using jitter+adapt_diag...\n",
      "Multiprocess sampling (4 chains in 4 jobs)\n",
      "NUTS: [A, D]\n",
      "Sampling 4 chains: 100%|██████████| 120000/120000 [01:03<00:00, 1888.53draws/s]\n"
     ]
    },
    {
     "name": "stdout",
     "output_type": "stream",
     "text": [
      "15.104489795918365\n"
     ]
    },
    {
     "name": "stderr",
     "output_type": "stream",
     "text": [
      "Auto-assigning NUTS sampler...\n",
      "Initializing NUTS using jitter+adapt_diag...\n",
      "Multiprocess sampling (4 chains in 4 jobs)\n",
      "NUTS: [A, D]\n",
      "Sampling 4 chains: 100%|██████████| 120000/120000 [01:00<00:00, 1980.90draws/s]\n"
     ]
    },
    {
     "name": "stdout",
     "output_type": "stream",
     "text": [
      "15.512448979591834\n"
     ]
    },
    {
     "name": "stderr",
     "output_type": "stream",
     "text": [
      "Auto-assigning NUTS sampler...\n",
      "Initializing NUTS using jitter+adapt_diag...\n",
      "Multiprocess sampling (4 chains in 4 jobs)\n",
      "NUTS: [A, D]\n",
      "Sampling 4 chains: 100%|██████████| 120000/120000 [00:54<00:00, 2187.73draws/s]\n"
     ]
    },
    {
     "name": "stdout",
     "output_type": "stream",
     "text": [
      "15.920408163265304\n"
     ]
    },
    {
     "name": "stderr",
     "output_type": "stream",
     "text": [
      "Auto-assigning NUTS sampler...\n",
      "Initializing NUTS using jitter+adapt_diag...\n",
      "Multiprocess sampling (4 chains in 4 jobs)\n",
      "NUTS: [A, D]\n",
      "Sampling 4 chains: 100%|██████████| 120000/120000 [00:59<00:00, 2018.81draws/s]\n",
      "The acceptance probability does not match the target. It is 0.7024903270019304, but should be close to 0.8. Try to increase the number of tuning steps.\n"
     ]
    },
    {
     "name": "stdout",
     "output_type": "stream",
     "text": [
      "16.328367346938776\n"
     ]
    },
    {
     "name": "stderr",
     "output_type": "stream",
     "text": [
      "Auto-assigning NUTS sampler...\n",
      "Initializing NUTS using jitter+adapt_diag...\n",
      "Multiprocess sampling (4 chains in 4 jobs)\n",
      "NUTS: [A, D]\n",
      "Sampling 4 chains: 100%|██████████| 120000/120000 [00:55<00:00, 2158.99draws/s]\n"
     ]
    },
    {
     "name": "stdout",
     "output_type": "stream",
     "text": [
      "16.736326530612246\n"
     ]
    },
    {
     "name": "stderr",
     "output_type": "stream",
     "text": [
      "Auto-assigning NUTS sampler...\n",
      "Initializing NUTS using jitter+adapt_diag...\n",
      "Multiprocess sampling (4 chains in 4 jobs)\n",
      "NUTS: [A, D]\n",
      "Sampling 4 chains: 100%|██████████| 120000/120000 [01:01<00:00, 1935.81draws/s]\n"
     ]
    },
    {
     "name": "stdout",
     "output_type": "stream",
     "text": [
      "17.144285714285715\n"
     ]
    },
    {
     "name": "stderr",
     "output_type": "stream",
     "text": [
      "Auto-assigning NUTS sampler...\n",
      "Initializing NUTS using jitter+adapt_diag...\n",
      "Multiprocess sampling (4 chains in 4 jobs)\n",
      "NUTS: [A, D]\n",
      "Sampling 4 chains: 100%|██████████| 120000/120000 [00:59<00:00, 2027.73draws/s]\n"
     ]
    },
    {
     "name": "stdout",
     "output_type": "stream",
     "text": [
      "17.552244897959184\n"
     ]
    },
    {
     "name": "stderr",
     "output_type": "stream",
     "text": [
      "Auto-assigning NUTS sampler...\n",
      "Initializing NUTS using jitter+adapt_diag...\n",
      "Multiprocess sampling (4 chains in 4 jobs)\n",
      "NUTS: [A, D]\n",
      "Sampling 4 chains: 100%|██████████| 120000/120000 [00:59<00:00, 2001.06draws/s]\n"
     ]
    },
    {
     "name": "stdout",
     "output_type": "stream",
     "text": [
      "17.960204081632654\n"
     ]
    },
    {
     "name": "stderr",
     "output_type": "stream",
     "text": [
      "Auto-assigning NUTS sampler...\n",
      "Initializing NUTS using jitter+adapt_diag...\n",
      "Multiprocess sampling (4 chains in 4 jobs)\n",
      "NUTS: [A, D]\n",
      "Sampling 4 chains: 100%|██████████| 120000/120000 [00:59<00:00, 2019.95draws/s]\n"
     ]
    },
    {
     "name": "stdout",
     "output_type": "stream",
     "text": [
      "18.368163265306123\n"
     ]
    },
    {
     "name": "stderr",
     "output_type": "stream",
     "text": [
      "Auto-assigning NUTS sampler...\n",
      "Initializing NUTS using jitter+adapt_diag...\n",
      "Multiprocess sampling (4 chains in 4 jobs)\n",
      "NUTS: [A, D]\n",
      "Sampling 4 chains: 100%|██████████| 120000/120000 [00:57<00:00, 2099.45draws/s]\n"
     ]
    },
    {
     "name": "stdout",
     "output_type": "stream",
     "text": [
      "18.776122448979592\n"
     ]
    },
    {
     "name": "stderr",
     "output_type": "stream",
     "text": [
      "Auto-assigning NUTS sampler...\n",
      "Initializing NUTS using jitter+adapt_diag...\n",
      "Multiprocess sampling (4 chains in 4 jobs)\n",
      "NUTS: [A, D]\n",
      "Sampling 4 chains: 100%|██████████| 120000/120000 [01:00<00:00, 1970.35draws/s]\n"
     ]
    },
    {
     "name": "stdout",
     "output_type": "stream",
     "text": [
      "19.18408163265306\n"
     ]
    },
    {
     "name": "stderr",
     "output_type": "stream",
     "text": [
      "Auto-assigning NUTS sampler...\n",
      "Initializing NUTS using jitter+adapt_diag...\n",
      "Multiprocess sampling (4 chains in 4 jobs)\n",
      "NUTS: [A, D]\n",
      "Sampling 4 chains: 100%|██████████| 120000/120000 [01:03<00:00, 1893.31draws/s]\n"
     ]
    },
    {
     "name": "stdout",
     "output_type": "stream",
     "text": [
      "19.59204081632653\n"
     ]
    },
    {
     "name": "stderr",
     "output_type": "stream",
     "text": [
      "Auto-assigning NUTS sampler...\n",
      "Initializing NUTS using jitter+adapt_diag...\n",
      "Multiprocess sampling (4 chains in 4 jobs)\n",
      "NUTS: [A, D]\n",
      "Sampling 4 chains: 100%|██████████| 120000/120000 [01:06<00:00, 1797.27draws/s]\n",
      "The acceptance probability does not match the target. It is 0.8819682379431886, but should be close to 0.8. Try to increase the number of tuning steps.\n"
     ]
    },
    {
     "name": "stdout",
     "output_type": "stream",
     "text": [
      "20.0\n"
     ]
    },
    {
     "name": "stderr",
     "output_type": "stream",
     "text": [
      "Auto-assigning NUTS sampler...\n",
      "Initializing NUTS using jitter+adapt_diag...\n",
      "Multiprocess sampling (4 chains in 4 jobs)\n",
      "NUTS: [A, D]\n",
      "Sampling 4 chains: 100%|██████████| 120000/120000 [00:56<00:00, 2136.59draws/s]\n"
     ]
    }
   ],
   "source": [
    "result_array = None\n",
    "for delta_t in delta_t_list:\n",
    "    print(delta_t)\n",
    "    data = langevin.time_series(A=AA, D=DD, delta_t=delta_t, N=N)\n",
    "    with pm.Model() as model:\n",
    "        D = pm.Uniform('D', lower=0, upper=d_bound)\n",
    "        A = pm.Uniform('A', lower=0, upper=a_bound)\n",
    "\n",
    "        B = pm.Deterministic('B', pm.math.exp(-delta_t * D / A))\n",
    "\n",
    "        path = Ornstein_Uhlenbeck('path',A=A, B=B, observed=data)\n",
    "    \n",
    "        trace = pm.sample(20000,tune=10000)\n",
    "        \n",
    "    a_mean = trace['A'].mean()\n",
    "    d_mean = trace['D'].mean()\n",
    "    a_std = trace['A'].std()\n",
    "    d_std = trace['D'].std()\n",
    "    results = [a_mean,a_std,d_mean,d_std]\n",
    "    if result_array is None:\n",
    "        result_array = results\n",
    "    else:\n",
    "        result_array = np.vstack((result_array, results))"
   ]
  },
  {
   "cell_type": "code",
   "execution_count": 13,
   "metadata": {},
   "outputs": [
    {
     "data": {
      "text/plain": [
       "[<matplotlib.lines.Line2D at 0x1c207fb940>]"
      ]
     },
     "execution_count": 13,
     "metadata": {},
     "output_type": "execute_result"
    },
    {
     "data": {
      "image/png": "[encoded data removed]",
      "text/plain": [
       "<Figure size 432x288 with 1 Axes>"
      ]
     },
     "metadata": {
      "needs_background": "light"
     },
     "output_type": "display_data"
    }
   ],
   "source": [
    "plt.semilogy(delta_t_list,result_array.T[3])"
   ]
  },
  {
   "cell_type": "code",
   "execution_count": 14,
   "metadata": {},
   "outputs": [
    {
     "data": {
      "text/plain": [
       "[<matplotlib.lines.Line2D at 0x1c21ada940>]"
      ]
     },
     "execution_count": 14,
     "metadata": {},
     "output_type": "execute_result"
    },
    {
     "data": {
      "image/png": "[encoded data removed]",
      "text/plain": [
       "<Figure size 432x288 with 1 Axes>"
      ]
     },
     "metadata": {
      "needs_background": "light"
     },
     "output_type": "display_data"
    }
   ],
   "source": [
    "plt.semilogy(delta_t_list,result_array.T[1])"
   ]
  },
  {
   "cell_type": "code",
   "execution_count": 18,
   "metadata": {},
   "outputs": [
    {
     "data": {
      "text/plain": [
       "[<matplotlib.lines.Line2D at 0x1c20615240>]"
      ]
     },
     "execution_count": 18,
     "metadata": {},
     "output_type": "execute_result"
    },
    {
     "data": {
      "image/png": "[encoded data removed]",
      "text/plain": [
       "<Figure size 432x288 with 1 Axes>"
      ]
     },
     "metadata": {
      "needs_background": "light"
     },
     "output_type": "display_data"
    }
   ],
   "source": [
    "dtau = np.sqrt(result_array.T[1]**2/DD**2+AA**2/DD**4*result_array.T[3]**2)\n",
    "plt.semilogy(delta_t_list,dtau/tau_real,\"o\")"
   ]
  },
  {
   "cell_type": "code",
   "execution_count": 19,
   "metadata": {},
   "outputs": [
    {
     "data": {
      "text/plain": [
       "<matplotlib.legend.Legend at 0x1c20c516d8>"
      ]
     },
     "execution_count": 19,
     "metadata": {},
     "output_type": "execute_result"
    },
    {
     "data": {
      "image/png": "[encoded data removed]",
      "text/plain": [
       "<Figure size 432x288 with 1 Axes>"
      ]
     },
     "metadata": {
      "needs_background": "light"
     },
     "output_type": "display_data"
    }
   ],
   "source": [
    "plt.semilogy(delta_t_list,result_array.T[3]/DD,\"o\",label=r\"$dD/D$\")\n",
    "plt.semilogy(delta_t_list,result_array.T[1]/AA,\"o\",label=r'$dA/A$')\n",
    "plt.semilogy(delta_t_list,dtau/tau_real,\"o\",label=r'$d\\tau/\\tau$')\n",
    "plt.xlabel(r'$\\Delta t/\\tau$')\n",
    "plt.ylabel(\"relative error\")\n",
    "plt.legend()"
   ]
  },
  {
   "cell_type": "code",
   "execution_count": 20,
   "metadata": {},
   "outputs": [
    {
     "data": {
      "image/png": "[encoded data removed]",
      "text/plain": [
       "<Figure size 432x288 with 1 Axes>"
      ]
     },
     "metadata": {
      "needs_background": "light"
     },
     "output_type": "display_data"
    }
   ],
   "source": [
    "plt.semilogy(delta_t_list/tau_real,result_array.T[3]/DD,\"o\",label=r\"$dD/D$\")\n",
    "plt.semilogy(delta_t_list/tau_real,result_array.T[1]/AA,\"o\",label=r'$dA/A$')\n",
    "plt.semilogy(delta_t_list/tau_real,dtau/tau_real,\"o\",label=r'$d\\tau/\\tau$')\n",
    "plt.semilogy(delta_t_list/tau_real,result_Bayes_array.T[3]/tau_real,color=\"k\",label=r\"$d\\tau/\\tau$ ind\")\n",
    "plt.semilogy(delta_t_list/tau_real,result_Bayes_array.T[1]/AA,\"-.\",color=\"k\",label=r\"$dA/A$ ind\")\n",
    "plt.xlabel(r'$\\Delta t/\\tau$')\n",
    "plt.ylabel(\"relative error\")\n",
    "plt.legend(ncol=2)\n",
    "plt.savefig(\"optimaldt_1_2.png\",format='png',dpi=300,bbox_inches='tight',facecolor=\"white\",backgroundcolor=\"white\")"
   ]
  },
  {
   "cell_type": "code",
   "execution_count": null,
   "metadata": {},
   "outputs": [],
   "source": []
  }
 ],
 "metadata": {
  "anaconda-cloud": {},
  "kernelspec": {
   "display_name": "Python 3",
   "language": "python",
   "name": "python3"
  },
  "language_info": {
   "codemirror_mode": {
    "name": "ipython",
    "version": 3
   },
   "file_extension": ".py",
   "mimetype": "text/x-python",
   "name": "python",
   "nbconvert_exporter": "python",
   "pygments_lexer": "ipython3",
   "version": "3.6.6"
  }
 },
 "nbformat": 4,
 "nbformat_minor": 2
}
