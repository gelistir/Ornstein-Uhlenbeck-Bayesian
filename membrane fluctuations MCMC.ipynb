{
 "cells": [
  {
   "cell_type": "code",
   "execution_count": 28,
   "metadata": {
    "collapsed": true
   },
   "outputs": [],
   "source": [
    "%matplotlib inline\n",
    "import numpy as np\n",
    "import matplotlib.pyplot as plt\n",
    "from scipy.integrate import quad\n",
    "import langevin\n",
    "import langevin_cached_model as lcm\n",
    "import pymc3 as pm\n",
    "import lmfit as lm"
   ]
  },
  {
   "cell_type": "code",
   "execution_count": 2,
   "metadata": {
    "collapsed": true
   },
   "outputs": [],
   "source": [
    "# here we define the values of the physical parameters\n",
    "# all energies are in kT = 4e-21J and lengths are in micrometers\n",
    "# kappa = 10kT, sigma = 0.5 microJ/m^2, gamma = 0.1MJ/m^4, eta = 1.0mPa s\n",
    "kappa = 10\n",
    "sigma = 125\n",
    "ga = 25\n",
    "eta= 0.25\n",
    "qmin=np.sqrt(3)/10"
   ]
  },
  {
   "cell_type": "markdown",
   "metadata": {},
   "source": [
    "Here we describe the system in a continuous way"
   ]
  },
  {
   "cell_type": "code",
   "execution_count": 3,
   "metadata": {
    "collapsed": true
   },
   "outputs": [],
   "source": [
    "def gamma(q, kappa=kappa, sigma=sigma, ga=ga, eta=eta ):\n",
    "    return (kappa*q**4+sigma*q**2+ga)/(4*eta*q)"
   ]
  },
  {
   "cell_type": "code",
   "execution_count": 4,
   "metadata": {
    "collapsed": true
   },
   "outputs": [],
   "source": [
    "def avg(q,resolution):\n",
    "    return (np.exp(-gamma(q)*resolution)-1.0+gamma(q)*resolution)/(gamma(q)**2*resolution**2)"
   ]
  },
  {
   "cell_type": "code",
   "execution_count": 5,
   "metadata": {
    "collapsed": true
   },
   "outputs": [],
   "source": [
    "def integrant(q,t):\n",
    "    return q*np.exp(-gamma(q)*t)/(kappa*q**4+sigma*q**2+ga)*avg(q,1e-6)*np.exp(-0.25*0.5**2*q**2)"
   ]
  },
  {
   "cell_type": "code",
   "execution_count": 6,
   "metadata": {
    "collapsed": true
   },
   "outputs": [],
   "source": [
    "time=np.logspace(-5,0,50)"
   ]
  },
  {
   "cell_type": "code",
   "execution_count": 7,
   "metadata": {
    "collapsed": true
   },
   "outputs": [],
   "source": [
    "acf=[quad(integrant,qmin,np.inf,args=(t))[0] for t in time]"
   ]
  },
  {
   "cell_type": "code",
   "execution_count": 8,
   "metadata": {},
   "outputs": [
    {
     "data": {
      "text/plain": [
       "[<matplotlib.lines.Line2D at 0x11e0dcfd0>]"
      ]
     },
     "execution_count": 8,
     "metadata": {},
     "output_type": "execute_result"
    },
    {
     "data": {
      "image/png": "[encoded data removed]",
      "text/plain": [
       "<matplotlib.figure.Figure at 0x117be6f60>"
      ]
     },
     "metadata": {},
     "output_type": "display_data"
    }
   ],
   "source": [
    "plt.semilogx(time,acf)"
   ]
  },
  {
   "cell_type": "markdown",
   "metadata": {
    "collapsed": true
   },
   "source": [
    "lets try the discrete one.  Here we assume that we have a $q_{min}$ and that $q^2=q_{x}^2+q_{y}^2$ where each $q_{x}=lq_{min}$ and $q_{y}=mq_{min}$ which results in $q_{lm}=q_{min}\\sqrt{l^2+m^2}$"
   ]
  },
  {
   "cell_type": "code",
   "execution_count": 42,
   "metadata": {},
   "outputs": [
    {
     "data": {
      "text/plain": [
       "[1.0,\n",
       " 1.0,\n",
       " 1.4142135623730951,\n",
       " 2.0,\n",
       " 2.0,\n",
       " 2.2360679774997898,\n",
       " 2.2360679774997898,\n",
       " 2.8284271247461903,\n",
       " 3.0,\n",
       " 3.0,\n",
       " 3.1622776601683795,\n",
       " 3.1622776601683795,\n",
       " 3.6055512754639891,\n",
       " 3.6055512754639891,\n",
       " 4.2426406871192848]"
      ]
     },
     "execution_count": 42,
     "metadata": {},
     "output_type": "execute_result"
    }
   ],
   "source": [
    "q_list=[np.sqrt(l**2+m**2) for l in range(0,4) for m in range(0,4)]\n",
    "sorted(q_list)[1:]"
   ]
  },
  {
   "cell_type": "code",
   "execution_count": 43,
   "metadata": {},
   "outputs": [
    {
     "name": "stdout",
     "output_type": "stream",
     "text": [
      "15\n",
      "1.0 160.0\n",
      "1.0 160.0\n",
      "1.41421356237 222.738636074\n",
      "2.0 342.5\n",
      "2.0 342.5\n",
      "2.2360679775 402.49223595\n",
      "2.2360679775 402.49223595\n",
      "2.82842712475 588.666395338\n",
      "3.0 653.333333333\n",
      "3.0 653.333333333\n",
      "3.16227766017 719.418167688\n",
      "3.16227766017 719.418167688\n",
      "3.60555127546 926.349327696\n",
      "3.60555127546 926.349327696\n",
      "4.24264068712 1299.89796608\n"
     ]
    }
   ],
   "source": [
    "q_list=np.array(sorted(q_list)[1:])\n",
    "print(q_list.size)\n",
    "for q in q_list:\n",
    "    print(q,gamma(q))"
   ]
  },
  {
   "cell_type": "code",
   "execution_count": 11,
   "metadata": {
    "collapsed": true
   },
   "outputs": [],
   "source": [
    "def corrfct(t,q_list):\n",
    "    corr=np.exp(-gamma(q_list)*t)/(kappa*q_list**4+sigma*q_list**2+ga)*avg(q_list,1e-6)*np.exp(-0.25*0.5**2*q_list**2)\n",
    "    return corr.sum()"
   ]
  },
  {
   "cell_type": "code",
   "execution_count": 12,
   "metadata": {
    "collapsed": true
   },
   "outputs": [],
   "source": [
    "acf_d = np.array([corrfct(t,q_list) for t in time])"
   ]
  },
  {
   "cell_type": "code",
   "execution_count": 13,
   "metadata": {},
   "outputs": [
    {
     "data": {
      "text/plain": [
       "[<matplotlib.lines.Line2D at 0x11e4efc50>]"
      ]
     },
     "execution_count": 13,
     "metadata": {},
     "output_type": "execute_result"
    },
    {
     "data": {
      "image/png": "[encoded data removed]",
      "text/plain": [
       "<matplotlib.figure.Figure at 0x11e4efcf8>"
      ]
     },
     "metadata": {},
     "output_type": "display_data"
    }
   ],
   "source": [
    "# plot correlation functions and normalize them to the same msd\n",
    "plt.semilogx(time,acf_d*acf[0]/acf_d[0])\n",
    "plt.semilogx(time,acf)"
   ]
  },
  {
   "cell_type": "code",
   "execution_count": 21,
   "metadata": {
    "collapsed": true
   },
   "outputs": [],
   "source": [
    "delta_t = 0.00001\n",
    "def simulate_membrane(N):\n",
    "    ts_all = None\n",
    "    for q in q_list:\n",
    "        ts = langevin.time_series2(1/(kappa*q**4+sigma*q**2+ga),gamma(q),delta_t,N)\n",
    "    #    print(1/(kappa*q**4+sigma*q**2+ga),gamma(q))\n",
    "        if ts_all is None:\n",
    "            ts_all = ts\n",
    "        else:\n",
    "            ts_all = ts_all + ts\n",
    "    return ts_all\n",
    "\n",
    "ts_all=simulate_membrane(1000000)"
   ]
  },
  {
   "cell_type": "code",
   "execution_count": 22,
   "metadata": {},
   "outputs": [
    {
     "data": {
      "text/plain": [
       "[<matplotlib.lines.Line2D at 0x11e484940>]"
      ]
     },
     "execution_count": 22,
     "metadata": {},
     "output_type": "execute_result"
    },
    {
     "data": {
      "image/png": "[encoded data removed]",
      "text/plain": [
       "<matplotlib.figure.Figure at 0x11eade358>"
      ]
     },
     "metadata": {},
     "output_type": "display_data"
    }
   ],
   "source": [
    "plt.plot(np.arange(ts_all.size)*delta_t,ts_all)"
   ]
  },
  {
   "cell_type": "code",
   "execution_count": 23,
   "metadata": {},
   "outputs": [
    {
     "data": {
      "text/plain": [
       "[<matplotlib.lines.Line2D at 0x11eb9b400>]"
      ]
     },
     "execution_count": 23,
     "metadata": {},
     "output_type": "execute_result"
    },
    {
     "data": {
      "image/png": "[encoded data removed]",
      "text/plain": [
       "<matplotlib.figure.Figure at 0x11e9e40b8>"
      ]
     },
     "metadata": {},
     "output_type": "display_data"
    }
   ],
   "source": [
    "N = ts_all.size\n",
    "# calculate autocorrelation function\n",
    "f = np.fft.rfft(ts_all)\n",
    "acf = np.fft.irfft(f * np.conjugate(f))\n",
    "acf = np.fft.fftshift(acf) / N\n",
    "autocorr = acf[int(N / 2):]\n",
    "\n",
    "autocorr = autocorr[:2000]\n",
    "t = np.arange(autocorr.size)*delta_t\n",
    "plt.semilogx(t, autocorr,\"o\")"
   ]
  },
  {
   "cell_type": "code",
   "execution_count": 17,
   "metadata": {
    "collapsed": true
   },
   "outputs": [],
   "source": [
    "def fitcorr(t,kappa,sigma,ga,eta):\n",
    "    corr=[np.sum(np.exp(-gamma(q_list,kappa=kappa, sigma=sigma, ga=ga, eta=eta)*tt)/(kappa*q_list**4+sigma*q_list**2+ga)) for tt in t]\n",
    "    return corr\n",
    "\n",
    "fit_corr_model=lm.Model(fitcorr)"
   ]
  },
  {
   "cell_type": "code",
   "execution_count": 24,
   "metadata": {},
   "outputs": [
    {
     "name": "stdout",
     "output_type": "stream",
     "text": [
      "[[Model]]\n",
      "    Model(fitcorr)\n",
      "[[Fit Statistics]]\n",
      "    # function evals   = 9\n",
      "    # data points      = 2000\n",
      "    # variables        = 1\n",
      "    chi-square         = 0.000\n",
      "    reduced chi-square = 0.000\n",
      "    Akaike info crit   = -34792.507\n",
      "    Bayesian info crit = -34786.906\n",
      "[[Variables]]\n",
      "    kappa:   10 (fixed)\n",
      "    sigma:   125 (fixed)\n",
      "    ga:      25 (fixed)\n",
      "    eta:     0.24079124 +/- 0.000175 (0.07%) (init= 0.25)\n",
      "[[Correlations]] (unreported correlations are <  0.250)\n",
      "\n"
     ]
    },
    {
     "data": {
      "image/png": "[encoded data removed]",
      "text/plain": [
       "<matplotlib.figure.Figure at 0x11e1f6da0>"
      ]
     },
     "metadata": {},
     "output_type": "display_data"
    }
   ],
   "source": [
    "paramsFC = fit_corr_model.make_params()\n",
    "paramsFC['kappa'].set(value=kappa,vary=False)\n",
    "paramsFC['sigma'].set(value=sigma,vary=False)\n",
    "paramsFC['ga'].set(value=ga,vary=False)\n",
    "paramsFC['eta'].set(value=eta,vary=True)\n",
    "\n",
    "resultFC = fit_corr_model.fit(t=t,data=autocorr,params=paramsFC)\n",
    "\n",
    "plt.figure()\n",
    "plt.semilogx(t,autocorr,\"o\")\n",
    "plt.semilogx(t,resultFC.best_fit, 'k--')\n",
    "\n",
    "print(resultFC.fit_report(min_correl=0.25))"
   ]
  },
  {
   "cell_type": "code",
   "execution_count": 27,
   "metadata": {
    "collapsed": true
   },
   "outputs": [],
   "source": [
    "# initial prior, A inv gamma, D gamma\n",
    "# both D and A have mean 1 and std 10\n",
    "alpha_A=0.01\n",
    "beta_A=0.01\n",
    "alpha_D=2.01\n",
    "beta_D=1.01"
   ]
  },
  {
   "cell_type": "code",
   "execution_count": null,
   "metadata": {
    "collapsed": true
   },
   "outputs": [],
   "source": [
    "with pm.Model() as model:\n",
    "    ga = pm.Gamma('ga', alpha=aD, beta=bD)\n",
    "    A = pm.InverseGamma('A', alpha=aA, beta=bA)\n",
    "\n",
    "    B = pm.Deterministic('B', pm.math.exp(-delta_t * ga))\n",
    "\n",
    "    path = Ornstein_Uhlenbeck('path',A=A, B=B, observed=ts_all)\n"
   ]
  }
 ],
 "metadata": {
  "anaconda-cloud": {},
  "kernelspec": {
   "display_name": "Python 3",
   "language": "python",
   "name": "python3"
  },
  "language_info": {
   "codemirror_mode": {
    "name": "ipython",
    "version": 3
   },
   "file_extension": ".py",
   "mimetype": "text/x-python",
   "name": "python",
   "nbconvert_exporter": "python",
   "pygments_lexer": "ipython3",
   "version": "3.6.9"
  }
 },
 "nbformat": 4,
 "nbformat_minor": 1
}
