{
 "cells": [
  {
   "cell_type": "code",
   "execution_count": 1,
   "metadata": {},
   "outputs": [
    {
     "name": "stdout",
     "output_type": "stream",
     "text": [
      "['seaborn-dark', 'seaborn-darkgrid', 'seaborn-ticks', 'fivethirtyeight', 'seaborn-whitegrid', 'classic', '_classic_test', 'fast', 'seaborn-talk', 'seaborn-dark-palette', 'seaborn-bright', 'seaborn-pastel', 'grayscale', 'seaborn-notebook', 'ggplot', 'seaborn-colorblind', 'seaborn-muted', 'seaborn', 'Solarize_Light2', 'seaborn-paper', 'bmh', 'tableau-colorblind10', 'seaborn-white', 'dark_background', 'seaborn-poster', 'seaborn-deep']\n"
     ]
    }
   ],
   "source": [
    "%matplotlib inline\n",
    "import numpy as np\n",
    "import matplotlib.pyplot as plt\n",
    "import pandas as pd\n",
    "import pymc3 as pm\n",
    "import langevin\n",
    "import langevin_cached_model as lcm\n",
    "import lmfit as lm\n",
    "from lmfit.models import ExponentialModel\n",
    "from scipy.stats import pearsonr\n",
    "from scipy.optimize import minimize_scalar\n",
    "import theano.tensor as tt\n",
    "\n",
    "\n",
    "SMALL_SIZE = 16\n",
    "MEDIUM_SIZE = 18\n",
    "BIGGER_SIZE = 20\n",
    "\n",
    "plt.rc('font', size=SMALL_SIZE)          # controls default text sizes\n",
    "plt.rc('axes', titlesize=SMALL_SIZE)     # fontsize of the axes title\n",
    "plt.rc('axes', labelsize=MEDIUM_SIZE)    # fontsize of the x and y labels\n",
    "plt.rc('xtick', labelsize=SMALL_SIZE)    # fontsize of the tick labels\n",
    "plt.rc('ytick', labelsize=SMALL_SIZE)    # fontsize of the tick labels\n",
    "plt.rc('legend', fontsize=SMALL_SIZE)    # legend fontsize\n",
    "plt.rc('figure', titlesize=BIGGER_SIZE)  # fontsize of the figure title\n",
    "\n",
    "SEED = 35010732 # from random.org\n",
    "np.random.seed(SEED)\n",
    "\n",
    "print(plt.style.available)\n",
    "plt.style.use('seaborn-white')"
   ]
  },
  {
   "cell_type": "code",
   "execution_count": 2,
   "metadata": {},
   "outputs": [],
   "source": [
    "# function to calculate A and B from the dataset\n",
    "def OUanalytic1(data):\n",
    "    N = data.size\n",
    "    data1sq = data[0]**2\n",
    "    dataNsq = data[-1]**2\n",
    "    datasq = np.sum(data[1:-1]**2)\n",
    "    datacorr = np.sum(data[0:-1]*data[1:])\n",
    "    coef = [(N-1)*datasq,\n",
    "       (2.0-N)*datacorr,\n",
    "       -data1sq-(N+1)*datasq-dataNsq,\n",
    "       N*datacorr]\n",
    "    B=np.roots(coef)[-1]\n",
    "    Q=(data1sq+dataNsq)/(1-B**2)\n",
    "    Q=Q+datasq*(1+B**2)/(1-B**2)\n",
    "    Q=Q-datacorr*2*B/(1-B**2)\n",
    "    A = Q/N\n",
    "    P2A = -N/2/A**2\n",
    "    Btmp = (N-1)*(1+B**2)/(1-B**2)**2\n",
    "    tmp = (2+6*B**2)*(data1sq+dataNsq) + (4+12*B**2)*datasq - (12*B+4*B**3)*datacorr\n",
    "    P2B = Btmp - tmp/A/2/(1-B**2)**3\n",
    "    PAB = (N-1)*B/A/(1-B**2)\n",
    "    dA = np.sqrt(-P2B/(P2A*P2B-PAB**2))\n",
    "    dB = np.sqrt(-P2A/(P2A*P2B-PAB**2))\n",
    "    return A,dA,B,dB\n",
    "\n",
    "def OUresult1(data,deltat):\n",
    "    A, dA, B ,dB = OUanalytic1(data)\n",
    "    tau = -deltat/np.log(B)\n",
    "    dtau = deltat*dB/B/np.log(B)**2\n",
    "    return A,dA,tau,dtau"
   ]
  },
  {
   "cell_type": "code",
   "execution_count": 3,
   "metadata": {},
   "outputs": [],
   "source": [
    "# function to calculate A and B from the dataset\n",
    "def OUanalytic2(data):\n",
    "    N = data.size\n",
    "    data1sq = data[0]**2\n",
    "    dataNsq = data[-1]**2\n",
    "    datasq = np.sum(data[1:-1]**2)\n",
    "    datacorr = np.sum(data[0:-1]*data[1:])\n",
    "    coef = [(N-1)*datasq,\n",
    "       (2.0-N)*datacorr,\n",
    "       -data1sq-(N+1)*datasq-dataNsq,\n",
    "       N*datacorr]\n",
    "    B=np.roots(coef)[-1]\n",
    "    Q=(data1sq+dataNsq)/(1-B**2)\n",
    "    Q=Q+datasq*(1+B**2)/(1-B**2)\n",
    "    Q=Q-datacorr*2*B/(1-B**2)\n",
    "    A = Q/N\n",
    "    P2A = -N/A**2/2\n",
    "    Btmp = B**2*(1+2*N)\n",
    "    tmp = (1+Btmp)*(data1sq+dataNsq) + (2*Btmp + N + 1 -B**4*(N-1))*datasq - 2*B*(1+B**2+2*N)*datacorr\n",
    "    P2B = -tmp/((1-B**2)**2*(data1sq+dataNsq + (1+B**2)*datasq - 2*B*datacorr))\n",
    "    PAB = (N-1)*B/A/(1-B**2)\n",
    "    dA = np.sqrt(-P2B/(P2A*P2B-PAB**2))\n",
    "    dB = np.sqrt(-P2A/(P2A*P2B-PAB**2))\n",
    "    return A,dA,B,dB\n",
    "\n",
    "def OUresult2(data,deltat):\n",
    "    A, dA, B ,dB = OUanalytic2(data)\n",
    "    tau = -deltat/np.log(B)\n",
    "    dtau = deltat*dB/B/np.log(B)**2\n",
    "    return A,dA,tau,dtau"
   ]
  },
  {
   "cell_type": "code",
   "execution_count": 4,
   "metadata": {},
   "outputs": [],
   "source": [
    "class Ornstein_Uhlenbeck(pm.Continuous):\n",
    "    \"\"\"\n",
    "    Ornstein-Uhlenbeck Process\n",
    "    Parameters\n",
    "    ----------\n",
    "    B : tensor\n",
    "        B > 0, B = exp(-(D/A)*delta_t)\n",
    "    A : tensor\n",
    "        A > 0, amplitude of fluctuation <x**2>=A\n",
    "    delta_t: scalar\n",
    "        delta_t > 0, time step\n",
    "    \"\"\"\n",
    "\n",
    "    def __init__(self, A=None, B=None,\n",
    "                 *args, **kwargs):\n",
    "        super(Ornstein_Uhlenbeck, self).__init__(*args, **kwargs)\n",
    "        self.A = A\n",
    "        self.B = B\n",
    "        self.mean = 0.\n",
    "\n",
    "    def logp(self, x):\n",
    "        A = self.A\n",
    "        B = self.B\n",
    "\n",
    "        x_im1 = x[:-1]\n",
    "        x_i = x[1:]\n",
    "\n",
    "        ou_like = pm.Normal.dist(mu=x_im1*B, tau=1.0/A/(1-B**2)).logp(x_i)\n",
    "        return pm.Normal.dist(mu=0.0,tau=1.0/A).logp(x[0]) + tt.sum(ou_like)\n"
   ]
  },
  {
   "cell_type": "code",
   "execution_count": 5,
   "metadata": {},
   "outputs": [],
   "source": [
    "A,D = 1.0,1.0\n",
    "delta_t_list=np.linspace(0.01,4,50)\n",
    "#M=1000 # number of data sets\n",
    "N=100000 # length of data set\n",
    "#print(np.exp(-delta_t*D/A))"
   ]
  },
  {
   "cell_type": "code",
   "execution_count": 6,
   "metadata": {},
   "outputs": [],
   "source": [
    "# let us first calculate the standard deviation for each point of the acf\n",
    "# all acfs are stored in acf_all for later analysis\n",
    "\n",
    "result_Bayes_array = None\n",
    "for delta_t in delta_t_list:\n",
    "    data = langevin.time_series(A=A, D=D, delta_t=delta_t, N=N)\n",
    "    \n",
    "    results = OUresult1(data,delta_t)\n",
    "    if result_Bayes_array is None:\n",
    "        result_Bayes_array = results\n",
    "    else:\n",
    "        result_Bayes_array = np.vstack((result_Bayes_array, results))"
   ]
  },
  {
   "cell_type": "code",
   "execution_count": 7,
   "metadata": {},
   "outputs": [
    {
     "data": {
      "text/plain": [
       "[<matplotlib.lines.Line2D at 0x109b49f28>]"
      ]
     },
     "execution_count": 7,
     "metadata": {},
     "output_type": "execute_result"
    },
    {
     "data": {
      "image/png": "[encoded data removed]",
      "text/plain": [
       "<Figure size 432x288 with 1 Axes>"
      ]
     },
     "metadata": {
      "needs_background": "light"
     },
     "output_type": "display_data"
    }
   ],
   "source": [
    "plt.semilogy(delta_t_list,result_Bayes_array.T[3])"
   ]
  },
  {
   "cell_type": "code",
   "execution_count": 8,
   "metadata": {},
   "outputs": [
    {
     "data": {
      "text/plain": [
       "[<matplotlib.lines.Line2D at 0x1c1d6eec88>]"
      ]
     },
     "execution_count": 8,
     "metadata": {},
     "output_type": "execute_result"
    },
    {
     "data": {
      "image/png": "[encoded data removed]",
      "text/plain": [
       "<Figure size 432x288 with 1 Axes>"
      ]
     },
     "metadata": {
      "needs_background": "light"
     },
     "output_type": "display_data"
    }
   ],
   "source": [
    "plt.semilogy(delta_t_list,result_Bayes_array.T[1])"
   ]
  },
  {
   "cell_type": "code",
   "execution_count": 9,
   "metadata": {},
   "outputs": [
    {
     "name": "stdout",
     "output_type": "stream",
     "text": [
      "0.5800000000000001\n"
     ]
    }
   ],
   "source": [
    "AA,DD = 1.0,1.0\n",
    "tau_real = AA/DD\n",
    "delta_t_list=np.linspace(0.01,4,50)\n",
    "#M=1000 # number of data sets\n",
    "N=100000 # length of data set\n",
    "#print(np.exp(-delta_t*D/A))\n",
    "pick_delta = 7\n",
    "print(delta_t_list[pick_delta])\n",
    "data = langevin.time_series(A=AA, D=DD, delta_t=delta_t_list[pick_delta], N=N)"
   ]
  },
  {
   "cell_type": "code",
   "execution_count": 10,
   "metadata": {},
   "outputs": [
    {
     "name": "stderr",
     "output_type": "stream",
     "text": [
      "Auto-assigning NUTS sampler...\n",
      "Initializing NUTS using jitter+adapt_diag...\n",
      "Multiprocess sampling (4 chains in 4 jobs)\n",
      "NUTS: [A, D]\n",
      "Sampling 4 chains: 100%|██████████| 120000/120000 [01:39<00:00, 1208.89draws/s]\n",
      "/Users/hstrey/anaconda3/lib/python3.6/site-packages/mkl_fft/_numpy_fft.py:1044: FutureWarning: Using a non-tuple sequence for multidimensional indexing is deprecated; use `arr[tuple(seq)]` instead of `arr[seq]`. In the future this will be interpreted as an array index, `arr[np.array(seq)]`, which will result either in an error or a different result.\n",
      "  output = mkl_fft.rfftn_numpy(a, s, axes)\n"
     ]
    }
   ],
   "source": [
    "d_bound=20\n",
    "a_bound=20\n",
    "delta_t=delta_t_list[pick_delta]\n",
    "# compile model for reuse\n",
    "with pm.Model() as model:\n",
    "    D = pm.Uniform('D', lower=0, upper=d_bound)\n",
    "    A = pm.Uniform('A', lower=0, upper=a_bound)\n",
    "\n",
    "    B = pm.Deterministic('B', pm.math.exp(-delta_t * D / A))\n",
    "\n",
    "    path = Ornstein_Uhlenbeck('path',A=A, B=B, observed=data)\n",
    "    \n",
    "    trace = pm.sample(20000,tune=10000)"
   ]
  },
  {
   "cell_type": "code",
   "execution_count": 11,
   "metadata": {},
   "outputs": [
    {
     "data": {
      "text/plain": [
       "array([[<matplotlib.axes._subplots.AxesSubplot object at 0x1c2a070c50>,\n",
       "        <matplotlib.axes._subplots.AxesSubplot object at 0x1c2a295358>],\n",
       "       [<matplotlib.axes._subplots.AxesSubplot object at 0x1c2a2c6a20>,\n",
       "        <matplotlib.axes._subplots.AxesSubplot object at 0x1c2a2f1128>],\n",
       "       [<matplotlib.axes._subplots.AxesSubplot object at 0x1c2a0a5828>,\n",
       "        <matplotlib.axes._subplots.AxesSubplot object at 0x1c2a0c8eb8>]],\n",
       "      dtype=object)"
      ]
     },
     "execution_count": 11,
     "metadata": {},
     "output_type": "execute_result"
    },
    {
     "data": {
      "image/png": "[encoded data removed]",
      "text/plain": [
       "<Figure size 864x432 with 6 Axes>"
      ]
     },
     "metadata": {
      "needs_background": "light"
     },
     "output_type": "display_data"
    }
   ],
   "source": [
    "pm.traceplot(trace)"
   ]
  },
  {
   "cell_type": "code",
   "execution_count": 12,
   "metadata": {},
   "outputs": [
    {
     "name": "stdout",
     "output_type": "stream",
     "text": [
      "0.01\n"
     ]
    },
    {
     "name": "stderr",
     "output_type": "stream",
     "text": [
      "Auto-assigning NUTS sampler...\n",
      "Initializing NUTS using jitter+adapt_diag...\n",
      "Multiprocess sampling (4 chains in 4 jobs)\n",
      "NUTS: [A, D]\n",
      "Sampling 4 chains: 100%|██████████| 120000/120000 [01:59<00:00, 1004.11draws/s]\n",
      "/Users/hstrey/anaconda3/lib/python3.6/site-packages/mkl_fft/_numpy_fft.py:1044: FutureWarning: Using a non-tuple sequence for multidimensional indexing is deprecated; use `arr[tuple(seq)]` instead of `arr[seq]`. In the future this will be interpreted as an array index, `arr[np.array(seq)]`, which will result either in an error or a different result.\n",
      "  output = mkl_fft.rfftn_numpy(a, s, axes)\n",
      "The acceptance probability does not match the target. It is 0.6707121158890552, but should be close to 0.8. Try to increase the number of tuning steps.\n"
     ]
    },
    {
     "name": "stdout",
     "output_type": "stream",
     "text": [
      "0.09142857142857143\n"
     ]
    },
    {
     "name": "stderr",
     "output_type": "stream",
     "text": [
      "Auto-assigning NUTS sampler...\n",
      "Initializing NUTS using jitter+adapt_diag...\n",
      "Multiprocess sampling (4 chains in 4 jobs)\n",
      "NUTS: [A, D]\n",
      "Sampling 4 chains: 100%|██████████| 120000/120000 [01:40<00:00, 1188.48draws/s]\n"
     ]
    },
    {
     "name": "stdout",
     "output_type": "stream",
     "text": [
      "0.17285714285714288\n"
     ]
    },
    {
     "name": "stderr",
     "output_type": "stream",
     "text": [
      "Auto-assigning NUTS sampler...\n",
      "Initializing NUTS using jitter+adapt_diag...\n",
      "Multiprocess sampling (4 chains in 4 jobs)\n",
      "NUTS: [A, D]\n",
      "Sampling 4 chains: 100%|██████████| 120000/120000 [01:38<00:00, 1212.38draws/s]\n"
     ]
    },
    {
     "name": "stdout",
     "output_type": "stream",
     "text": [
      "0.2542857142857143\n"
     ]
    },
    {
     "name": "stderr",
     "output_type": "stream",
     "text": [
      "Auto-assigning NUTS sampler...\n",
      "Initializing NUTS using jitter+adapt_diag...\n",
      "Multiprocess sampling (4 chains in 4 jobs)\n",
      "NUTS: [A, D]\n",
      "Sampling 4 chains: 100%|██████████| 120000/120000 [01:38<00:00, 1219.46draws/s]\n"
     ]
    },
    {
     "name": "stdout",
     "output_type": "stream",
     "text": [
      "0.33571428571428574\n"
     ]
    },
    {
     "name": "stderr",
     "output_type": "stream",
     "text": [
      "Auto-assigning NUTS sampler...\n",
      "Initializing NUTS using jitter+adapt_diag...\n",
      "Multiprocess sampling (4 chains in 4 jobs)\n",
      "NUTS: [A, D]\n",
      "Sampling 4 chains: 100%|██████████| 120000/120000 [01:40<00:00, 429.15draws/s] \n"
     ]
    },
    {
     "name": "stdout",
     "output_type": "stream",
     "text": [
      "0.41714285714285715\n"
     ]
    },
    {
     "name": "stderr",
     "output_type": "stream",
     "text": [
      "Auto-assigning NUTS sampler...\n",
      "Initializing NUTS using jitter+adapt_diag...\n",
      "Multiprocess sampling (4 chains in 4 jobs)\n",
      "NUTS: [A, D]\n",
      "Sampling 4 chains: 100%|██████████| 120000/120000 [01:42<00:00, 1166.13draws/s]\n"
     ]
    },
    {
     "name": "stdout",
     "output_type": "stream",
     "text": [
      "0.4985714285714286\n"
     ]
    },
    {
     "name": "stderr",
     "output_type": "stream",
     "text": [
      "Auto-assigning NUTS sampler...\n",
      "Initializing NUTS using jitter+adapt_diag...\n",
      "Multiprocess sampling (4 chains in 4 jobs)\n",
      "NUTS: [A, D]\n",
      "Sampling 4 chains: 100%|██████████| 120000/120000 [01:37<00:00, 1228.13draws/s]\n"
     ]
    },
    {
     "name": "stdout",
     "output_type": "stream",
     "text": [
      "0.5800000000000001\n"
     ]
    },
    {
     "name": "stderr",
     "output_type": "stream",
     "text": [
      "Auto-assigning NUTS sampler...\n",
      "Initializing NUTS using jitter+adapt_diag...\n",
      "Multiprocess sampling (4 chains in 4 jobs)\n",
      "NUTS: [A, D]\n",
      "Sampling 4 chains: 100%|██████████| 120000/120000 [01:37<00:00, 1227.40draws/s]\n"
     ]
    },
    {
     "name": "stdout",
     "output_type": "stream",
     "text": [
      "0.6614285714285715\n"
     ]
    },
    {
     "name": "stderr",
     "output_type": "stream",
     "text": [
      "Auto-assigning NUTS sampler...\n",
      "Initializing NUTS using jitter+adapt_diag...\n",
      "Multiprocess sampling (4 chains in 4 jobs)\n",
      "NUTS: [A, D]\n",
      "Sampling 4 chains: 100%|██████████| 120000/120000 [01:43<00:00, 1160.79draws/s]\n"
     ]
    },
    {
     "name": "stdout",
     "output_type": "stream",
     "text": [
      "0.7428571428571429\n"
     ]
    },
    {
     "name": "stderr",
     "output_type": "stream",
     "text": [
      "Auto-assigning NUTS sampler...\n",
      "Initializing NUTS using jitter+adapt_diag...\n",
      "Multiprocess sampling (4 chains in 4 jobs)\n",
      "NUTS: [A, D]\n",
      "Sampling 4 chains: 100%|██████████| 120000/120000 [01:44<00:00, 1152.83draws/s]\n"
     ]
    },
    {
     "name": "stdout",
     "output_type": "stream",
     "text": [
      "0.8242857142857143\n"
     ]
    },
    {
     "name": "stderr",
     "output_type": "stream",
     "text": [
      "Auto-assigning NUTS sampler...\n",
      "Initializing NUTS using jitter+adapt_diag...\n",
      "Multiprocess sampling (4 chains in 4 jobs)\n",
      "NUTS: [A, D]\n",
      "Sampling 4 chains: 100%|██████████| 120000/120000 [01:43<00:00, 1160.17draws/s]\n"
     ]
    },
    {
     "name": "stdout",
     "output_type": "stream",
     "text": [
      "0.9057142857142858\n"
     ]
    },
    {
     "name": "stderr",
     "output_type": "stream",
     "text": [
      "Auto-assigning NUTS sampler...\n",
      "Initializing NUTS using jitter+adapt_diag...\n",
      "Multiprocess sampling (4 chains in 4 jobs)\n",
      "NUTS: [A, D]\n",
      "Sampling 4 chains: 100%|██████████| 120000/120000 [01:38<00:00, 1213.21draws/s]\n"
     ]
    },
    {
     "name": "stdout",
     "output_type": "stream",
     "text": [
      "0.9871428571428572\n"
     ]
    },
    {
     "name": "stderr",
     "output_type": "stream",
     "text": [
      "Auto-assigning NUTS sampler...\n",
      "Initializing NUTS using jitter+adapt_diag...\n",
      "Multiprocess sampling (4 chains in 4 jobs)\n",
      "NUTS: [A, D]\n",
      "Sampling 4 chains: 100%|██████████| 120000/120000 [01:49<00:00, 1091.07draws/s]\n"
     ]
    },
    {
     "name": "stdout",
     "output_type": "stream",
     "text": [
      "1.0685714285714287\n"
     ]
    },
    {
     "name": "stderr",
     "output_type": "stream",
     "text": [
      "Auto-assigning NUTS sampler...\n",
      "Initializing NUTS using jitter+adapt_diag...\n",
      "Multiprocess sampling (4 chains in 4 jobs)\n",
      "NUTS: [A, D]\n",
      "Sampling 4 chains: 100%|██████████| 120000/120000 [01:49<00:00, 1100.07draws/s]\n"
     ]
    },
    {
     "name": "stdout",
     "output_type": "stream",
     "text": [
      "1.1500000000000001\n"
     ]
    },
    {
     "name": "stderr",
     "output_type": "stream",
     "text": [
      "Auto-assigning NUTS sampler...\n",
      "Initializing NUTS using jitter+adapt_diag...\n",
      "Multiprocess sampling (4 chains in 4 jobs)\n",
      "NUTS: [A, D]\n",
      "Sampling 4 chains: 100%|██████████| 120000/120000 [01:53<00:00, 1057.39draws/s]\n"
     ]
    },
    {
     "name": "stdout",
     "output_type": "stream",
     "text": [
      "1.2314285714285715\n"
     ]
    },
    {
     "name": "stderr",
     "output_type": "stream",
     "text": [
      "Auto-assigning NUTS sampler...\n",
      "Initializing NUTS using jitter+adapt_diag...\n",
      "Multiprocess sampling (4 chains in 4 jobs)\n",
      "NUTS: [A, D]\n",
      "Sampling 4 chains: 100%|██████████| 120000/120000 [01:48<00:00, 1109.77draws/s]\n"
     ]
    },
    {
     "name": "stdout",
     "output_type": "stream",
     "text": [
      "1.312857142857143\n"
     ]
    },
    {
     "name": "stderr",
     "output_type": "stream",
     "text": [
      "Auto-assigning NUTS sampler...\n",
      "Initializing NUTS using jitter+adapt_diag...\n",
      "Multiprocess sampling (4 chains in 4 jobs)\n",
      "NUTS: [A, D]\n",
      "Sampling 4 chains: 100%|██████████| 120000/120000 [01:52<00:00, 1070.93draws/s]\n"
     ]
    },
    {
     "name": "stdout",
     "output_type": "stream",
     "text": [
      "1.3942857142857144\n"
     ]
    },
    {
     "name": "stderr",
     "output_type": "stream",
     "text": [
      "Auto-assigning NUTS sampler...\n",
      "Initializing NUTS using jitter+adapt_diag...\n",
      "Multiprocess sampling (4 chains in 4 jobs)\n",
      "NUTS: [A, D]\n",
      "Sampling 4 chains: 100%|██████████| 120000/120000 [01:52<00:00, 1061.97draws/s]\n"
     ]
    },
    {
     "name": "stdout",
     "output_type": "stream",
     "text": [
      "1.4757142857142858\n"
     ]
    },
    {
     "name": "stderr",
     "output_type": "stream",
     "text": [
      "Auto-assigning NUTS sampler...\n",
      "Initializing NUTS using jitter+adapt_diag...\n",
      "Multiprocess sampling (4 chains in 4 jobs)\n",
      "NUTS: [A, D]\n",
      "Sampling 4 chains: 100%|██████████| 120000/120000 [02:07<00:00, 938.59draws/s] \n"
     ]
    },
    {
     "name": "stdout",
     "output_type": "stream",
     "text": [
      "1.5571428571428572\n"
     ]
    },
    {
     "name": "stderr",
     "output_type": "stream",
     "text": [
      "Auto-assigning NUTS sampler...\n",
      "Initializing NUTS using jitter+adapt_diag...\n",
      "Multiprocess sampling (4 chains in 4 jobs)\n",
      "NUTS: [A, D]\n",
      "Sampling 4 chains: 100%|██████████| 120000/120000 [02:02<00:00, 976.93draws/s] \n"
     ]
    },
    {
     "name": "stdout",
     "output_type": "stream",
     "text": [
      "1.6385714285714286\n"
     ]
    },
    {
     "name": "stderr",
     "output_type": "stream",
     "text": [
      "Auto-assigning NUTS sampler...\n",
      "Initializing NUTS using jitter+adapt_diag...\n",
      "Multiprocess sampling (4 chains in 4 jobs)\n",
      "NUTS: [A, D]\n",
      "Sampling 4 chains: 100%|██████████| 120000/120000 [02:24<00:00, 831.93draws/s] \n"
     ]
    },
    {
     "name": "stdout",
     "output_type": "stream",
     "text": [
      "1.7200000000000002\n"
     ]
    },
    {
     "name": "stderr",
     "output_type": "stream",
     "text": [
      "Auto-assigning NUTS sampler...\n",
      "Initializing NUTS using jitter+adapt_diag...\n",
      "Multiprocess sampling (4 chains in 4 jobs)\n",
      "NUTS: [A, D]\n",
      "Sampling 4 chains: 100%|██████████| 120000/120000 [02:23<00:00, 837.44draws/s] \n"
     ]
    },
    {
     "name": "stdout",
     "output_type": "stream",
     "text": [
      "1.8014285714285716\n"
     ]
    },
    {
     "name": "stderr",
     "output_type": "stream",
     "text": [
      "Auto-assigning NUTS sampler...\n",
      "Initializing NUTS using jitter+adapt_diag...\n",
      "Multiprocess sampling (4 chains in 4 jobs)\n",
      "NUTS: [A, D]\n",
      "Sampling 4 chains: 100%|██████████| 120000/120000 [02:24<00:00, 828.31draws/s] \n"
     ]
    },
    {
     "name": "stdout",
     "output_type": "stream",
     "text": [
      "1.882857142857143\n"
     ]
    },
    {
     "name": "stderr",
     "output_type": "stream",
     "text": [
      "Auto-assigning NUTS sampler...\n",
      "Initializing NUTS using jitter+adapt_diag...\n",
      "Multiprocess sampling (4 chains in 4 jobs)\n",
      "NUTS: [A, D]\n",
      "Sampling 4 chains: 100%|██████████| 120000/120000 [02:24<00:00, 828.63draws/s] \n",
      "The acceptance probability does not match the target. It is 0.7211230460996797, but should be close to 0.8. Try to increase the number of tuning steps.\n"
     ]
    },
    {
     "name": "stdout",
     "output_type": "stream",
     "text": [
      "1.9642857142857144\n"
     ]
    },
    {
     "name": "stderr",
     "output_type": "stream",
     "text": [
      "Auto-assigning NUTS sampler...\n",
      "Initializing NUTS using jitter+adapt_diag...\n",
      "Multiprocess sampling (4 chains in 4 jobs)\n",
      "NUTS: [A, D]\n",
      "Sampling 4 chains: 100%|██████████| 120000/120000 [02:10<00:00, 918.02draws/s] \n"
     ]
    },
    {
     "name": "stdout",
     "output_type": "stream",
     "text": [
      "2.045714285714286\n"
     ]
    },
    {
     "name": "stderr",
     "output_type": "stream",
     "text": [
      "Auto-assigning NUTS sampler...\n",
      "Initializing NUTS using jitter+adapt_diag...\n",
      "Multiprocess sampling (4 chains in 4 jobs)\n",
      "NUTS: [A, D]\n",
      "Sampling 4 chains: 100%|██████████| 120000/120000 [02:25<00:00, 822.19draws/s] \n",
      "The acceptance probability does not match the target. It is 0.7018979069548527, but should be close to 0.8. Try to increase the number of tuning steps.\n"
     ]
    },
    {
     "name": "stdout",
     "output_type": "stream",
     "text": [
      "2.1271428571428572\n"
     ]
    },
    {
     "name": "stderr",
     "output_type": "stream",
     "text": [
      "Auto-assigning NUTS sampler...\n",
      "Initializing NUTS using jitter+adapt_diag...\n",
      "Multiprocess sampling (4 chains in 4 jobs)\n",
      "NUTS: [A, D]\n",
      "Sampling 4 chains: 100%|██████████| 120000/120000 [02:13<00:00, 896.42draws/s] \n"
     ]
    },
    {
     "name": "stdout",
     "output_type": "stream",
     "text": [
      "2.2085714285714286\n"
     ]
    },
    {
     "name": "stderr",
     "output_type": "stream",
     "text": [
      "Auto-assigning NUTS sampler...\n",
      "Initializing NUTS using jitter+adapt_diag...\n",
      "Multiprocess sampling (4 chains in 4 jobs)\n",
      "NUTS: [A, D]\n",
      "Sampling 4 chains: 100%|██████████| 120000/120000 [01:49<00:00, 1099.60draws/s]\n"
     ]
    },
    {
     "name": "stdout",
     "output_type": "stream",
     "text": [
      "2.29\n"
     ]
    },
    {
     "name": "stderr",
     "output_type": "stream",
     "text": [
      "Auto-assigning NUTS sampler...\n",
      "Initializing NUTS using jitter+adapt_diag...\n",
      "Multiprocess sampling (4 chains in 4 jobs)\n",
      "NUTS: [A, D]\n",
      "Sampling 4 chains: 100%|██████████| 120000/120000 [02:12<00:00, 907.59draws/s] \n"
     ]
    },
    {
     "name": "stdout",
     "output_type": "stream",
     "text": [
      "2.3714285714285714\n"
     ]
    },
    {
     "name": "stderr",
     "output_type": "stream",
     "text": [
      "Auto-assigning NUTS sampler...\n",
      "Initializing NUTS using jitter+adapt_diag...\n",
      "Multiprocess sampling (4 chains in 4 jobs)\n",
      "NUTS: [A, D]\n",
      "Sampling 4 chains: 100%|██████████| 120000/120000 [01:58<00:00, 1014.83draws/s]\n"
     ]
    },
    {
     "name": "stdout",
     "output_type": "stream",
     "text": [
      "2.452857142857143\n"
     ]
    },
    {
     "name": "stderr",
     "output_type": "stream",
     "text": [
      "Auto-assigning NUTS sampler...\n",
      "Initializing NUTS using jitter+adapt_diag...\n",
      "Multiprocess sampling (4 chains in 4 jobs)\n",
      "NUTS: [A, D]\n",
      "Sampling 4 chains: 100%|██████████| 120000/120000 [01:46<00:00, 1121.68draws/s]\n"
     ]
    },
    {
     "name": "stdout",
     "output_type": "stream",
     "text": [
      "2.5342857142857143\n"
     ]
    },
    {
     "name": "stderr",
     "output_type": "stream",
     "text": [
      "Auto-assigning NUTS sampler...\n",
      "Initializing NUTS using jitter+adapt_diag...\n",
      "Multiprocess sampling (4 chains in 4 jobs)\n",
      "NUTS: [A, D]\n",
      "Sampling 4 chains: 100%|██████████| 120000/120000 [01:56<00:00, 1026.88draws/s]\n"
     ]
    },
    {
     "name": "stdout",
     "output_type": "stream",
     "text": [
      "2.6157142857142857\n"
     ]
    },
    {
     "name": "stderr",
     "output_type": "stream",
     "text": [
      "Auto-assigning NUTS sampler...\n",
      "Initializing NUTS using jitter+adapt_diag...\n",
      "Multiprocess sampling (4 chains in 4 jobs)\n",
      "NUTS: [A, D]\n",
      "Sampling 4 chains: 100%|██████████| 120000/120000 [01:58<00:00, 1015.53draws/s]\n"
     ]
    },
    {
     "name": "stdout",
     "output_type": "stream",
     "text": [
      "2.697142857142857\n"
     ]
    },
    {
     "name": "stderr",
     "output_type": "stream",
     "text": [
      "Auto-assigning NUTS sampler...\n",
      "Initializing NUTS using jitter+adapt_diag...\n",
      "Multiprocess sampling (4 chains in 4 jobs)\n",
      "NUTS: [A, D]\n",
      "Sampling 4 chains: 100%|██████████| 120000/120000 [02:00<00:00, 997.23draws/s] \n"
     ]
    },
    {
     "name": "stdout",
     "output_type": "stream",
     "text": [
      "2.7785714285714285\n"
     ]
    },
    {
     "name": "stderr",
     "output_type": "stream",
     "text": [
      "Auto-assigning NUTS sampler...\n",
      "Initializing NUTS using jitter+adapt_diag...\n",
      "Multiprocess sampling (4 chains in 4 jobs)\n",
      "NUTS: [A, D]\n",
      "Sampling 4 chains: 100%|██████████| 120000/120000 [02:09<00:00, 929.76draws/s] \n"
     ]
    },
    {
     "name": "stdout",
     "output_type": "stream",
     "text": [
      "2.86\n"
     ]
    },
    {
     "name": "stderr",
     "output_type": "stream",
     "text": [
      "Auto-assigning NUTS sampler...\n",
      "Initializing NUTS using jitter+adapt_diag...\n",
      "Multiprocess sampling (4 chains in 4 jobs)\n",
      "NUTS: [A, D]\n",
      "Sampling 4 chains: 100%|██████████| 120000/120000 [02:09<00:00, 368.59draws/s] \n"
     ]
    },
    {
     "name": "stdout",
     "output_type": "stream",
     "text": [
      "2.9414285714285713\n"
     ]
    },
    {
     "name": "stderr",
     "output_type": "stream",
     "text": [
      "Auto-assigning NUTS sampler...\n",
      "Initializing NUTS using jitter+adapt_diag...\n",
      "Multiprocess sampling (4 chains in 4 jobs)\n",
      "NUTS: [A, D]\n",
      "Sampling 4 chains: 100%|██████████| 120000/120000 [02:04<00:00, 962.99draws/s] \n"
     ]
    },
    {
     "name": "stdout",
     "output_type": "stream",
     "text": [
      "3.0228571428571427\n"
     ]
    },
    {
     "name": "stderr",
     "output_type": "stream",
     "text": [
      "Auto-assigning NUTS sampler...\n",
      "Initializing NUTS using jitter+adapt_diag...\n",
      "Multiprocess sampling (4 chains in 4 jobs)\n",
      "NUTS: [A, D]\n",
      "Sampling 4 chains: 100%|██████████| 120000/120000 [02:03<00:00, 975.40draws/s] \n"
     ]
    },
    {
     "name": "stdout",
     "output_type": "stream",
     "text": [
      "3.104285714285714\n"
     ]
    },
    {
     "name": "stderr",
     "output_type": "stream",
     "text": [
      "Auto-assigning NUTS sampler...\n",
      "Initializing NUTS using jitter+adapt_diag...\n",
      "Multiprocess sampling (4 chains in 4 jobs)\n",
      "NUTS: [A, D]\n",
      "Sampling 4 chains: 100%|██████████| 120000/120000 [01:47<00:00, 1114.47draws/s]\n"
     ]
    },
    {
     "name": "stdout",
     "output_type": "stream",
     "text": [
      "3.1857142857142855\n"
     ]
    },
    {
     "name": "stderr",
     "output_type": "stream",
     "text": [
      "Auto-assigning NUTS sampler...\n",
      "Initializing NUTS using jitter+adapt_diag...\n",
      "Multiprocess sampling (4 chains in 4 jobs)\n",
      "NUTS: [A, D]\n",
      "Sampling 4 chains: 100%|██████████| 120000/120000 [02:06<00:00, 947.32draws/s] \n"
     ]
    },
    {
     "name": "stdout",
     "output_type": "stream",
     "text": [
      "3.267142857142857\n"
     ]
    },
    {
     "name": "stderr",
     "output_type": "stream",
     "text": [
      "Auto-assigning NUTS sampler...\n",
      "Initializing NUTS using jitter+adapt_diag...\n",
      "Multiprocess sampling (4 chains in 4 jobs)\n",
      "NUTS: [A, D]\n",
      "Sampling 4 chains: 100%|██████████| 120000/120000 [02:13<00:00, 898.83draws/s] \n"
     ]
    },
    {
     "name": "stdout",
     "output_type": "stream",
     "text": [
      "3.3485714285714288\n"
     ]
    },
    {
     "name": "stderr",
     "output_type": "stream",
     "text": [
      "Auto-assigning NUTS sampler...\n",
      "Initializing NUTS using jitter+adapt_diag...\n",
      "Multiprocess sampling (4 chains in 4 jobs)\n",
      "NUTS: [A, D]\n",
      "Sampling 4 chains: 100%|██████████| 120000/120000 [02:16<00:00, 879.91draws/s] \n",
      "The acceptance probability does not match the target. It is 0.6615696348006885, but should be close to 0.8. Try to increase the number of tuning steps.\n",
      "The acceptance probability does not match the target. It is 0.7139275217757943, but should be close to 0.8. Try to increase the number of tuning steps.\n"
     ]
    },
    {
     "name": "stdout",
     "output_type": "stream",
     "text": [
      "3.43\n"
     ]
    },
    {
     "name": "stderr",
     "output_type": "stream",
     "text": [
      "Auto-assigning NUTS sampler...\n",
      "Initializing NUTS using jitter+adapt_diag...\n",
      "Multiprocess sampling (4 chains in 4 jobs)\n",
      "NUTS: [A, D]\n",
      "Sampling 4 chains: 100%|██████████| 120000/120000 [02:11<00:00, 910.37draws/s] \n"
     ]
    },
    {
     "name": "stdout",
     "output_type": "stream",
     "text": [
      "3.5114285714285716\n"
     ]
    },
    {
     "name": "stderr",
     "output_type": "stream",
     "text": [
      "Auto-assigning NUTS sampler...\n",
      "Initializing NUTS using jitter+adapt_diag...\n",
      "Multiprocess sampling (4 chains in 4 jobs)\n",
      "NUTS: [A, D]\n",
      "Sampling 4 chains: 100%|██████████| 120000/120000 [02:19<00:00, 862.04draws/s]\n"
     ]
    },
    {
     "name": "stdout",
     "output_type": "stream",
     "text": [
      "3.592857142857143\n"
     ]
    },
    {
     "name": "stderr",
     "output_type": "stream",
     "text": [
      "Auto-assigning NUTS sampler...\n",
      "Initializing NUTS using jitter+adapt_diag...\n",
      "Multiprocess sampling (4 chains in 4 jobs)\n",
      "NUTS: [A, D]\n",
      "Sampling 4 chains: 100%|██████████| 120000/120000 [02:46<00:00, 719.54draws/s]\n",
      "The acceptance probability does not match the target. It is 0.6303915595261954, but should be close to 0.8. Try to increase the number of tuning steps.\n",
      "The acceptance probability does not match the target. It is 0.8817741970464621, but should be close to 0.8. Try to increase the number of tuning steps.\n"
     ]
    },
    {
     "name": "stdout",
     "output_type": "stream",
     "text": [
      "3.6742857142857144\n"
     ]
    },
    {
     "name": "stderr",
     "output_type": "stream",
     "text": [
      "Auto-assigning NUTS sampler...\n",
      "Initializing NUTS using jitter+adapt_diag...\n",
      "Multiprocess sampling (4 chains in 4 jobs)\n",
      "NUTS: [A, D]\n",
      "Sampling 4 chains: 100%|██████████| 120000/120000 [02:44<00:00, 730.14draws/s]\n"
     ]
    },
    {
     "name": "stdout",
     "output_type": "stream",
     "text": [
      "3.755714285714286\n"
     ]
    },
    {
     "name": "stderr",
     "output_type": "stream",
     "text": [
      "Auto-assigning NUTS sampler...\n",
      "Initializing NUTS using jitter+adapt_diag...\n",
      "Multiprocess sampling (4 chains in 4 jobs)\n",
      "NUTS: [A, D]\n",
      "Sampling 4 chains: 100%|██████████| 120000/120000 [02:54<00:00, 688.02draws/s]\n"
     ]
    },
    {
     "name": "stdout",
     "output_type": "stream",
     "text": [
      "3.837142857142857\n"
     ]
    },
    {
     "name": "stderr",
     "output_type": "stream",
     "text": [
      "Auto-assigning NUTS sampler...\n",
      "Initializing NUTS using jitter+adapt_diag...\n",
      "Multiprocess sampling (4 chains in 4 jobs)\n",
      "NUTS: [A, D]\n",
      "Sampling 4 chains: 100%|██████████| 120000/120000 [02:50<00:00, 705.65draws/s]\n"
     ]
    },
    {
     "name": "stdout",
     "output_type": "stream",
     "text": [
      "3.9185714285714286\n"
     ]
    },
    {
     "name": "stderr",
     "output_type": "stream",
     "text": [
      "Auto-assigning NUTS sampler...\n",
      "Initializing NUTS using jitter+adapt_diag...\n",
      "Multiprocess sampling (4 chains in 4 jobs)\n",
      "NUTS: [A, D]\n",
      "Sampling 4 chains: 100%|██████████| 120000/120000 [02:51<00:00, 700.28draws/s]\n"
     ]
    },
    {
     "name": "stdout",
     "output_type": "stream",
     "text": [
      "4.0\n"
     ]
    },
    {
     "name": "stderr",
     "output_type": "stream",
     "text": [
      "Auto-assigning NUTS sampler...\n",
      "Initializing NUTS using jitter+adapt_diag...\n",
      "Multiprocess sampling (4 chains in 4 jobs)\n",
      "NUTS: [A, D]\n",
      "Sampling 4 chains: 100%|██████████| 120000/120000 [03:00<00:00, 664.41draws/s]\n",
      "The number of effective samples is smaller than 10% for some parameters.\n"
     ]
    }
   ],
   "source": [
    "result_array = None\n",
    "for delta_t in delta_t_list:\n",
    "    print(delta_t)\n",
    "    data = langevin.time_series(A=AA, D=DD, delta_t=delta_t, N=N)\n",
    "    with pm.Model() as model:\n",
    "        D = pm.Uniform('D', lower=0, upper=d_bound)\n",
    "        A = pm.Uniform('A', lower=0, upper=a_bound)\n",
    "\n",
    "        B = pm.Deterministic('B', pm.math.exp(-delta_t * D / A))\n",
    "\n",
    "        path = Ornstein_Uhlenbeck('path',A=A, B=B, observed=data)\n",
    "    \n",
    "        trace = pm.sample(20000,tune=10000)\n",
    "        \n",
    "    a_mean = trace['A'].mean()\n",
    "    d_mean = trace['D'].mean()\n",
    "    a_std = trace['A'].std()\n",
    "    d_std = trace['D'].std()\n",
    "    results = [a_mean,a_std,d_mean,d_std]\n",
    "    if result_array is None:\n",
    "        result_array = results\n",
    "    else:\n",
    "        result_array = np.vstack((result_array, results))"
   ]
  },
  {
   "cell_type": "code",
   "execution_count": 13,
   "metadata": {},
   "outputs": [
    {
     "data": {
      "text/plain": [
       "[<matplotlib.lines.Line2D at 0x1c2a4c2f28>]"
      ]
     },
     "execution_count": 13,
     "metadata": {},
     "output_type": "execute_result"
    },
    {
     "data": {
      "image/png": "[encoded data removed]",
      "text/plain": [
       "<Figure size 432x288 with 1 Axes>"
      ]
     },
     "metadata": {
      "needs_background": "light"
     },
     "output_type": "display_data"
    }
   ],
   "source": [
    "plt.semilogy(delta_t_list,result_array.T[3])"
   ]
  },
  {
   "cell_type": "code",
   "execution_count": 14,
   "metadata": {},
   "outputs": [
    {
     "data": {
      "text/plain": [
       "[<matplotlib.lines.Line2D at 0x1c2bddf0b8>]"
      ]
     },
     "execution_count": 14,
     "metadata": {},
     "output_type": "execute_result"
    },
    {
     "data": {
      "image/png": "[encoded data removed]",
      "text/plain": [
       "<Figure size 432x288 with 1 Axes>"
      ]
     },
     "metadata": {
      "needs_background": "light"
     },
     "output_type": "display_data"
    }
   ],
   "source": [
    "plt.semilogy(delta_t_list,result_array.T[1])"
   ]
  },
  {
   "cell_type": "code",
   "execution_count": 15,
   "metadata": {},
   "outputs": [
    {
     "data": {
      "text/plain": [
       "[<matplotlib.lines.Line2D at 0x1c29c21c18>]"
      ]
     },
     "execution_count": 15,
     "metadata": {},
     "output_type": "execute_result"
    },
    {
     "data": {
      "image/png": "[encoded data removed]",
      "text/plain": [
       "<Figure size 432x288 with 1 Axes>"
      ]
     },
     "metadata": {
      "needs_background": "light"
     },
     "output_type": "display_data"
    }
   ],
   "source": [
    "dtau = np.sqrt(result_array.T[1]**2+result_array.T[3]**2)\n",
    "plt.semilogy(delta_t_list,dtau,\"o\")"
   ]
  },
  {
   "cell_type": "code",
   "execution_count": 16,
   "metadata": {},
   "outputs": [
    {
     "data": {
      "text/plain": [
       "[<matplotlib.lines.Line2D at 0x1c306c26a0>]"
      ]
     },
     "execution_count": 16,
     "metadata": {},
     "output_type": "execute_result"
    },
    {
     "data": {
      "image/png": "[encoded data removed]",
      "text/plain": [
       "<Figure size 432x288 with 1 Axes>"
      ]
     },
     "metadata": {
      "needs_background": "light"
     },
     "output_type": "display_data"
    }
   ],
   "source": [
    "plt.semilogy(delta_t_list,result_array.T[3],\"o\",label=r\"$dD/D$\")"
   ]
  },
  {
   "cell_type": "code",
   "execution_count": 20,
   "metadata": {},
   "outputs": [],
   "source": [
    "# function to calculate A and B from the dataset\n",
    "def OUlargeN(N,A,B):\n",
    "    data1sq = A\n",
    "    dataNsq = A\n",
    "    datasq = (N-2)*A\n",
    "    datacorr = (N-1)*A*B\n",
    "    P2A = -N/2/A**2\n",
    "    Btmp = (N-1)*(1+B**2)/(1-B**2)**2\n",
    "    tmp = (2+6*B**2)*(data1sq+dataNsq) + (4+12*B**2)*datasq - (12*B+4*B**3)*datacorr\n",
    "    P2B = Btmp - tmp/A/2/(1-B**2)**3\n",
    "    PAB = (N-1)*B/A/(1-B**2)\n",
    "    dA = np.sqrt(-P2B/(P2A*P2B-PAB**2))\n",
    "    dB = np.sqrt(-P2A/(P2A*P2B-PAB**2))\n",
    "    return dA,dB\n",
    "\n",
    "def OUlargeN2(deltat,N,A,tau):\n",
    "    dA,dB = OUlargeN(N,A,np.exp(-deltat/tau))\n",
    "    dtau = np.exp(deltat/tau)*tau/deltat*dB\n",
    "    return dA,dtau\n",
    "\n",
    "def OUlargeNdtau(deltat,N,A,tau):\n",
    "    dA,dB = OUlargeN(N,A,np.exp(-deltat/tau))\n",
    "    dtau = np.exp(deltat/tau)*tau/deltat*dB\n",
    "    return dtau\n"
   ]
  },
  {
   "cell_type": "code",
   "execution_count": 21,
   "metadata": {},
   "outputs": [],
   "source": [
    "dAt,dtaut = OUlargeN2(delta_t_list,100000,1,1)"
   ]
  },
  {
   "cell_type": "code",
   "execution_count": 17,
   "metadata": {},
   "outputs": [
    {
     "data": {
      "text/plain": [
       "<matplotlib.legend.Legend at 0x1c263cd908>"
      ]
     },
     "execution_count": 17,
     "metadata": {},
     "output_type": "execute_result"
    },
    {
     "data": {
      "image/png": "[encoded data removed]",
      "text/plain": [
       "<Figure size 432x288 with 1 Axes>"
      ]
     },
     "metadata": {
      "needs_background": "light"
     },
     "output_type": "display_data"
    }
   ],
   "source": [
    "plt.semilogy(delta_t_list,result_array.T[3],\"o\",label=r\"$dD/D$\")\n",
    "plt.semilogy(delta_t_list,result_array.T[1],\"o\",label=r'$dA/A$')\n",
    "plt.semilogy(delta_t_list,dtau,\"o\",label=r'$d\\tau/\\tau$')\n",
    "plt.xlabel(r'$\\Delta t/\\tau$')\n",
    "plt.ylabel(\"relative error\")\n",
    "plt.legend()"
   ]
  },
  {
   "cell_type": "code",
   "execution_count": 32,
   "metadata": {},
   "outputs": [
    {
     "data": {
      "text/plain": [
       "array([0.00448436, 0.00469024, 0.00483756, 0.0050082 , 0.00519471,\n",
       "       0.00548525, 0.00570548, 0.00581807, 0.00610982, 0.00625748,\n",
       "       0.00648739, 0.00678642, 0.00696807, 0.00737972, 0.00759159,\n",
       "       0.00789547, 0.0082585 , 0.00854288, 0.00898338, 0.0094004 ,\n",
       "       0.00956691, 0.00992503, 0.01058945, 0.01118118, 0.01124841,\n",
       "       0.01156248, 0.01209093, 0.01285228, 0.01396464, 0.01494869,\n",
       "       0.01407299, 0.0153801 , 0.01685775, 0.0177234 , 0.01960731,\n",
       "       0.02023764, 0.02108697, 0.02112391, 0.02357771, 0.02390514,\n",
       "       0.02387387, 0.03091935, 0.02800515, 0.02827125, 0.03741653,\n",
       "       0.03596699, 0.03689829, 0.04060072, 0.0345806 ])"
      ]
     },
     "execution_count": 32,
     "metadata": {},
     "output_type": "execute_result"
    }
   ],
   "source": [
    "result_array.T[3][:-1]"
   ]
  },
  {
   "cell_type": "code",
   "execution_count": 38,
   "metadata": {},
   "outputs": [
    {
     "data": {
      "image/png": "[encoded data removed]",
      "text/plain": [
       "<Figure size 432x288 with 1 Axes>"
      ]
     },
     "metadata": {
      "needs_background": "light"
     },
     "output_type": "display_data"
    }
   ],
   "source": [
    "plt.semilogy(delta_t_list[:-1],result_array.T[3][:-1]/DD,\"ko\",markersize=8,fillstyle=\"none\",markeredgewidth=1,markeredgecolor=\"k\",label=r\"$dD/D$\")\n",
    "plt.semilogy(delta_t_list[:-1],result_array.T[1][:-1]/AA,\"kv\",markersize=8,fillstyle=\"none\",markeredgewidth=1,markeredgecolor=\"k\",label=r'$dA/A$')\n",
    "plt.semilogy(delta_t_list[:-1],dtau[:-1]/tau_real,\"ks\",markersize=8,fillstyle=\"none\",markeredgewidth=1,markeredgecolor=\"k\",label=r'$d\\tau/\\tau$')\n",
    "plt.semilogy(delta_t_list[:-1],dtaut[:-1],\"k-\",label=r\"$d\\tau/\\tau$ ind\",linewidth=2)\n",
    "plt.semilogy(delta_t_list[:-1],result_Bayes_array.T[1][:-1]/AA,\"k--\",label=r\"$dA/A$ ind\",linewidth=2)\n",
    "plt.xlabel(r'$\\Delta t/\\tau$')\n",
    "plt.ylabel(\"relative error\")\n",
    "plt.legend(ncol=2)\n",
    "plt.savefig(\"optimaldt_1_1.png\",format='png',dpi=300,bbox_inches='tight',facecolor=\"white\",backgroundcolor=\"white\")"
   ]
  },
  {
   "cell_type": "code",
   "execution_count": 19,
   "metadata": {},
   "outputs": [],
   "source": [
    "data_label = \"1_1\"\n",
    "np.save(\"dtnorm_\"+data_label,delta_t_list/tau_real)\n",
    "np.save(\"dD_D_\"+data_label,result_array.T[3]/DD)\n",
    "np.save(\"dA_A_\"+data_label,result_array.T[1]/AA)\n",
    "np.save(\"dtau_tau_\"+data_label,dtau/tau_real)\n",
    "np.save(\"dtau_tau_ind_\"+data_label,result_Bayes_array.T[3]/tau_real)\n",
    "np.save(\"dA_A_ind_\"+data_label,result_Bayes_array.T[1]/AA)\n"
   ]
  },
  {
   "cell_type": "code",
   "execution_count": null,
   "metadata": {},
   "outputs": [],
   "source": []
  }
 ],
 "metadata": {
  "anaconda-cloud": {},
  "kernelspec": {
   "display_name": "Python 3",
   "language": "python",
   "name": "python3"
  },
  "language_info": {
   "codemirror_mode": {
    "name": "ipython",
    "version": 3
   },
   "file_extension": ".py",
   "mimetype": "text/x-python",
   "name": "python",
   "nbconvert_exporter": "python",
   "pygments_lexer": "ipython3",
   "version": "3.6.6"
  }
 },
 "nbformat": 4,
 "nbformat_minor": 2
}
