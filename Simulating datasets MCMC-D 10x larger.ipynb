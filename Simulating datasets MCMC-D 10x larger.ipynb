{
 "cells": [
  {
   "cell_type": "code",
   "execution_count": 1,
   "metadata": {},
   "outputs": [
    {
     "name": "stdout",
     "output_type": "stream",
     "text": [
      "['seaborn-dark', 'seaborn-darkgrid', 'seaborn-ticks', 'fivethirtyeight', 'seaborn-whitegrid', 'classic', '_classic_test', 'fast', 'seaborn-talk', 'seaborn-dark-palette', 'seaborn-bright', 'seaborn-pastel', 'grayscale', 'seaborn-notebook', 'ggplot', 'seaborn-colorblind', 'seaborn-muted', 'seaborn', 'Solarize_Light2', 'seaborn-paper', 'bmh', 'tableau-colorblind10', 'seaborn-white', 'dark_background', 'seaborn-poster', 'seaborn-deep']\n"
     ]
    }
   ],
   "source": [
    "%matplotlib inline\n",
    "import numpy as np\n",
    "import matplotlib.pyplot as plt\n",
    "import pandas as pd\n",
    "import pymc3 as pm\n",
    "import langevin\n",
    "import langevin_cached_model as lcm\n",
    "import lmfit as lm\n",
    "from lmfit.models import ExponentialModel\n",
    "from scipy.stats import pearsonr\n",
    "from scipy.optimize import minimize_scalar\n",
    "\n",
    "SMALL_SIZE = 16\n",
    "MEDIUM_SIZE = 18\n",
    "BIGGER_SIZE = 20\n",
    "\n",
    "plt.rc('font', size=SMALL_SIZE)          # controls default text sizes\n",
    "plt.rc('axes', titlesize=SMALL_SIZE)     # fontsize of the axes title\n",
    "plt.rc('axes', labelsize=MEDIUM_SIZE)    # fontsize of the x and y labels\n",
    "plt.rc('xtick', labelsize=SMALL_SIZE)    # fontsize of the tick labels\n",
    "plt.rc('ytick', labelsize=SMALL_SIZE)    # fontsize of the tick labels\n",
    "plt.rc('legend', fontsize=SMALL_SIZE)    # legend fontsize\n",
    "plt.rc('figure', titlesize=BIGGER_SIZE)  # fontsize of the figure title\n",
    "\n",
    "SEED = 35010732 # from random.org\n",
    "np.random.seed(SEED)\n",
    "\n",
    "print(plt.style.available)\n",
    "plt.style.use('seaborn-white')"
   ]
  },
  {
   "cell_type": "code",
   "execution_count": 2,
   "metadata": {},
   "outputs": [],
   "source": [
    "# function to calculate A and B from the dataset\n",
    "def OUanalytic1(data):\n",
    "    N = data.size\n",
    "    data1sq = data[0]**2\n",
    "    dataNsq = data[-1]**2\n",
    "    datasq = np.sum(data[1:-1]**2)\n",
    "    datacorr = np.sum(data[0:-1]*data[1:])\n",
    "    coef = [(N-1)*datasq,\n",
    "       (2.0-N)*datacorr,\n",
    "       -data1sq-(N+1)*datasq-dataNsq,\n",
    "       N*datacorr]\n",
    "    B=np.roots(coef)[-1]\n",
    "    Q=(data1sq+dataNsq)/(1-B**2)\n",
    "    Q=Q+datasq*(1+B**2)/(1-B**2)\n",
    "    Q=Q-datacorr*2*B/(1-B**2)\n",
    "    A = Q/N\n",
    "    P2A = -N/2/A**2\n",
    "    Btmp = (N-1)*(1+B**2)/(1-B**2)**2\n",
    "    tmp = (2+6*B**2)*(data1sq+dataNsq) + (4+12*B**2)*datasq - (12*B+4*B**3)*datacorr\n",
    "    P2B = Btmp - tmp/A/2/(1-B**2)**3\n",
    "    PAB = (N-1)*B/A/(1-B**2)\n",
    "    dA = np.sqrt(-P2B/(P2A*P2B-PAB**2))\n",
    "    dB = np.sqrt(-P2A/(P2A*P2B-PAB**2))\n",
    "    return A,dA,B,dB\n",
    "\n",
    "def OUresult1(data,deltat):\n",
    "    A, dA, B ,dB = OUanalytic1(data)\n",
    "    tau = -deltat/np.log(B)\n",
    "    dtau = deltat*dB/B/np.log(B)**2\n",
    "    return A,dA,tau,dtau"
   ]
  },
  {
   "cell_type": "code",
   "execution_count": 3,
   "metadata": {},
   "outputs": [],
   "source": [
    "# function to calculate A and B from the dataset\n",
    "def OUanalytic2(data):\n",
    "    N = data.size\n",
    "    data1sq = data[0]**2\n",
    "    dataNsq = data[-1]**2\n",
    "    datasq = np.sum(data[1:-1]**2)\n",
    "    datacorr = np.sum(data[0:-1]*data[1:])\n",
    "    coef = [(N-1)*datasq,\n",
    "       (2.0-N)*datacorr,\n",
    "       -data1sq-(N+1)*datasq-dataNsq,\n",
    "       N*datacorr]\n",
    "    B=np.roots(coef)[-1]\n",
    "    Q=(data1sq+dataNsq)/(1-B**2)\n",
    "    Q=Q+datasq*(1+B**2)/(1-B**2)\n",
    "    Q=Q-datacorr*2*B/(1-B**2)\n",
    "    A = Q/N\n",
    "    P2A = -N/A**2/2\n",
    "    Btmp = B**2*(1+2*N)\n",
    "    tmp = (1+Btmp)*(data1sq+dataNsq) + (2*Btmp + N + 1 -B**4*(N-1))*datasq - 2*B*(1+B**2+2*N)*datacorr\n",
    "    P2B = -tmp/((1-B**2)**2*(data1sq+dataNsq + (1+B**2)*datasq - 2*B*datacorr))\n",
    "    PAB = (N-1)*B/A/(1-B**2)\n",
    "    dA = np.sqrt(-P2B/(P2A*P2B-PAB**2))\n",
    "    dB = np.sqrt(-P2A/(P2A*P2B-PAB**2))\n",
    "    return A,dA,B,dB\n",
    "\n",
    "def OUresult2(data,deltat):\n",
    "    A, dA, B ,dB = OUanalytic2(data)\n",
    "    tau = -deltat/np.log(B)\n",
    "    dtau = deltat*dB/B/np.log(B)**2\n",
    "    return A,dA,tau,dtau"
   ]
  },
  {
   "cell_type": "code",
   "execution_count": 4,
   "metadata": {},
   "outputs": [],
   "source": [
    "A,D = 1.0,10.0\n",
    "tau_real = A/D\n",
    "delta_t_list=np.linspace(0.001,0.2,50)\n",
    "#M=1000 # number of data sets\n",
    "N=50000 # length of data set\n",
    "#print(np.exp(-delta_t*D/A))"
   ]
  },
  {
   "cell_type": "code",
   "execution_count": 5,
   "metadata": {},
   "outputs": [],
   "source": [
    "# let us first calculate the standard deviation for each point of the acf\n",
    "# all acfs are stored in acf_all for later analysis\n",
    "\n",
    "result_Bayes_array = None\n",
    "for delta_t in delta_t_list:\n",
    "    data = langevin.time_series(A=A, D=D, delta_t=delta_t, N=N)\n",
    "    \n",
    "    results = OUresult1(data,delta_t)\n",
    "    if result_Bayes_array is None:\n",
    "        result_Bayes_array = results\n",
    "    else:\n",
    "        result_Bayes_array = np.vstack((result_Bayes_array, results))"
   ]
  },
  {
   "cell_type": "code",
   "execution_count": 6,
   "metadata": {},
   "outputs": [
    {
     "data": {
      "text/plain": [
       "[<matplotlib.lines.Line2D at 0x11284ee10>]"
      ]
     },
     "execution_count": 6,
     "metadata": {},
     "output_type": "execute_result"
    },
    {
     "data": {
      "image/png": "[encoded data removed]",
      "text/plain": [
       "<Figure size 432x288 with 1 Axes>"
      ]
     },
     "metadata": {
      "needs_background": "light"
     },
     "output_type": "display_data"
    }
   ],
   "source": [
    "plt.semilogy(delta_t_list/tau_real,result_Bayes_array.T[3])"
   ]
  },
  {
   "cell_type": "code",
   "execution_count": 7,
   "metadata": {},
   "outputs": [
    {
     "data": {
      "text/plain": [
       "[<matplotlib.lines.Line2D at 0x1226acb70>]"
      ]
     },
     "execution_count": 7,
     "metadata": {},
     "output_type": "execute_result"
    },
    {
     "data": {
      "image/png": "[encoded data removed]",
      "text/plain": [
       "<Figure size 432x288 with 1 Axes>"
      ]
     },
     "metadata": {
      "needs_background": "light"
     },
     "output_type": "display_data"
    }
   ],
   "source": [
    "plt.semilogy(delta_t_list,result_Bayes_array.T[1])"
   ]
  },
  {
   "cell_type": "code",
   "execution_count": 21,
   "metadata": {},
   "outputs": [
    {
     "name": "stdout",
     "output_type": "stream",
     "text": [
      "0.029428571428571432\n"
     ]
    }
   ],
   "source": [
    "A,D = 1.0,10.0\n",
    "tau_real = A/D\n",
    "delta_t_list=np.linspace(0.001,0.2,50)\n",
    "#M=1000 # number of data sets\n",
    "N=50000 # length of data set\n",
    "#print(np.exp(-delta_t*D/A))\n",
    "pick_delta = 7\n",
    "print(delta_t_list[pick_delta])\n",
    "data = langevin.time_series(A=A, D=D, delta_t=delta_t_list[pick_delta], N=N)"
   ]
  },
  {
   "cell_type": "code",
   "execution_count": 9,
   "metadata": {},
   "outputs": [],
   "source": [
    "# compile model for reuse\n",
    "sm = lcm.OU_DA()\n",
    "sm.samples=20000"
   ]
  },
  {
   "cell_type": "code",
   "execution_count": 10,
   "metadata": {},
   "outputs": [
    {
     "name": "stderr",
     "output_type": "stream",
     "text": [
      "Auto-assigning NUTS sampler...\n",
      "Initializing NUTS using jitter+adapt_diag...\n",
      "Multiprocess sampling (2 chains in 2 jobs)\n",
      "NUTS: [A, D]\n",
      "Sampling 2 chains: 100%|██████████| 41000/41000 [01:53<00:00, 361.00draws/s]\n",
      "There were 5 divergences after tuning. Increase `target_accept` or reparameterize.\n"
     ]
    }
   ],
   "source": [
    "trace = sm.run(x=data,\n",
    "                d_bound=5,\n",
    "                a_bound=5,\n",
    "                delta_t=delta_t_list[pick_delta],\n",
    "                N=50000)"
   ]
  },
  {
   "cell_type": "code",
   "execution_count": 11,
   "metadata": {},
   "outputs": [
    {
     "data": {
      "text/plain": [
       "array([[<matplotlib.axes._subplots.AxesSubplot object at 0x12317a668>,\n",
       "        <matplotlib.axes._subplots.AxesSubplot object at 0x1c294cc2e8>],\n",
       "       [<matplotlib.axes._subplots.AxesSubplot object at 0x1c29a51e10>,\n",
       "        <matplotlib.axes._subplots.AxesSubplot object at 0x1c294f4da0>],\n",
       "       [<matplotlib.axes._subplots.AxesSubplot object at 0x1c29159668>,\n",
       "        <matplotlib.axes._subplots.AxesSubplot object at 0x1c2934a518>]],\n",
       "      dtype=object)"
      ]
     },
     "execution_count": 11,
     "metadata": {},
     "output_type": "execute_result"
    },
    {
     "data": {
      "image/png": "[encoded data removed]",
      "text/plain": [
       "<Figure size 864x432 with 6 Axes>"
      ]
     },
     "metadata": {
      "needs_background": "light"
     },
     "output_type": "display_data"
    }
   ],
   "source": [
    "pm.traceplot(trace)"
   ]
  },
  {
   "cell_type": "code",
   "execution_count": 12,
   "metadata": {},
   "outputs": [
    {
     "name": "stdout",
     "output_type": "stream",
     "text": [
      "0.001\n"
     ]
    },
    {
     "name": "stderr",
     "output_type": "stream",
     "text": [
      "Auto-assigning NUTS sampler...\n",
      "Initializing NUTS using jitter+adapt_diag...\n",
      "Multiprocess sampling (2 chains in 2 jobs)\n",
      "NUTS: [A, D]\n",
      "Sampling 2 chains: 100%|██████████| 41000/41000 [01:55<00:00, 354.38draws/s]\n"
     ]
    },
    {
     "name": "stdout",
     "output_type": "stream",
     "text": [
      "0.005061224489795919\n"
     ]
    },
    {
     "name": "stderr",
     "output_type": "stream",
     "text": [
      "Auto-assigning NUTS sampler...\n",
      "Initializing NUTS using jitter+adapt_diag...\n",
      "Multiprocess sampling (2 chains in 2 jobs)\n",
      "NUTS: [A, D]\n",
      "Sampling 2 chains: 100%|██████████| 41000/41000 [02:14<00:00, 305.41draws/s]\n",
      "The acceptance probability does not match the target. It is 0.8799073022100451, but should be close to 0.8. Try to increase the number of tuning steps.\n"
     ]
    },
    {
     "name": "stdout",
     "output_type": "stream",
     "text": [
      "0.009122448979591836\n"
     ]
    },
    {
     "name": "stderr",
     "output_type": "stream",
     "text": [
      "Auto-assigning NUTS sampler...\n",
      "Initializing NUTS using jitter+adapt_diag...\n",
      "Multiprocess sampling (2 chains in 2 jobs)\n",
      "NUTS: [A, D]\n",
      "Sampling 2 chains: 100%|██████████| 41000/41000 [01:40<00:00, 408.83draws/s]\n",
      "There was 1 divergence after tuning. Increase `target_accept` or reparameterize.\n",
      "There were 13 divergences after tuning. Increase `target_accept` or reparameterize.\n"
     ]
    },
    {
     "name": "stdout",
     "output_type": "stream",
     "text": [
      "0.013183673469387758\n"
     ]
    },
    {
     "name": "stderr",
     "output_type": "stream",
     "text": [
      "Auto-assigning NUTS sampler...\n",
      "Initializing NUTS using jitter+adapt_diag...\n",
      "Multiprocess sampling (2 chains in 2 jobs)\n",
      "NUTS: [A, D]\n",
      "Sampling 2 chains: 100%|██████████| 41000/41000 [02:05<00:00, 326.25draws/s]\n",
      "There was 1 divergence after tuning. Increase `target_accept` or reparameterize.\n",
      "There were 2 divergences after tuning. Increase `target_accept` or reparameterize.\n"
     ]
    },
    {
     "name": "stdout",
     "output_type": "stream",
     "text": [
      "0.017244897959183676\n"
     ]
    },
    {
     "name": "stderr",
     "output_type": "stream",
     "text": [
      "Auto-assigning NUTS sampler...\n",
      "Initializing NUTS using jitter+adapt_diag...\n",
      "Multiprocess sampling (2 chains in 2 jobs)\n",
      "NUTS: [A, D]\n",
      "Sampling 2 chains: 100%|██████████| 41000/41000 [02:06<00:00, 324.46draws/s]\n",
      "There were 4 divergences after tuning. Increase `target_accept` or reparameterize.\n"
     ]
    },
    {
     "name": "stdout",
     "output_type": "stream",
     "text": [
      "0.021306122448979593\n"
     ]
    },
    {
     "name": "stderr",
     "output_type": "stream",
     "text": [
      "Auto-assigning NUTS sampler...\n",
      "Initializing NUTS using jitter+adapt_diag...\n",
      "Multiprocess sampling (2 chains in 2 jobs)\n",
      "NUTS: [A, D]\n",
      "Sampling 2 chains: 100%|██████████| 41000/41000 [01:56<00:00, 352.94draws/s]\n",
      "There were 3 divergences after tuning. Increase `target_accept` or reparameterize.\n"
     ]
    },
    {
     "name": "stdout",
     "output_type": "stream",
     "text": [
      "0.025367346938775515\n"
     ]
    },
    {
     "name": "stderr",
     "output_type": "stream",
     "text": [
      "Auto-assigning NUTS sampler...\n",
      "Initializing NUTS using jitter+adapt_diag...\n",
      "Multiprocess sampling (2 chains in 2 jobs)\n",
      "NUTS: [A, D]\n",
      "Sampling 2 chains: 100%|██████████| 41000/41000 [02:05<00:00, 327.98draws/s]\n",
      "The acceptance probability does not match the target. It is 0.9113378922210429, but should be close to 0.8. Try to increase the number of tuning steps.\n"
     ]
    },
    {
     "name": "stdout",
     "output_type": "stream",
     "text": [
      "0.029428571428571432\n"
     ]
    },
    {
     "name": "stderr",
     "output_type": "stream",
     "text": [
      "Auto-assigning NUTS sampler...\n",
      "Initializing NUTS using jitter+adapt_diag...\n",
      "Multiprocess sampling (2 chains in 2 jobs)\n",
      "NUTS: [A, D]\n",
      "Sampling 2 chains: 100%|██████████| 41000/41000 [02:08<00:00, 318.47draws/s]\n",
      "The acceptance probability does not match the target. It is 0.889284637245552, but should be close to 0.8. Try to increase the number of tuning steps.\n",
      "There was 1 divergence after tuning. Increase `target_accept` or reparameterize.\n"
     ]
    },
    {
     "name": "stdout",
     "output_type": "stream",
     "text": [
      "0.03348979591836735\n"
     ]
    },
    {
     "name": "stderr",
     "output_type": "stream",
     "text": [
      "Auto-assigning NUTS sampler...\n",
      "Initializing NUTS using jitter+adapt_diag...\n",
      "Multiprocess sampling (2 chains in 2 jobs)\n",
      "NUTS: [A, D]\n",
      "Sampling 2 chains: 100%|██████████| 41000/41000 [02:05<00:00, 325.67draws/s]\n",
      "The acceptance probability does not match the target. It is 0.8942174157086791, but should be close to 0.8. Try to increase the number of tuning steps.\n",
      "Auto-assigning NUTS sampler...\n",
      "Initializing NUTS using jitter+adapt_diag...\n"
     ]
    },
    {
     "name": "stdout",
     "output_type": "stream",
     "text": [
      "0.03755102040816327\n"
     ]
    },
    {
     "name": "stderr",
     "output_type": "stream",
     "text": [
      "Multiprocess sampling (2 chains in 2 jobs)\n",
      "NUTS: [A, D]\n",
      "Sampling 2 chains: 100%|██████████| 41000/41000 [01:40<00:00, 409.86draws/s]\n",
      "There were 4 divergences after tuning. Increase `target_accept` or reparameterize.\n",
      "There were 4 divergences after tuning. Increase `target_accept` or reparameterize.\n"
     ]
    },
    {
     "name": "stdout",
     "output_type": "stream",
     "text": [
      "0.041612244897959186\n"
     ]
    },
    {
     "name": "stderr",
     "output_type": "stream",
     "text": [
      "Auto-assigning NUTS sampler...\n",
      "Initializing NUTS using jitter+adapt_diag...\n",
      "Multiprocess sampling (2 chains in 2 jobs)\n",
      "NUTS: [A, D]\n",
      "Sampling 2 chains: 100%|██████████| 41000/41000 [01:55<00:00, 354.78draws/s]\n",
      "There were 5 divergences after tuning. Increase `target_accept` or reparameterize.\n",
      "There was 1 divergence after tuning. Increase `target_accept` or reparameterize.\n"
     ]
    },
    {
     "name": "stdout",
     "output_type": "stream",
     "text": [
      "0.04567346938775511\n"
     ]
    },
    {
     "name": "stderr",
     "output_type": "stream",
     "text": [
      "Auto-assigning NUTS sampler...\n",
      "Initializing NUTS using jitter+adapt_diag...\n",
      "Multiprocess sampling (2 chains in 2 jobs)\n",
      "NUTS: [A, D]\n",
      "Sampling 2 chains: 100%|██████████| 41000/41000 [02:02<00:00, 333.35draws/s]\n",
      "The acceptance probability does not match the target. It is 0.8882912316510289, but should be close to 0.8. Try to increase the number of tuning steps.\n",
      "There were 3 divergences after tuning. Increase `target_accept` or reparameterize.\n"
     ]
    },
    {
     "name": "stdout",
     "output_type": "stream",
     "text": [
      "0.04973469387755103\n"
     ]
    },
    {
     "name": "stderr",
     "output_type": "stream",
     "text": [
      "Auto-assigning NUTS sampler...\n",
      "Initializing NUTS using jitter+adapt_diag...\n",
      "Multiprocess sampling (2 chains in 2 jobs)\n",
      "NUTS: [A, D]\n",
      "Sampling 2 chains: 100%|██████████| 41000/41000 [02:09<00:00, 316.15draws/s]\n"
     ]
    },
    {
     "name": "stdout",
     "output_type": "stream",
     "text": [
      "0.05379591836734694\n"
     ]
    },
    {
     "name": "stderr",
     "output_type": "stream",
     "text": [
      "Auto-assigning NUTS sampler...\n",
      "Initializing NUTS using jitter+adapt_diag...\n",
      "Multiprocess sampling (2 chains in 2 jobs)\n",
      "NUTS: [A, D]\n",
      "Sampling 2 chains: 100%|██████████| 41000/41000 [01:37<00:00, 421.13draws/s]\n",
      "There were 5 divergences after tuning. Increase `target_accept` or reparameterize.\n",
      "There were 11 divergences after tuning. Increase `target_accept` or reparameterize.\n"
     ]
    },
    {
     "name": "stdout",
     "output_type": "stream",
     "text": [
      "0.057857142857142864\n"
     ]
    },
    {
     "name": "stderr",
     "output_type": "stream",
     "text": [
      "Auto-assigning NUTS sampler...\n",
      "Initializing NUTS using jitter+adapt_diag...\n",
      "Multiprocess sampling (2 chains in 2 jobs)\n",
      "NUTS: [A, D]\n",
      "Sampling 2 chains: 100%|██████████| 41000/41000 [01:35<00:00, 429.52draws/s]\n",
      "There were 3 divergences after tuning. Increase `target_accept` or reparameterize.\n",
      "There were 4 divergences after tuning. Increase `target_accept` or reparameterize.\n"
     ]
    },
    {
     "name": "stdout",
     "output_type": "stream",
     "text": [
      "0.06191836734693878\n"
     ]
    },
    {
     "name": "stderr",
     "output_type": "stream",
     "text": [
      "Auto-assigning NUTS sampler...\n",
      "Initializing NUTS using jitter+adapt_diag...\n",
      "Multiprocess sampling (2 chains in 2 jobs)\n",
      "NUTS: [A, D]\n",
      "Sampling 2 chains: 100%|██████████| 41000/41000 [02:25<00:00, 281.18draws/s]\n",
      "The acceptance probability does not match the target. It is 0.9068829188058211, but should be close to 0.8. Try to increase the number of tuning steps.\n"
     ]
    },
    {
     "name": "stdout",
     "output_type": "stream",
     "text": [
      "0.0659795918367347\n"
     ]
    },
    {
     "name": "stderr",
     "output_type": "stream",
     "text": [
      "Auto-assigning NUTS sampler...\n",
      "Initializing NUTS using jitter+adapt_diag...\n",
      "Multiprocess sampling (2 chains in 2 jobs)\n",
      "NUTS: [A, D]\n",
      "Sampling 2 chains: 100%|██████████| 41000/41000 [01:43<00:00, 395.79draws/s]\n",
      "The acceptance probability does not match the target. It is 0.8787083930926204, but should be close to 0.8. Try to increase the number of tuning steps.\n",
      "There were 12 divergences after tuning. Increase `target_accept` or reparameterize.\n"
     ]
    },
    {
     "name": "stdout",
     "output_type": "stream",
     "text": [
      "0.07004081632653061\n"
     ]
    },
    {
     "name": "stderr",
     "output_type": "stream",
     "text": [
      "Auto-assigning NUTS sampler...\n",
      "Initializing NUTS using jitter+adapt_diag...\n",
      "Multiprocess sampling (2 chains in 2 jobs)\n",
      "NUTS: [A, D]\n",
      "Sampling 2 chains: 100%|██████████| 41000/41000 [01:42<00:00, 401.61draws/s]\n",
      "There were 3 divergences after tuning. Increase `target_accept` or reparameterize.\n"
     ]
    },
    {
     "name": "stdout",
     "output_type": "stream",
     "text": [
      "0.07410204081632654\n"
     ]
    },
    {
     "name": "stderr",
     "output_type": "stream",
     "text": [
      "Auto-assigning NUTS sampler...\n",
      "Initializing NUTS using jitter+adapt_diag...\n",
      "Multiprocess sampling (2 chains in 2 jobs)\n",
      "NUTS: [A, D]\n",
      "Sampling 2 chains: 100%|██████████| 41000/41000 [01:52<00:00, 364.71draws/s]\n",
      "The acceptance probability does not match the target. It is 0.8864655028763827, but should be close to 0.8. Try to increase the number of tuning steps.\n"
     ]
    },
    {
     "name": "stdout",
     "output_type": "stream",
     "text": [
      "0.07816326530612246\n"
     ]
    },
    {
     "name": "stderr",
     "output_type": "stream",
     "text": [
      "Auto-assigning NUTS sampler...\n",
      "Initializing NUTS using jitter+adapt_diag...\n",
      "Multiprocess sampling (2 chains in 2 jobs)\n",
      "NUTS: [A, D]\n",
      "Sampling 2 chains: 100%|██████████| 41000/41000 [01:53<00:00, 360.46draws/s]\n",
      "There was 1 divergence after tuning. Increase `target_accept` or reparameterize.\n"
     ]
    },
    {
     "name": "stdout",
     "output_type": "stream",
     "text": [
      "0.08222448979591837\n"
     ]
    },
    {
     "name": "stderr",
     "output_type": "stream",
     "text": [
      "Auto-assigning NUTS sampler...\n",
      "Initializing NUTS using jitter+adapt_diag...\n",
      "Multiprocess sampling (2 chains in 2 jobs)\n",
      "NUTS: [A, D]\n",
      "Sampling 2 chains: 100%|██████████| 41000/41000 [01:51<00:00, 366.34draws/s]\n",
      "There was 1 divergence after tuning. Increase `target_accept` or reparameterize.\n",
      "The acceptance probability does not match the target. It is 0.8842155535069784, but should be close to 0.8. Try to increase the number of tuning steps.\n",
      "There was 1 divergence after tuning. Increase `target_accept` or reparameterize.\n"
     ]
    },
    {
     "name": "stdout",
     "output_type": "stream",
     "text": [
      "0.0862857142857143\n"
     ]
    },
    {
     "name": "stderr",
     "output_type": "stream",
     "text": [
      "Auto-assigning NUTS sampler...\n",
      "Initializing NUTS using jitter+adapt_diag...\n",
      "Multiprocess sampling (2 chains in 2 jobs)\n",
      "NUTS: [A, D]\n",
      "Sampling 2 chains: 100%|██████████| 41000/41000 [01:58<00:00, 346.93draws/s]\n",
      "There were 4 divergences after tuning. Increase `target_accept` or reparameterize.\n"
     ]
    },
    {
     "name": "stdout",
     "output_type": "stream",
     "text": [
      "0.09034693877551021\n"
     ]
    },
    {
     "name": "stderr",
     "output_type": "stream",
     "text": [
      "Auto-assigning NUTS sampler...\n",
      "Initializing NUTS using jitter+adapt_diag...\n",
      "Multiprocess sampling (2 chains in 2 jobs)\n",
      "NUTS: [A, D]\n",
      "Sampling 2 chains: 100%|██████████| 41000/41000 [01:41<00:00, 404.47draws/s]\n",
      "There was 1 divergence after tuning. Increase `target_accept` or reparameterize.\n",
      "There were 2 divergences after tuning. Increase `target_accept` or reparameterize.\n"
     ]
    },
    {
     "name": "stdout",
     "output_type": "stream",
     "text": [
      "0.09440816326530613\n"
     ]
    },
    {
     "name": "stderr",
     "output_type": "stream",
     "text": [
      "Auto-assigning NUTS sampler...\n",
      "Initializing NUTS using jitter+adapt_diag...\n",
      "Multiprocess sampling (2 chains in 2 jobs)\n",
      "NUTS: [A, D]\n",
      "Sampling 2 chains: 100%|██████████| 41000/41000 [01:57<00:00, 348.99draws/s]\n",
      "There was 1 divergence after tuning. Increase `target_accept` or reparameterize.\n",
      "The acceptance probability does not match the target. It is 0.8937798823098405, but should be close to 0.8. Try to increase the number of tuning steps.\n"
     ]
    },
    {
     "name": "stdout",
     "output_type": "stream",
     "text": [
      "0.09846938775510206\n"
     ]
    },
    {
     "name": "stderr",
     "output_type": "stream",
     "text": [
      "Auto-assigning NUTS sampler...\n",
      "Initializing NUTS using jitter+adapt_diag...\n",
      "Multiprocess sampling (2 chains in 2 jobs)\n",
      "NUTS: [A, D]\n",
      "Sampling 2 chains: 100%|██████████| 41000/41000 [02:44<00:00, 249.51draws/s]\n",
      "The acceptance probability does not match the target. It is 0.9008372345174621, but should be close to 0.8. Try to increase the number of tuning steps.\n",
      "There were 5 divergences after tuning. Increase `target_accept` or reparameterize.\n"
     ]
    },
    {
     "name": "stdout",
     "output_type": "stream",
     "text": [
      "0.10253061224489797\n"
     ]
    },
    {
     "name": "stderr",
     "output_type": "stream",
     "text": [
      "Auto-assigning NUTS sampler...\n",
      "Initializing NUTS using jitter+adapt_diag...\n",
      "Multiprocess sampling (2 chains in 2 jobs)\n",
      "NUTS: [A, D]\n",
      "Sampling 2 chains: 100%|██████████| 41000/41000 [01:54<00:00, 358.69draws/s]\n",
      "There were 2 divergences after tuning. Increase `target_accept` or reparameterize.\n"
     ]
    },
    {
     "name": "stdout",
     "output_type": "stream",
     "text": [
      "0.10659183673469388\n"
     ]
    },
    {
     "name": "stderr",
     "output_type": "stream",
     "text": [
      "Auto-assigning NUTS sampler...\n",
      "Initializing NUTS using jitter+adapt_diag...\n",
      "Multiprocess sampling (2 chains in 2 jobs)\n",
      "NUTS: [A, D]\n",
      "Sampling 2 chains: 100%|██████████| 41000/41000 [01:57<00:00, 348.71draws/s]\n",
      "There was 1 divergence after tuning. Increase `target_accept` or reparameterize.\n",
      "There were 4 divergences after tuning. Increase `target_accept` or reparameterize.\n"
     ]
    },
    {
     "name": "stdout",
     "output_type": "stream",
     "text": [
      "0.1106530612244898\n"
     ]
    },
    {
     "name": "stderr",
     "output_type": "stream",
     "text": [
      "Auto-assigning NUTS sampler...\n",
      "Initializing NUTS using jitter+adapt_diag...\n",
      "Multiprocess sampling (2 chains in 2 jobs)\n",
      "NUTS: [A, D]\n",
      "Sampling 2 chains: 100%|██████████| 41000/41000 [01:54<00:00, 359.08draws/s]\n",
      "The acceptance probability does not match the target. It is 0.8790575896779214, but should be close to 0.8. Try to increase the number of tuning steps.\n",
      "The acceptance probability does not match the target. It is 0.8946041956347831, but should be close to 0.8. Try to increase the number of tuning steps.\n"
     ]
    },
    {
     "name": "stdout",
     "output_type": "stream",
     "text": [
      "0.11471428571428573\n"
     ]
    },
    {
     "name": "stderr",
     "output_type": "stream",
     "text": [
      "Auto-assigning NUTS sampler...\n",
      "Initializing NUTS using jitter+adapt_diag...\n",
      "Multiprocess sampling (2 chains in 2 jobs)\n",
      "NUTS: [A, D]\n",
      "Sampling 2 chains: 100%|██████████| 41000/41000 [01:42<00:00, 401.91draws/s]\n",
      "There were 5 divergences after tuning. Increase `target_accept` or reparameterize.\n",
      "There was 1 divergence after tuning. Increase `target_accept` or reparameterize.\n"
     ]
    },
    {
     "name": "stdout",
     "output_type": "stream",
     "text": [
      "0.11877551020408164\n"
     ]
    },
    {
     "name": "stderr",
     "output_type": "stream",
     "text": [
      "Auto-assigning NUTS sampler...\n",
      "Initializing NUTS using jitter+adapt_diag...\n",
      "Multiprocess sampling (2 chains in 2 jobs)\n",
      "NUTS: [A, D]\n",
      "Sampling 2 chains: 100%|██████████| 41000/41000 [01:36<00:00, 425.96draws/s]\n",
      "There were 59 divergences after tuning. Increase `target_accept` or reparameterize.\n",
      "The acceptance probability does not match the target. It is 0.7158487601912654, but should be close to 0.8. Try to increase the number of tuning steps.\n",
      "There were 3 divergences after tuning. Increase `target_accept` or reparameterize.\n"
     ]
    },
    {
     "name": "stdout",
     "output_type": "stream",
     "text": [
      "0.12283673469387756\n"
     ]
    },
    {
     "name": "stderr",
     "output_type": "stream",
     "text": [
      "Auto-assigning NUTS sampler...\n",
      "Initializing NUTS using jitter+adapt_diag...\n",
      "Multiprocess sampling (2 chains in 2 jobs)\n",
      "NUTS: [A, D]\n",
      "Sampling 2 chains: 100%|██████████| 41000/41000 [01:52<00:00, 364.10draws/s]\n",
      "There was 1 divergence after tuning. Increase `target_accept` or reparameterize.\n"
     ]
    },
    {
     "name": "stdout",
     "output_type": "stream",
     "text": [
      "0.12689795918367347\n"
     ]
    },
    {
     "name": "stderr",
     "output_type": "stream",
     "text": [
      "Auto-assigning NUTS sampler...\n",
      "Initializing NUTS using jitter+adapt_diag...\n",
      "Multiprocess sampling (2 chains in 2 jobs)\n",
      "NUTS: [A, D]\n",
      "Sampling 2 chains: 100%|██████████| 41000/41000 [01:57<00:00, 350.10draws/s]\n",
      "There were 3 divergences after tuning. Increase `target_accept` or reparameterize.\n"
     ]
    },
    {
     "name": "stdout",
     "output_type": "stream",
     "text": [
      "0.1309591836734694\n"
     ]
    },
    {
     "name": "stderr",
     "output_type": "stream",
     "text": [
      "Auto-assigning NUTS sampler...\n",
      "Initializing NUTS using jitter+adapt_diag...\n",
      "Multiprocess sampling (2 chains in 2 jobs)\n",
      "NUTS: [A, D]\n",
      "Sampling 2 chains: 100%|██████████| 41000/41000 [01:32<00:00, 443.81draws/s]\n",
      "There were 2 divergences after tuning. Increase `target_accept` or reparameterize.\n",
      "There was 1 divergence after tuning. Increase `target_accept` or reparameterize.\n"
     ]
    },
    {
     "name": "stdout",
     "output_type": "stream",
     "text": [
      "0.13502040816326533\n"
     ]
    },
    {
     "name": "stderr",
     "output_type": "stream",
     "text": [
      "Auto-assigning NUTS sampler...\n",
      "Initializing NUTS using jitter+adapt_diag...\n",
      "Multiprocess sampling (2 chains in 2 jobs)\n",
      "NUTS: [A, D]\n",
      "Sampling 2 chains: 100%|██████████| 41000/41000 [01:58<00:00, 347.15draws/s]\n",
      "There was 1 divergence after tuning. Increase `target_accept` or reparameterize.\n",
      "There were 2 divergences after tuning. Increase `target_accept` or reparameterize.\n"
     ]
    },
    {
     "name": "stdout",
     "output_type": "stream",
     "text": [
      "0.13908163265306123\n"
     ]
    },
    {
     "name": "stderr",
     "output_type": "stream",
     "text": [
      "Auto-assigning NUTS sampler...\n",
      "Initializing NUTS using jitter+adapt_diag...\n",
      "Multiprocess sampling (2 chains in 2 jobs)\n",
      "NUTS: [A, D]\n",
      "Sampling 2 chains: 100%|██████████| 41000/41000 [01:53<00:00, 359.90draws/s]\n",
      "There were 16 divergences after tuning. Increase `target_accept` or reparameterize.\n"
     ]
    },
    {
     "name": "stdout",
     "output_type": "stream",
     "text": [
      "0.14314285714285716\n"
     ]
    },
    {
     "name": "stderr",
     "output_type": "stream",
     "text": [
      "Auto-assigning NUTS sampler...\n",
      "Initializing NUTS using jitter+adapt_diag...\n",
      "Multiprocess sampling (2 chains in 2 jobs)\n",
      "NUTS: [A, D]\n",
      "Sampling 2 chains: 100%|██████████| 41000/41000 [01:49<00:00, 374.46draws/s]\n"
     ]
    },
    {
     "name": "stdout",
     "output_type": "stream",
     "text": [
      "0.14720408163265308\n"
     ]
    },
    {
     "name": "stderr",
     "output_type": "stream",
     "text": [
      "Auto-assigning NUTS sampler...\n",
      "Initializing NUTS using jitter+adapt_diag...\n",
      "Multiprocess sampling (2 chains in 2 jobs)\n",
      "NUTS: [A, D]\n",
      "Sampling 2 chains: 100%|██████████| 41000/41000 [01:51<00:00, 368.46draws/s]\n",
      "There were 5 divergences after tuning. Increase `target_accept` or reparameterize.\n",
      "There was 1 divergence after tuning. Increase `target_accept` or reparameterize.\n"
     ]
    },
    {
     "name": "stdout",
     "output_type": "stream",
     "text": [
      "0.15126530612244898\n"
     ]
    },
    {
     "name": "stderr",
     "output_type": "stream",
     "text": [
      "Auto-assigning NUTS sampler...\n",
      "Initializing NUTS using jitter+adapt_diag...\n",
      "Multiprocess sampling (2 chains in 2 jobs)\n",
      "NUTS: [A, D]\n",
      "Sampling 2 chains: 100%|██████████| 41000/41000 [01:58<00:00, 347.33draws/s]\n",
      "There were 6 divergences after tuning. Increase `target_accept` or reparameterize.\n"
     ]
    },
    {
     "name": "stdout",
     "output_type": "stream",
     "text": [
      "0.1553265306122449\n"
     ]
    },
    {
     "name": "stderr",
     "output_type": "stream",
     "text": [
      "Auto-assigning NUTS sampler...\n",
      "Initializing NUTS using jitter+adapt_diag...\n",
      "Multiprocess sampling (2 chains in 2 jobs)\n",
      "NUTS: [A, D]\n",
      "Sampling 2 chains: 100%|██████████| 41000/41000 [02:17<00:00, 297.78draws/s]\n",
      "There was 1 divergence after tuning. Increase `target_accept` or reparameterize.\n",
      "The acceptance probability does not match the target. It is 0.8806354947789575, but should be close to 0.8. Try to increase the number of tuning steps.\n"
     ]
    },
    {
     "name": "stdout",
     "output_type": "stream",
     "text": [
      "0.15938775510204084\n"
     ]
    },
    {
     "name": "stderr",
     "output_type": "stream",
     "text": [
      "Auto-assigning NUTS sampler...\n",
      "Initializing NUTS using jitter+adapt_diag...\n",
      "Multiprocess sampling (2 chains in 2 jobs)\n",
      "NUTS: [A, D]\n",
      "Sampling 2 chains: 100%|██████████| 41000/41000 [02:10<00:00, 313.95draws/s]\n",
      "There were 2 divergences after tuning. Increase `target_accept` or reparameterize.\n"
     ]
    },
    {
     "name": "stdout",
     "output_type": "stream",
     "text": [
      "0.16344897959183674\n"
     ]
    },
    {
     "name": "stderr",
     "output_type": "stream",
     "text": [
      "Auto-assigning NUTS sampler...\n",
      "Initializing NUTS using jitter+adapt_diag...\n",
      "Multiprocess sampling (2 chains in 2 jobs)\n",
      "NUTS: [A, D]\n",
      "Sampling 2 chains: 100%|██████████| 41000/41000 [01:56<00:00, 351.21draws/s]\n",
      "There was 1 divergence after tuning. Increase `target_accept` or reparameterize.\n",
      "The acceptance probability does not match the target. It is 0.8851526474436422, but should be close to 0.8. Try to increase the number of tuning steps.\n"
     ]
    },
    {
     "name": "stdout",
     "output_type": "stream",
     "text": [
      "0.16751020408163267\n"
     ]
    },
    {
     "name": "stderr",
     "output_type": "stream",
     "text": [
      "Auto-assigning NUTS sampler...\n",
      "Initializing NUTS using jitter+adapt_diag...\n",
      "Multiprocess sampling (2 chains in 2 jobs)\n",
      "NUTS: [A, D]\n",
      "Sampling 2 chains: 100%|██████████| 41000/41000 [02:02<00:00, 333.44draws/s]\n",
      "The acceptance probability does not match the target. It is 0.9102921106827891, but should be close to 0.8. Try to increase the number of tuning steps.\n",
      "There was 1 divergence after tuning. Increase `target_accept` or reparameterize.\n"
     ]
    },
    {
     "name": "stdout",
     "output_type": "stream",
     "text": [
      "0.1715714285714286\n"
     ]
    },
    {
     "name": "stderr",
     "output_type": "stream",
     "text": [
      "Auto-assigning NUTS sampler...\n",
      "Initializing NUTS using jitter+adapt_diag...\n",
      "Multiprocess sampling (2 chains in 2 jobs)\n",
      "NUTS: [A, D]\n",
      "Sampling 2 chains: 100%|██████████| 41000/41000 [01:45<00:00, 387.35draws/s]\n",
      "There were 4 divergences after tuning. Increase `target_accept` or reparameterize.\n",
      "There were 4 divergences after tuning. Increase `target_accept` or reparameterize.\n"
     ]
    },
    {
     "name": "stdout",
     "output_type": "stream",
     "text": [
      "0.1756326530612245\n"
     ]
    },
    {
     "name": "stderr",
     "output_type": "stream",
     "text": [
      "Auto-assigning NUTS sampler...\n",
      "Initializing NUTS using jitter+adapt_diag...\n",
      "Multiprocess sampling (2 chains in 2 jobs)\n",
      "NUTS: [A, D]\n",
      "Sampling 2 chains: 100%|██████████| 41000/41000 [01:57<00:00, 348.55draws/s]\n",
      "There were 17 divergences after tuning. Increase `target_accept` or reparameterize.\n"
     ]
    },
    {
     "name": "stdout",
     "output_type": "stream",
     "text": [
      "0.17969387755102043\n"
     ]
    },
    {
     "name": "stderr",
     "output_type": "stream",
     "text": [
      "Auto-assigning NUTS sampler...\n",
      "Initializing NUTS using jitter+adapt_diag...\n",
      "Multiprocess sampling (2 chains in 2 jobs)\n",
      "NUTS: [A, D]\n",
      "Sampling 2 chains: 100%|██████████| 41000/41000 [01:55<00:00, 356.12draws/s]\n",
      "The acceptance probability does not match the target. It is 0.8894165310597935, but should be close to 0.8. Try to increase the number of tuning steps.\n",
      "There was 1 divergence after tuning. Increase `target_accept` or reparameterize.\n"
     ]
    },
    {
     "name": "stdout",
     "output_type": "stream",
     "text": [
      "0.18375510204081635\n"
     ]
    },
    {
     "name": "stderr",
     "output_type": "stream",
     "text": [
      "Auto-assigning NUTS sampler...\n",
      "Initializing NUTS using jitter+adapt_diag...\n",
      "Multiprocess sampling (2 chains in 2 jobs)\n",
      "NUTS: [A, D]\n",
      "Sampling 2 chains: 100%|██████████| 41000/41000 [02:16<00:00, 299.39draws/s]\n",
      "There was 1 divergence after tuning. Increase `target_accept` or reparameterize.\n"
     ]
    },
    {
     "name": "stdout",
     "output_type": "stream",
     "text": [
      "0.18781632653061225\n"
     ]
    },
    {
     "name": "stderr",
     "output_type": "stream",
     "text": [
      "Auto-assigning NUTS sampler...\n",
      "Initializing NUTS using jitter+adapt_diag...\n",
      "Multiprocess sampling (2 chains in 2 jobs)\n",
      "NUTS: [A, D]\n",
      "Sampling 2 chains: 100%|██████████| 41000/41000 [02:09<00:00, 316.79draws/s]\n"
     ]
    },
    {
     "name": "stdout",
     "output_type": "stream",
     "text": [
      "0.19187755102040818\n"
     ]
    },
    {
     "name": "stderr",
     "output_type": "stream",
     "text": [
      "Auto-assigning NUTS sampler...\n",
      "Initializing NUTS using jitter+adapt_diag...\n",
      "Multiprocess sampling (2 chains in 2 jobs)\n",
      "NUTS: [A, D]\n",
      "Sampling 2 chains: 100%|██████████| 41000/41000 [02:25<00:00, 166.89draws/s]\n",
      "The acceptance probability does not match the target. It is 0.8790226361459956, but should be close to 0.8. Try to increase the number of tuning steps.\n",
      "There was 1 divergence after tuning. Increase `target_accept` or reparameterize.\n",
      "The acceptance probability does not match the target. It is 0.8802053127926514, but should be close to 0.8. Try to increase the number of tuning steps.\n"
     ]
    },
    {
     "name": "stdout",
     "output_type": "stream",
     "text": [
      "0.1959387755102041\n"
     ]
    },
    {
     "name": "stderr",
     "output_type": "stream",
     "text": [
      "Auto-assigning NUTS sampler...\n",
      "Initializing NUTS using jitter+adapt_diag...\n",
      "Multiprocess sampling (2 chains in 2 jobs)\n",
      "NUTS: [A, D]\n",
      "Sampling 2 chains: 100%|██████████| 41000/41000 [02:00<00:00, 339.95draws/s]\n",
      "The acceptance probability does not match the target. It is 0.8892872662657355, but should be close to 0.8. Try to increase the number of tuning steps.\n"
     ]
    },
    {
     "name": "stdout",
     "output_type": "stream",
     "text": [
      "0.2\n"
     ]
    },
    {
     "name": "stderr",
     "output_type": "stream",
     "text": [
      "Auto-assigning NUTS sampler...\n",
      "Initializing NUTS using jitter+adapt_diag...\n",
      "Multiprocess sampling (2 chains in 2 jobs)\n",
      "NUTS: [A, D]\n",
      "Sampling 2 chains: 100%|██████████| 41000/41000 [02:15<00:00, 303.55draws/s]\n",
      "The acceptance probability does not match the target. It is 0.8974297016465723, but should be close to 0.8. Try to increase the number of tuning steps.\n"
     ]
    }
   ],
   "source": [
    "result_array = None\n",
    "for delta_t in delta_t_list:\n",
    "    print(delta_t)\n",
    "    data = langevin.time_series(A=A, D=D, delta_t=delta_t, N=N)\n",
    "    trace = sm.run(x=data,\n",
    "                d_bound=5,\n",
    "                a_bound=5,\n",
    "                delta_t=delta_t,\n",
    "                N=50000)\n",
    "    a_mean = trace['A'].mean()\n",
    "    d_mean = trace['D'].mean()\n",
    "    a_std = trace['A'].std()\n",
    "    d_std = trace['D'].std()\n",
    "    results = [a_mean,a_std,d_mean,d_std]\n",
    "    if result_array is None:\n",
    "        result_array = results\n",
    "    else:\n",
    "        result_array = np.vstack((result_array, results))"
   ]
  },
  {
   "cell_type": "code",
   "execution_count": 23,
   "metadata": {},
   "outputs": [
    {
     "data": {
      "text/plain": [
       "[<matplotlib.lines.Line2D at 0x1c2aaab588>]"
      ]
     },
     "execution_count": 23,
     "metadata": {},
     "output_type": "execute_result"
    },
    {
     "data": {
      "image/png": "[encoded data removed]",
      "text/plain": [
       "<Figure size 432x288 with 1 Axes>"
      ]
     },
     "metadata": {
      "needs_background": "light"
     },
     "output_type": "display_data"
    }
   ],
   "source": [
    "plt.semilogy(delta_t_list,result_array.T[3])"
   ]
  },
  {
   "cell_type": "code",
   "execution_count": 28,
   "metadata": {},
   "outputs": [
    {
     "data": {
      "text/plain": [
       "[<matplotlib.lines.Line2D at 0x1c2937f908>]"
      ]
     },
     "execution_count": 28,
     "metadata": {},
     "output_type": "execute_result"
    },
    {
     "data": {
      "image/png": "[encoded data removed]",
      "text/plain": [
       "<Figure size 432x288 with 1 Axes>"
      ]
     },
     "metadata": {
      "needs_background": "light"
     },
     "output_type": "display_data"
    }
   ],
   "source": [
    "plt.semilogy(delta_t_list,result_array.T[1])"
   ]
  },
  {
   "cell_type": "code",
   "execution_count": 25,
   "metadata": {},
   "outputs": [
    {
     "data": {
      "text/plain": [
       "[<matplotlib.lines.Line2D at 0x1c2773c6a0>]"
      ]
     },
     "execution_count": 25,
     "metadata": {},
     "output_type": "execute_result"
    },
    {
     "data": {
      "image/png": "[encoded data removed]",
      "text/plain": [
       "<Figure size 432x288 with 1 Axes>"
      ]
     },
     "metadata": {
      "needs_background": "light"
     },
     "output_type": "display_data"
    }
   ],
   "source": [
    "dtau = np.sqrt(result_array.T[1]**2/D**2+A**2/D**4*result_array.T[3]**2)\n",
    "plt.semilogy(delta_t_list,dtau/tau_real,\"o\")"
   ]
  },
  {
   "cell_type": "code",
   "execution_count": 30,
   "metadata": {},
   "outputs": [
    {
     "data": {
      "text/plain": [
       "<matplotlib.legend.Legend at 0x1c2cf3dc88>"
      ]
     },
     "execution_count": 30,
     "metadata": {},
     "output_type": "execute_result"
    },
    {
     "data": {
      "image/png": "[encoded data removed]",
      "text/plain": [
       "<Figure size 432x288 with 1 Axes>"
      ]
     },
     "metadata": {
      "needs_background": "light"
     },
     "output_type": "display_data"
    }
   ],
   "source": [
    "plt.semilogy(delta_t_list/tau_real,result_array.T[3]/D,\"o\",label=r\"$dD/D$\")\n",
    "plt.semilogy(delta_t_list/tau_real,result_array.T[1]/A,\"o\",label=r'$dA/A$')\n",
    "plt.semilogy(delta_t_list/tau_real,dtau/tau_real,\"o\",label=r'$d\\tau/\\tau$')\n",
    "plt.xlabel(r'$\\Delta t/\\tau$')\n",
    "plt.ylabel(\"relative error\")\n",
    "plt.legend()"
   ]
  },
  {
   "cell_type": "code",
   "execution_count": 22,
   "metadata": {},
   "outputs": [
    {
     "data": {
      "image/png": "[encoded data removed]",
      "text/plain": [
       "<Figure size 432x288 with 1 Axes>"
      ]
     },
     "metadata": {
      "needs_background": "light"
     },
     "output_type": "display_data"
    }
   ],
   "source": [
    "plt.semilogy(delta_t_list/tau_real,result_array.T[3]/D,\"o\",label=r\"$dD/D$\")\n",
    "plt.semilogy(delta_t_list/tau_real,result_array.T[1]/A,\"o\",label=r'$dA/A$')\n",
    "plt.semilogy(delta_t_list/tau_real,dtau/tau_real,\"o\",label=r'$d\\tau/\\tau$')\n",
    "plt.semilogy(delta_t_list/tau_real,result_Bayes_array.T[3]/tau_real,color=\"k\",label=r\"$d\\tau/\\tau$ ind\")\n",
    "plt.semilogy(delta_t_list/tau_real,result_Bayes_array.T[1]/A,\"-.\",color=\"k\",label=r\"$dA/A$ ind\")\n",
    "plt.xlabel(r'$\\Delta t/\\tau$')\n",
    "plt.ylabel(\"relative error\")\n",
    "plt.legend(ncol=2)\n",
    "plt.savefig(\"optimaldt_1_2.png\",format='png',dpi=300,bbox_inches='tight',facecolor=\"white\",backgroundcolor=\"white\")"
   ]
  },
  {
   "cell_type": "code",
   "execution_count": 20,
   "metadata": {},
   "outputs": [
    {
     "data": {
      "text/plain": [
       "array([0.00020344, 0.00020519, 0.00021166, 0.00022657, 0.00022972,\n",
       "       0.00024742, 0.00024324, 0.00024799, 0.00025463, 0.00026917,\n",
       "       0.00026534, 0.00027717, 0.00028167, 0.00030112, 0.00030285,\n",
       "       0.00030335, 0.00031632, 0.00033906, 0.00033467, 0.00035019,\n",
       "       0.00035765, 0.0003712 , 0.00037136, 0.00039174, 0.00040039,\n",
       "       0.00042246, 0.0004331 , 0.0004387 , 0.00044006, 0.00047104,\n",
       "       0.00046818, 0.00048961, 0.00050749, 0.00049345, 0.00053452,\n",
       "       0.00054092, 0.00053654, 0.00058534, 0.00059731, 0.00061035,\n",
       "       0.00063285, 0.00061939, 0.00066203, 0.00069503, 0.00069341,\n",
       "       0.0006882 , 0.00072869, 0.00077419, 0.00077439, 0.00079491])"
      ]
     },
     "execution_count": 20,
     "metadata": {},
     "output_type": "execute_result"
    }
   ],
   "source": [
    "result_array.T[3]"
   ]
  },
  {
   "cell_type": "code",
   "execution_count": null,
   "metadata": {},
   "outputs": [],
   "source": []
  }
 ],
 "metadata": {
  "anaconda-cloud": {},
  "kernelspec": {
   "display_name": "Python 3",
   "language": "python",
   "name": "python3"
  },
  "language_info": {
   "codemirror_mode": {
    "name": "ipython",
    "version": 3
   },
   "file_extension": ".py",
   "mimetype": "text/x-python",
   "name": "python",
   "nbconvert_exporter": "python",
   "pygments_lexer": "ipython3",
   "version": "3.6.6"
  }
 },
 "nbformat": 4,
 "nbformat_minor": 2
}
