{
 "cells": [
  {
   "cell_type": "code",
   "execution_count": 1,
   "metadata": {},
   "outputs": [
    {
     "name": "stdout",
     "output_type": "stream",
     "text": [
      "['seaborn-dark', 'seaborn-darkgrid', 'seaborn-ticks', 'fivethirtyeight', 'seaborn-whitegrid', 'classic', '_classic_test', 'fast', 'seaborn-talk', 'seaborn-dark-palette', 'seaborn-bright', 'seaborn-pastel', 'grayscale', 'seaborn-notebook', 'ggplot', 'seaborn-colorblind', 'seaborn-muted', 'seaborn', 'Solarize_Light2', 'seaborn-paper', 'bmh', 'tableau-colorblind10', 'seaborn-white', 'dark_background', 'seaborn-poster', 'seaborn-deep']\n"
     ]
    }
   ],
   "source": [
    "%matplotlib inline\n",
    "import numpy as np\n",
    "import matplotlib.pyplot as plt\n",
    "from scipy.integrate import quad\n",
    "import langevin\n",
    "import lmfit as lm\n",
    "\n",
    "SMALL_SIZE = 16\n",
    "MEDIUM_SIZE = 18\n",
    "BIGGER_SIZE = 20\n",
    "\n",
    "plt.rc('font', size=SMALL_SIZE)          # controls default text sizes\n",
    "plt.rc('axes', titlesize=SMALL_SIZE)     # fontsize of the axes title\n",
    "plt.rc('axes', labelsize=MEDIUM_SIZE)    # fontsize of the x and y labels\n",
    "plt.rc('xtick', labelsize=SMALL_SIZE)    # fontsize of the tick labels\n",
    "plt.rc('ytick', labelsize=SMALL_SIZE)    # fontsize of the tick labels\n",
    "plt.rc('legend', fontsize=SMALL_SIZE)    # legend fontsize\n",
    "plt.rc('figure', titlesize=BIGGER_SIZE)  # fontsize of the figure title\n",
    "\n",
    "SEED = 350107321 # from random.org\n",
    "np.random.seed(SEED)\n",
    "\n",
    "print(plt.style.available)\n",
    "plt.style.use('seaborn-white')"
   ]
  },
  {
   "cell_type": "code",
   "execution_count": 2,
   "metadata": {},
   "outputs": [],
   "source": [
    "# here we define the values of the physical parameters\n",
    "# all energies are in kT = 4e-21J and lengths are in micrometers\n",
    "# kappa = 10kT, sigma = 0.5 microJ/m^2, gamma = 0.1MJ/m^4, eta = 1.0mPa s\n",
    "kappa = 10\n",
    "sigma = 125\n",
    "ga = 25\n",
    "eta= 0.25\n",
    "qmin=np.sqrt(3)/10"
   ]
  },
  {
   "cell_type": "code",
   "execution_count": 3,
   "metadata": {},
   "outputs": [],
   "source": [
    "# Here we describe the system in a continuous way"
   ]
  },
  {
   "cell_type": "code",
   "execution_count": 4,
   "metadata": {},
   "outputs": [],
   "source": [
    "def gamma(q, kappa=kappa, sigma=sigma, ga=ga, eta=eta ):\n",
    "    return (kappa*q**4+sigma*q**2+ga)/(4*eta*q)"
   ]
  },
  {
   "cell_type": "code",
   "execution_count": 5,
   "metadata": {},
   "outputs": [],
   "source": [
    "def avg(q,resolution):\n",
    "    return (np.exp(-gamma(q)*resolution)-1.0+gamma(q)*resolution)/(gamma(q)**2*resolution**2)"
   ]
  },
  {
   "cell_type": "code",
   "execution_count": 6,
   "metadata": {},
   "outputs": [],
   "source": [
    "def integrant(q,t):\n",
    "    return q*np.exp(-gamma(q)*t)/(kappa*q**4+sigma*q**2+ga)*avg(q,1e-6)*np.exp(-0.25*0.5**2*q**2)"
   ]
  },
  {
   "cell_type": "code",
   "execution_count": 7,
   "metadata": {},
   "outputs": [],
   "source": [
    "time=np.logspace(-5,0,50)"
   ]
  },
  {
   "cell_type": "code",
   "execution_count": 8,
   "metadata": {},
   "outputs": [],
   "source": [
    "acf=[quad(integrant,qmin,np.inf,args=(t))[0] for t in time]"
   ]
  },
  {
   "cell_type": "code",
   "execution_count": 9,
   "metadata": {},
   "outputs": [
    {
     "data": {
      "text/plain": [
       "[<matplotlib.lines.Line2D at 0x7fc75211c828>]"
      ]
     },
     "execution_count": 9,
     "metadata": {},
     "output_type": "execute_result"
    },
    {
     "data": {
      "image/png": "[encoded data removed]",
      "text/plain": [
       "<Figure size 432x288 with 1 Axes>"
      ]
     },
     "metadata": {
      "needs_background": "light"
     },
     "output_type": "display_data"
    }
   ],
   "source": [
    "plt.semilogx(time,acf)"
   ]
  },
  {
   "cell_type": "markdown",
   "metadata": {
    "collapsed": true
   },
   "source": [
    "lets try the discrete one.  Here we assume that we have a $q_{min}$ and that $q^2=q_{x}^2+q_{y}^2$ where each $q_{x}=lq_{min}$ and $q_{y}=mq_{min}$ which results in $q_{lm}=q_{min}\\sqrt{l^2+m^2}$"
   ]
  },
  {
   "cell_type": "code",
   "execution_count": 10,
   "metadata": {},
   "outputs": [],
   "source": [
    "q_list=[np.sqrt(l**2+m**2) for l in range(0,3) for m in range(0,3)]"
   ]
  },
  {
   "cell_type": "code",
   "execution_count": 11,
   "metadata": {},
   "outputs": [
    {
     "name": "stdout",
     "output_type": "stream",
     "text": [
      "8\n",
      "[1.         1.         1.41421356 2.         2.         2.23606798\n",
      " 2.23606798 2.82842712]\n"
     ]
    }
   ],
   "source": [
    "q_list=np.array(sorted(q_list)[1:])\n",
    "print(q_list.size)\n",
    "print(q_list)\n",
    "q_list=q_list*qmin"
   ]
  },
  {
   "cell_type": "code",
   "execution_count": 12,
   "metadata": {},
   "outputs": [],
   "source": [
    "def corrfct(t,q_list):\n",
    "    corr=np.exp(-gamma(q_list)*t)/(kappa*q_list**4+sigma*q_list**2+ga)*avg(q_list,1e-6)*np.exp(-0.25*0.5**2*q_list**2)\n",
    "    return corr.sum()"
   ]
  },
  {
   "cell_type": "code",
   "execution_count": 13,
   "metadata": {},
   "outputs": [],
   "source": [
    "acf_d = np.array([corrfct(t,q_list) for t in time])"
   ]
  },
  {
   "cell_type": "code",
   "execution_count": 14,
   "metadata": {},
   "outputs": [
    {
     "data": {
      "text/plain": [
       "[<matplotlib.lines.Line2D at 0x7fc728425d30>]"
      ]
     },
     "execution_count": 14,
     "metadata": {},
     "output_type": "execute_result"
    },
    {
     "data": {
      "image/png": "[encoded data removed]",
      "text/plain": [
       "<Figure size 432x288 with 1 Axes>"
      ]
     },
     "metadata": {
      "needs_background": "light"
     },
     "output_type": "display_data"
    }
   ],
   "source": [
    "# plot correlation functions and normalize them to the same msd\n",
    "plt.semilogx(time,acf_d*acf[0]/acf_d[0])\n",
    "plt.semilogx(time,acf)"
   ]
  },
  {
   "cell_type": "code",
   "execution_count": 15,
   "metadata": {},
   "outputs": [],
   "source": [
    "delta_t = 0.00001\n",
    "def simulate_membrane(N):\n",
    "    ts_all = None\n",
    "    for q in q_list:\n",
    "        ts = langevin.time_series2(1/(kappa*q**4+sigma*q**2+ga),gamma(q),delta_t,N)\n",
    "    #    print(1/(kappa*q**4+sigma*q**2+ga),gamma(q))\n",
    "        if ts_all is None:\n",
    "            ts_all = ts\n",
    "        else:\n",
    "            ts_all = ts_all + ts\n",
    "    return ts_all\n",
    "\n",
    "ts_all=simulate_membrane(100000)"
   ]
  },
  {
   "cell_type": "code",
   "execution_count": 16,
   "metadata": {},
   "outputs": [
    {
     "data": {
      "image/png": "[encoded data removed]",
      "text/plain": [
       "<Figure size 432x288 with 1 Axes>"
      ]
     },
     "metadata": {
      "needs_background": "light"
     },
     "output_type": "display_data"
    }
   ],
   "source": [
    "plt.plot(np.arange(ts_all.size)*delta_t,ts_all,\"k\")\n",
    "plt.xlabel(\"time in sec\")\n",
    "plt.ylabel(\"displacement in µm\")\n",
    "plt.savefig(\"membrane_ts300.png\",format=\"png\",dpi=300,bbox_inches='tight',facecolor=\"white\",backgroundcolor=\"white\")"
   ]
  },
  {
   "cell_type": "code",
   "execution_count": 17,
   "metadata": {},
   "outputs": [
    {
     "data": {
      "text/plain": [
       "[<matplotlib.lines.Line2D at 0x7fc7305f13c8>]"
      ]
     },
     "execution_count": 17,
     "metadata": {},
     "output_type": "execute_result"
    },
    {
     "data": {
      "image/png": "[encoded data removed]",
      "text/plain": [
       "<Figure size 432x288 with 1 Axes>"
      ]
     },
     "metadata": {
      "needs_background": "light"
     },
     "output_type": "display_data"
    }
   ],
   "source": [
    "N = ts_all.size\n",
    "# calculate autocorrelation function\n",
    "f = np.fft.rfft(ts_all)\n",
    "acf = np.fft.irfft(f * np.conjugate(f))\n",
    "acf = np.fft.fftshift(acf) / N\n",
    "autocorr = acf[int(N / 2):]\n",
    "\n",
    "autocorr = autocorr[:20000]\n",
    "t = np.arange(autocorr.size)*delta_t\n",
    "plt.semilogx(t, autocorr,\"o\")"
   ]
  },
  {
   "cell_type": "code",
   "execution_count": 18,
   "metadata": {},
   "outputs": [],
   "source": [
    "def fitcorr(t,kappa,sigma,ga,eta):\n",
    "    corr=[np.sum(np.exp(-gamma(q_list,kappa=kappa, sigma=sigma, ga=ga, eta=eta)*tt)/(kappa*q_list**4+sigma*q_list**2+ga)) for tt in t]\n",
    "    return corr\n",
    "\n",
    "fit_corr_model=lm.Model(fitcorr)"
   ]
  },
  {
   "cell_type": "code",
   "execution_count": 19,
   "metadata": {},
   "outputs": [
    {
     "name": "stdout",
     "output_type": "stream",
     "text": [
      "[[Model]]\n",
      "    Model(fitcorr)\n",
      "[[Fit Statistics]]\n",
      "    # fitting method   = leastsq\n",
      "    # function evals   = 27\n",
      "    # data points      = 20000\n",
      "    # variables        = 1\n",
      "    chi-square         = 13.0893610\n",
      "    reduced chi-square = 6.5450e-04\n",
      "    Akaike info crit   = -146631.756\n",
      "    Bayesian info crit = -146623.852\n",
      "[[Variables]]\n",
      "    kappa:  10 (fixed)\n",
      "    sigma:  125 (fixed)\n",
      "    ga:     25 (fixed)\n",
      "    eta:    0.27417142 +/- 0.00229336 (0.84%) (init = 0.25)\n"
     ]
    },
    {
     "data": {
      "image/png": "[encoded data removed]",
      "text/plain": [
       "<Figure size 432x288 with 1 Axes>"
      ]
     },
     "metadata": {
      "needs_background": "light"
     },
     "output_type": "display_data"
    }
   ],
   "source": [
    "paramsFC = fit_corr_model.make_params()\n",
    "paramsFC['kappa'].set(value=kappa,vary=False)\n",
    "paramsFC['sigma'].set(value=sigma,vary=False)\n",
    "paramsFC['ga'].set(value=ga,vary=False)\n",
    "paramsFC['eta'].set(value=eta,vary=True)\n",
    "\n",
    "resultFC = fit_corr_model.fit(t=t,data=autocorr,params=paramsFC)\n",
    "\n",
    "plt.figure()\n",
    "plt.semilogx(t,autocorr,\"o\")\n",
    "plt.semilogx(t,resultFC.best_fit, 'k--')\n",
    "\n",
    "print(resultFC.fit_report(min_correl=0.25))"
   ]
  },
  {
   "cell_type": "code",
   "execution_count": 20,
   "metadata": {},
   "outputs": [
    {
     "name": "stdout",
     "output_type": "stream",
     "text": [
      "done with.. 0\n",
      "done with.. 1\n",
      "done with.. 2\n",
      "done with.. 3\n",
      "done with.. 4\n",
      "done with.. 5\n",
      "done with.. 6\n",
      "done with.. 7\n",
      "done with.. 8\n",
      "done with.. 9\n",
      "done with.. 10\n",
      "done with.. 11\n",
      "done with.. 12\n",
      "done with.. 13\n",
      "done with.. 14\n",
      "done with.. 15\n",
      "done with.. 16\n",
      "done with.. 17\n",
      "done with.. 18\n",
      "done with.. 19\n",
      "done with.. 20\n",
      "done with.. 21\n",
      "done with.. 22\n",
      "done with.. 23\n",
      "done with.. 24\n",
      "done with.. 25\n",
      "done with.. 26\n",
      "done with.. 27\n",
      "done with.. 28\n",
      "done with.. 29\n",
      "done with.. 30\n",
      "done with.. 31\n",
      "done with.. 32\n",
      "done with.. 33\n",
      "done with.. 34\n",
      "done with.. 35\n",
      "done with.. 36\n",
      "done with.. 37\n",
      "done with.. 38\n",
      "done with.. 39\n",
      "done with.. 40\n",
      "done with.. 41\n",
      "done with.. 42\n",
      "done with.. 43\n",
      "done with.. 44\n",
      "done with.. 45\n",
      "done with.. 46\n",
      "done with.. 47\n",
      "done with.. 48\n",
      "done with.. 49\n",
      "done with.. 50\n",
      "done with.. 51\n",
      "done with.. 52\n",
      "done with.. 53\n",
      "done with.. 54\n",
      "done with.. 55\n",
      "done with.. 56\n",
      "done with.. 57\n",
      "done with.. 58\n",
      "done with.. 59\n",
      "done with.. 60\n",
      "done with.. 61\n",
      "done with.. 62\n",
      "done with.. 63\n",
      "done with.. 64\n",
      "done with.. 65\n",
      "done with.. 66\n",
      "done with.. 67\n",
      "done with.. 68\n",
      "done with.. 69\n",
      "done with.. 70\n",
      "done with.. 71\n",
      "done with.. 72\n",
      "done with.. 73\n",
      "done with.. 74\n",
      "done with.. 75\n",
      "done with.. 76\n",
      "done with.. 77\n",
      "done with.. 78\n",
      "done with.. 79\n",
      "done with.. 80\n",
      "done with.. 81\n",
      "done with.. 82\n",
      "done with.. 83\n",
      "done with.. 84\n",
      "done with.. 85\n",
      "done with.. 86\n",
      "done with.. 87\n",
      "done with.. 88\n",
      "done with.. 89\n",
      "done with.. 90\n",
      "done with.. 91\n",
      "done with.. 92\n",
      "done with.. 93\n",
      "done with.. 94\n",
      "done with.. 95\n",
      "done with.. 96\n",
      "done with.. 97\n",
      "done with.. 98\n",
      "done with.. 99\n"
     ]
    }
   ],
   "source": [
    "gamma_list = []\n",
    "gamma_std_list = []\n",
    "N = 100000\n",
    "for i in range(100):\n",
    "    ts=simulate_membrane(N)\n",
    "    # calculate autocorrelation function\n",
    "    f = np.fft.rfft(ts)\n",
    "    acf = np.fft.irfft(f * np.conjugate(f))\n",
    "    acf = np.fft.fftshift(acf) / N\n",
    "    autocorr = acf[int(N / 2):]\n",
    "    \n",
    "    autocorr = autocorr[:20000]\n",
    "    t = np.arange(autocorr.size)*delta_t\n",
    "\n",
    "    # fit the autocorrelation function\n",
    "    paramsFC = fit_corr_model.make_params()\n",
    "    paramsFC['kappa'].set(value=kappa,vary=False)\n",
    "    paramsFC['sigma'].set(value=sigma,vary=False)\n",
    "    paramsFC['ga'].set(value=ga,vary=True)\n",
    "    paramsFC['eta'].set(value=eta,vary=False)\n",
    "\n",
    "    resultFC = fit_corr_model.fit(t=t,data=autocorr,params=paramsFC)\n",
    "\n",
    "    gamma_list.append(np.abs(resultFC.values['ga']))\n",
    "    gamma_std_list.append(resultFC.covar[0][0])\n",
    "    print(\"done with..\",i)\n",
    "    \n",
    "gamma_list = np.array(gamma_list)\n",
    "gamma_std_list = np.array(gamma_std_list)"
   ]
  },
  {
   "cell_type": "code",
   "execution_count": 21,
   "metadata": {},
   "outputs": [
    {
     "name": "stderr",
     "output_type": "stream",
     "text": [
      "/Users/hstrey/anaconda3/envs/pymc3/lib/python3.6/site-packages/ipykernel_launcher.py:1: MatplotlibDeprecationWarning: \n",
      "The 'normed' kwarg was deprecated in Matplotlib 2.1 and will be removed in 3.1. Use 'density' instead.\n",
      "  \"\"\"Entry point for launching an IPython kernel.\n"
     ]
    },
    {
     "data": {
      "text/plain": [
       "(0.03, 0.18)"
      ]
     },
     "execution_count": 21,
     "metadata": {},
     "output_type": "execute_result"
    },
    {
     "data": {
      "image/png": "[encoded data removed]",
      "text/plain": [
       "<Figure size 432x288 with 1 Axes>"
      ]
     },
     "metadata": {
      "needs_background": "light"
     },
     "output_type": "display_data"
    }
   ],
   "source": [
    "plt.hist(gamma_list*4/1000, bins=12,color=\"k\",normed=True)\n",
    "plt.ylabel(r\"p($\\gamma$)\")\n",
    "plt.xlabel(r\"$\\gamma$ in $MJ/m^{4}$\")\n",
    "plt.xlim((0.03,0.18))\n",
    "#plt.savefig(\"membrane_gamma300.png\",format=\"png\",dpi=300,bbox_inches='tight',facecolor=\"white\",backgroundcolor=\"white\")"
   ]
  },
  {
   "cell_type": "code",
   "execution_count": 22,
   "metadata": {},
   "outputs": [
    {
     "name": "stdout",
     "output_type": "stream",
     "text": [
      "0.01072736905533967 4.98264007400951 26.027704926927523\n"
     ]
    }
   ],
   "source": [
    "print(gamma_std_list.mean(),gamma_list.std(),gamma_list.mean())"
   ]
  },
  {
   "cell_type": "code",
   "execution_count": 23,
   "metadata": {},
   "outputs": [
    {
     "name": "stdout",
     "output_type": "stream",
     "text": [
      "0.04290947622135868 19.93056029603804 104.11081970771009\n"
     ]
    }
   ],
   "source": [
    "print(4*gamma_std_list.mean(),4*gamma_list.std(),4*gamma_list.mean())"
   ]
  },
  {
   "cell_type": "code",
   "execution_count": 24,
   "metadata": {},
   "outputs": [
    {
     "name": "stdout",
     "output_type": "stream",
     "text": [
      "464.479225829314\n"
     ]
    }
   ],
   "source": [
    "print(gamma_list.std()/gamma_std_list.mean())"
   ]
  },
  {
   "cell_type": "code",
   "execution_count": 25,
   "metadata": {},
   "outputs": [
    {
     "name": "stdout",
     "output_type": "stream",
     "text": [
      "400.0\n"
     ]
    }
   ],
   "source": [
    "print(0.024/6e-5)"
   ]
  },
  {
   "cell_type": "code",
   "execution_count": 26,
   "metadata": {},
   "outputs": [
    {
     "name": "stdout",
     "output_type": "stream",
     "text": [
      "simulated  0\n",
      "simulated  1\n",
      "simulated  2\n",
      "simulated  3\n",
      "simulated  4\n",
      "simulated  5\n",
      "simulated  6\n",
      "simulated  7\n",
      "simulated  8\n",
      "simulated  9\n",
      "simulated  10\n",
      "simulated  11\n",
      "simulated  12\n",
      "simulated  13\n",
      "simulated  14\n",
      "simulated  15\n",
      "simulated  16\n",
      "simulated  17\n",
      "simulated  18\n",
      "simulated  19\n",
      "simulated  20\n",
      "simulated  21\n",
      "simulated  22\n",
      "simulated  23\n",
      "simulated  24\n",
      "simulated  25\n",
      "simulated  26\n",
      "simulated  27\n",
      "simulated  28\n",
      "simulated  29\n",
      "simulated  30\n",
      "simulated  31\n",
      "simulated  32\n",
      "simulated  33\n",
      "simulated  34\n",
      "simulated  35\n",
      "simulated  36\n",
      "simulated  37\n",
      "simulated  38\n",
      "simulated  39\n",
      "simulated  40\n",
      "simulated  41\n",
      "simulated  42\n",
      "simulated  43\n",
      "simulated  44\n",
      "simulated  45\n",
      "simulated  46\n",
      "simulated  47\n",
      "simulated  48\n",
      "simulated  49\n",
      "simulated  50\n",
      "simulated  51\n",
      "simulated  52\n",
      "simulated  53\n",
      "simulated  54\n",
      "simulated  55\n",
      "simulated  56\n",
      "simulated  57\n",
      "simulated  58\n",
      "simulated  59\n",
      "simulated  60\n",
      "simulated  61\n",
      "simulated  62\n",
      "simulated  63\n",
      "simulated  64\n",
      "simulated  65\n",
      "simulated  66\n",
      "simulated  67\n",
      "simulated  68\n",
      "simulated  69\n",
      "simulated  70\n",
      "simulated  71\n",
      "simulated  72\n",
      "simulated  73\n",
      "simulated  74\n",
      "simulated  75\n",
      "simulated  76\n",
      "simulated  77\n",
      "simulated  78\n",
      "simulated  79\n",
      "simulated  80\n",
      "simulated  81\n",
      "simulated  82\n",
      "simulated  83\n",
      "simulated  84\n",
      "simulated  85\n",
      "simulated  86\n",
      "simulated  87\n",
      "simulated  88\n",
      "simulated  89\n",
      "simulated  90\n",
      "simulated  91\n",
      "simulated  92\n",
      "simulated  93\n",
      "simulated  94\n",
      "simulated  95\n",
      "simulated  96\n",
      "simulated  97\n",
      "simulated  98\n",
      "simulated  99\n"
     ]
    }
   ],
   "source": [
    "acf_all=None\n",
    "N = 100000\n",
    "for i in range(100):\n",
    "    print(\"simulated \",i)\n",
    "    ts=simulate_membrane(N)\n",
    "    # calculate autocorrelation function\n",
    "    f = np.fft.rfft(ts)\n",
    "    acf = np.fft.irfft(f * np.conjugate(f))\n",
    "    acf = np.fft.fftshift(acf) / N\n",
    "    autocorr = acf[int(N / 2):]\n",
    "    \n",
    "    autocorr = autocorr[:20000]\n",
    "    t = np.arange(autocorr.size)*delta_t\n",
    "    \n",
    "    if acf_all is None:\n",
    "        acf_all = autocorr\n",
    "    else:\n",
    "        acf_all = np.vstack((acf_all, autocorr))\n",
    "        \n",
    "acf_std = np.std(acf_all, axis=0)\n",
    "acf_mean = np.mean(acf_all, axis=0)"
   ]
  },
  {
   "cell_type": "code",
   "execution_count": 31,
   "metadata": {},
   "outputs": [
    {
     "data": {
      "text/plain": [
       "<ErrorbarContainer object of 3 artists>"
      ]
     },
     "execution_count": 31,
     "metadata": {},
     "output_type": "execute_result"
    },
    {
     "data": {
      "image/png": "[encoded data removed]",
      "text/plain": [
       "<Figure size 432x288 with 1 Axes>"
      ]
     },
     "metadata": {
      "needs_background": "light"
     },
     "output_type": "display_data"
    }
   ],
   "source": [
    "plt.errorbar(t,acf_mean,yerr=acf_std)"
   ]
  },
  {
   "cell_type": "code",
   "execution_count": 27,
   "metadata": {},
   "outputs": [
    {
     "name": "stderr",
     "output_type": "stream",
     "text": [
      "100%|██████████| 1000/1000 [10:34:30<00:00, 38.07s/it]\n"
     ]
    },
    {
     "name": "stdout",
     "output_type": "stream",
     "text": [
      "[[Variables]]\n",
      "    kappa:  10 (fixed)\n",
      "    sigma:  125 (fixed)\n",
      "    ga:     28.9101353 +/- 0.13163437 (0.46%) (init = 25)\n",
      "    eta:    0.25 (fixed)\n"
     ]
    },
    {
     "ename": "NameError",
     "evalue": "name 'dg_list2' is not defined",
     "output_type": "error",
     "traceback": [
      "\u001b[0;31m---------------------------------------------------------------------------\u001b[0m",
      "\u001b[0;31mNameError\u001b[0m                                 Traceback (most recent call last)",
      "\u001b[0;32m<ipython-input-27-24fd3db35144>\u001b[0m in \u001b[0;36m<module>\u001b[0;34m\u001b[0m\n\u001b[1;32m     36\u001b[0m     \u001b[0mg_list\u001b[0m\u001b[0;34m.\u001b[0m\u001b[0mappend\u001b[0m\u001b[0;34m(\u001b[0m\u001b[0mresult\u001b[0m\u001b[0;34m.\u001b[0m\u001b[0mparams\u001b[0m\u001b[0;34m.\u001b[0m\u001b[0mvaluesdict\u001b[0m\u001b[0;34m(\u001b[0m\u001b[0;34m)\u001b[0m\u001b[0;34m[\u001b[0m\u001b[0;34m'ga'\u001b[0m\u001b[0;34m]\u001b[0m\u001b[0;34m)\u001b[0m\u001b[0;34m\u001b[0m\u001b[0;34m\u001b[0m\u001b[0m\n\u001b[1;32m     37\u001b[0m     \u001b[0mdg_list\u001b[0m\u001b[0;34m.\u001b[0m\u001b[0mappend\u001b[0m\u001b[0;34m(\u001b[0m\u001b[0mnp\u001b[0m\u001b[0;34m.\u001b[0m\u001b[0msqrt\u001b[0m\u001b[0;34m(\u001b[0m\u001b[0mresult\u001b[0m\u001b[0;34m.\u001b[0m\u001b[0mcovar\u001b[0m\u001b[0;34m[\u001b[0m\u001b[0;36m0\u001b[0m\u001b[0;34m,\u001b[0m\u001b[0;36m0\u001b[0m\u001b[0;34m]\u001b[0m\u001b[0;34m)\u001b[0m\u001b[0;34m)\u001b[0m\u001b[0;34m\u001b[0m\u001b[0;34m\u001b[0m\u001b[0m\n\u001b[0;32m---> 38\u001b[0;31m     \u001b[0mprint\u001b[0m\u001b[0;34m(\u001b[0m\u001b[0mg_list\u001b[0m\u001b[0;34m[\u001b[0m\u001b[0;34m-\u001b[0m\u001b[0;36m1\u001b[0m\u001b[0;34m]\u001b[0m\u001b[0;34m,\u001b[0m\u001b[0mdg_list2\u001b[0m\u001b[0;34m[\u001b[0m\u001b[0;34m-\u001b[0m\u001b[0;36m1\u001b[0m\u001b[0;34m]\u001b[0m\u001b[0;34m)\u001b[0m\u001b[0;34m\u001b[0m\u001b[0;34m\u001b[0m\u001b[0m\n\u001b[0m\u001b[1;32m     39\u001b[0m \u001b[0;34m\u001b[0m\u001b[0m\n\u001b[1;32m     40\u001b[0m     \u001b[0mgS_list\u001b[0m\u001b[0;34m.\u001b[0m\u001b[0mappend\u001b[0m\u001b[0;34m(\u001b[0m\u001b[0mres\u001b[0m\u001b[0;34m.\u001b[0m\u001b[0mflatchain\u001b[0m\u001b[0;34m[\u001b[0m\u001b[0;34m'ga'\u001b[0m\u001b[0;34m]\u001b[0m\u001b[0;34m.\u001b[0m\u001b[0mmean\u001b[0m\u001b[0;34m(\u001b[0m\u001b[0;34m)\u001b[0m\u001b[0;34m)\u001b[0m\u001b[0;34m\u001b[0m\u001b[0;34m\u001b[0m\u001b[0m\n",
      "\u001b[0;31mNameError\u001b[0m: name 'dg_list2' is not defined"
     ]
    }
   ],
   "source": [
    "g_list=[]\n",
    "dg_list=[]\n",
    "\n",
    "gS_list=[]\n",
    "dgS_list=[]\n",
    "\n",
    "def residual(pars, x, data=None, eps=None):\n",
    "    # unpack parameters: extract .value attribute for each parameter\n",
    "    parvals = pars.valuesdict()\n",
    "    ga = parvals['ga']\n",
    "    kappa = parvals['kappa']\n",
    "    sigma = parvals['sigma']\n",
    "    eta = parvals['eta']\n",
    "\n",
    "    model = fitcorr(x,kappa,sigma,ga,eta)\n",
    "\n",
    "    if data is None:\n",
    "        return model\n",
    "    if eps is None:\n",
    "        return model - data\n",
    "    return (model-data) / eps\n",
    "\n",
    "for y in acf_all:\n",
    "    pars = lm.Parameters()\n",
    "    pars.add('kappa', value=kappa, vary=False)\n",
    "    pars.add('sigma', value=sigma, vary=False)\n",
    "    pars.add('ga', value=ga, vary=True)\n",
    "    pars.add('eta', value=eta, vary=False)\n",
    " \n",
    "    result = lm.minimize(residual, pars,kws = {'x':t,'data':y,'eps':acf_std})\n",
    "    #result.params.add('__lnsigma', value=np.log(0.1), min=np.log(0.001), max=np.log(2))\n",
    "    res = lm.minimize(residual, kws = {'x':t,'data':y,'eps':acf_std},method='emcee', nan_policy='omit', burn=300, steps=1000, thin=20,\n",
    "                     params=result.params)\n",
    "\n",
    "    print(lm.fit_report(result.params))\n",
    "    g_list.append(result.params.valuesdict()['ga'])\n",
    "    dg_list.append(np.sqrt(result.covar[0,0]))\n",
    "    print(g_list[-1],dg_list[-1])\n",
    "\n",
    "    gS_list.append(res.flatchain['ga'].mean())\n",
    "    dgS_list.append(res.flatchain['ga'].mean())\n",
    "    print(gS_list[-1],dgS_list[-1])\n",
    "    \n"
   ]
  },
  {
   "cell_type": "code",
   "execution_count": 28,
   "metadata": {},
   "outputs": [],
   "source": [
    "gS_list.append(res.flatchain['ga'].mean())\n",
    "dgS_list.append(res.flatchain['ga'].mean())"
   ]
  },
  {
   "cell_type": "code",
   "execution_count": 29,
   "metadata": {},
   "outputs": [
    {
     "name": "stdout",
     "output_type": "stream",
     "text": [
      "28.91013532789121 0.13163437031611613\n"
     ]
    }
   ],
   "source": [
    "print(g_list[-1],dg_list[-1])"
   ]
  },
  {
   "cell_type": "code",
   "execution_count": 30,
   "metadata": {},
   "outputs": [
    {
     "name": "stdout",
     "output_type": "stream",
     "text": [
      "28.916058902756763 28.916058902756763\n"
     ]
    }
   ],
   "source": [
    "print(gS_list[-1],dgS_list[-1])"
   ]
  },
  {
   "cell_type": "code",
   "execution_count": null,
   "metadata": {},
   "outputs": [],
   "source": []
  }
 ],
 "metadata": {
  "anaconda-cloud": {},
  "kernelspec": {
   "display_name": "Python 3",
   "language": "python",
   "name": "python3"
  },
  "language_info": {
   "codemirror_mode": {
    "name": "ipython",
    "version": 3
   },
   "file_extension": ".py",
   "mimetype": "text/x-python",
   "name": "python",
   "nbconvert_exporter": "python",
   "pygments_lexer": "ipython3",
   "version": "3.6.9"
  }
 },
 "nbformat": 4,
 "nbformat_minor": 1
}
