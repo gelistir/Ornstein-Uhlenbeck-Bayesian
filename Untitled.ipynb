{
 "cells": [
  {
   "cell_type": "code",
   "execution_count": 1,
   "metadata": {},
   "outputs": [
    {
     "name": "stderr",
     "output_type": "stream",
     "text": [
      "┌ Info: Precompiling Distributions [31c24e10-a181-5473-b8eb-7969acd0382f]\n",
      "└ @ Base loading.jl:1273\n",
      "┌ Info: Precompiling Turing [fce5fe82-541a-59a6-adf8-730c64b5f9a0]\n",
      "└ @ Base loading.jl:1273\n"
     ]
    },
    {
     "name": "stdout",
     "output_type": "stream",
     "text": [
      "  Building Libtask → `~/.julia/packages/Libtask/RjRkK/deps/build.log`\n"
     ]
    },
    {
     "name": "stderr",
     "output_type": "stream",
     "text": [
      "┌ Info: Precompiling StatsPlots [f3b207a7-027a-5e70-b257-86293d7955fd]\n",
      "└ @ Base loading.jl:1273\n"
     ]
    }
   ],
   "source": [
    "using Distributions\n",
    "using Turing\n",
    "using StatsPlots"
   ]
  },
  {
   "cell_type": "code",
   "execution_count": 2,
   "metadata": {},
   "outputs": [],
   "source": [
    "# here we define the values of the physical parameters\n",
    "# all energies are in kT = 4e-21J and lengths are in micrometers\n",
    "# kappa = 10kT, sigma = 0.5 microJ/m^2, gamma = 0.1MJ/m^4, eta = 1.0mPa s\n",
    "# kappa = 10.0\n",
    "# sigma = 125.0\n",
    "# ga = 25.0\n",
    "# eta= 0.25\n",
    "# qmin=sqrt(3)/10"
   ]
  },
  {
   "cell_type": "code",
   "execution_count": 3,
   "metadata": {},
   "outputs": [
    {
     "data": {
      "text/plain": [
       "gam (generic function with 5 methods)"
      ]
     },
     "execution_count": 3,
     "metadata": {},
     "output_type": "execute_result"
    }
   ],
   "source": [
    "function gam(q, kappa=10.0, sigma=125.0, ga=25.0, eta=0.25 )\n",
    "    (kappa*q^4+sigma*q^2+ga)/(4*eta*q)\n",
    "end"
   ]
  },
  {
   "cell_type": "code",
   "execution_count": 8,
   "metadata": {},
   "outputs": [
    {
     "data": {
      "text/plain": [
       "#3 (generic function with 1 method)"
      ]
     },
     "execution_count": 8,
     "metadata": {},
     "output_type": "execute_result"
    }
   ],
   "source": [
    "function(q,resolution)\n",
    "    (exp(-gamma(q)*resolution)-1.0+gamma(q)*resolution)/(gamma(q)^2*resolution^2)\n",
    "end"
   ]
  },
  {
   "cell_type": "code",
   "execution_count": 9,
   "metadata": {},
   "outputs": [
    {
     "data": {
      "text/plain": [
       "integrant (generic function with 1 method)"
      ]
     },
     "execution_count": 9,
     "metadata": {},
     "output_type": "execute_result"
    }
   ],
   "source": [
    "function integrant(q,t)\n",
    "    q*np.exp(-gamma(q)*t)/(kappa*q^4+sigma*q^2+ga)*avg(q,1e-6)*np.exp(-0.25*0.5^2*q^2)\n",
    "end"
   ]
  },
  {
   "cell_type": "code",
   "execution_count": null,
   "metadata": {},
   "outputs": [],
   "source": []
  }
 ],
 "metadata": {
  "kernelspec": {
   "display_name": "Julia 1.3.0-rc4",
   "language": "julia",
   "name": "julia-1.3"
  },
  "language_info": {
   "file_extension": ".jl",
   "mimetype": "application/julia",
   "name": "julia",
   "version": "1.3.0"
  }
 },
 "nbformat": 4,
 "nbformat_minor": 2
}
